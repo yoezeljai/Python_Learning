{
 "cells": [
  {
   "cell_type": "markdown",
   "id": "b10175ad-e6b6-4c21-b71c-f87c4228033e",
   "metadata": {},
   "source": [
    "# Problem 1: Circle Area Calculator\n",
    "Create a class Circle with a constructor that takes the radius as input. Implement an instance method area() that returns the area of the circle rounded to 2 decimal places. \n",
    "\n",
    "Take the value of **pi** as **math.pi**\n",
    "\n",
    "**Input Format:**\n",
    "A float: radius\n",
    "\n",
    "**Output Format:**\n",
    "A float: area of the circle, rounded to 2 decimal places\n",
    "\n",
    "**Sample Input:**\n",
    "3\n",
    "\n",
    "**Sample Output:**\n",
    "28.27"
   ]
  },
  {
   "cell_type": "code",
   "execution_count": 22,
   "id": "1e62ea4c-e41d-48f1-9ee9-fb93f226796c",
   "metadata": {},
   "outputs": [
    {
     "name": "stdin",
     "output_type": "stream",
     "text": [
      " 3\n"
     ]
    },
    {
     "name": "stdout",
     "output_type": "stream",
     "text": [
      "28.27\n"
     ]
    }
   ],
   "source": [
    "import math\n",
    "\n",
    "r = float(input())\n",
    "\n",
    "class Circle:\n",
    "    def __init__(self, radius: float):\n",
    "        self.radius = radius\n",
    "\n",
    "    def area(self) -> float:\n",
    "        return round(math.pi * (self.radius ** 2), 2)\n",
    "\n",
    "circle = Circle(r)\n",
    "print(circle.area())"
   ]
  },
  {
   "cell_type": "markdown",
   "id": "5baf9031-1dea-400d-850e-edc03764db4d",
   "metadata": {},
   "source": [
    "# Problem 2 : Positive Number Validation\n",
    "You are required to implement a class **Validator** with a static method **is_positive(n)** that returns **True** if the given number n is positive (greater than 0), and **False** otherwise.\n",
    "\n",
    "This exercise reinforces the use of **static methods** in Python classes. A static method is defined using the **@staticmethod** decorator and does not depend on instance-specific data.\n",
    "\n",
    "**Input Format:**\n",
    "A single integer n is provided as input\n",
    "\n",
    "**Output Format:**\n",
    "Print **True** if the number is positive, otherwise print **False**\n",
    "\n",
    "**Sample Input 1:**\n",
    "-5\n",
    "**Sample Output 1:**\n",
    "False\n",
    "\n",
    "**Sample Input 2:**\n",
    "10\n",
    "**Sample Output 2:**\n",
    "True\n",
    "\n",
    "**Sample Input 3:**\n",
    "0\n",
    "**Sample Output 3:**\n",
    "False"
   ]
  },
  {
   "cell_type": "code",
   "execution_count": 34,
   "id": "cccd8196-7565-4cd9-86e5-f26de6e01c97",
   "metadata": {},
   "outputs": [
    {
     "name": "stdin",
     "output_type": "stream",
     "text": [
      " -5\n"
     ]
    },
    {
     "name": "stdout",
     "output_type": "stream",
     "text": [
      "False\n"
     ]
    }
   ],
   "source": [
    "# Taking Input\n",
    "n = int(input())\n",
    "\n",
    "class Validator:\n",
    "    \n",
    "    @staticmethod\n",
    "    def is_positive(n):\n",
    "        return n>0 #This will return Ture if n>0 , else False\n",
    "\n",
    "print(Validator.is_positive(n))"
   ]
  },
  {
   "cell_type": "code",
   "execution_count": 24,
   "id": "296cc386-5c29-46ed-91b9-33b698b7ca2b",
   "metadata": {},
   "outputs": [
    {
     "data": {
      "text/plain": [
       "True"
      ]
     },
     "execution_count": 24,
     "metadata": {},
     "output_type": "execute_result"
    }
   ],
   "source": [
    "Validator.is_positive(10)"
   ]
  },
  {
   "cell_type": "markdown",
   "id": "3594f528-4307-43e6-9d8e-85eb862222f8",
   "metadata": {},
   "source": [
    "# Problem 3 : Rectangle Comparison\n",
    "\n",
    "You are required to define a class Rectangle that represents a **rectangle** using its width and height. The class should have a method **area()** that returns the area of the rectangle.\n",
    "\n",
    "After defining the class, your program should:\n",
    "1. Read two pairs of integers from input, where each pair represents the width and height of a rectangle.\n",
    "2. Create two Rectangle objects using the given dimensions.\n",
    "3. Compare the areas of the two rectangles and print:\n",
    "    - **\"Rect1\"** if the first rectangle has a larger area,\n",
    "    - **\"Rect2\"** if the second rectangle has a larger area,\n",
    "    - **\"Equal\"** if both have the same area.\n",
    "\n",
    "**Input Format:**\n",
    "- Two lines of input.\n",
    "- Each line contains two integers: width and height of one rectangle.\n",
    "\n",
    "**Output Format:**\n",
    "A single line: \"Rect1\", \"Rect2\", or \"Equal\" depending on the comparison of the two rectangles' areas.\n",
    "\n",
    "**Sample Input 1:**\n",
    "\n",
    "3 4\n",
    "\n",
    "2 6\n",
    "\n",
    "**Sample Output 1:**\n",
    "Equal\n",
    "\n",
    "**Sample Input 2:**\n",
    "\n",
    "5 2\n",
    "\n",
    "4 3\n",
    "\n",
    "**Sample Output 2:**\n",
    "Rect2\n",
    "\n",
    "**Sample Input 3:**\n",
    "\n",
    "7 3\n",
    "\n",
    "2 9\n",
    "\n",
    "**Sample Output 3:**\n",
    "Rect1"
   ]
  },
  {
   "cell_type": "code",
   "execution_count": 35,
   "id": "b2aefc66-0682-4d46-bf75-b037a6fc5d32",
   "metadata": {},
   "outputs": [
    {
     "name": "stdin",
     "output_type": "stream",
     "text": [
      " 3 4\n",
      " 2 6\n"
     ]
    },
    {
     "name": "stdout",
     "output_type": "stream",
     "text": [
      "Equal\n"
     ]
    }
   ],
   "source": [
    "# Input has been taken for you\n",
    "w1, h1 = map(int, input().split())\n",
    "w2, h2 = map(int, input().split())\n",
    "\n",
    "class Rectangle:\n",
    "    def __init__(self, width, height):\n",
    "        self.width = width\n",
    "        self.height = height\n",
    "\n",
    "    def area(self):\n",
    "        return self.width*self.height\n",
    "\n",
    "# Write your comparison logic here\n",
    "rect1 = Rectangle(w1,h1)\n",
    "rect2 = Rectangle(w2,h2)\n",
    "\n",
    "area1 = rect1.area()\n",
    "area2 = rect2.area()\n",
    "\n",
    "if area1>area2:\n",
    "    print('Rect1')\n",
    "elif area2>area1:\n",
    "    print('Rect2')\n",
    "else:\n",
    "    print('Equal')"
   ]
  },
  {
   "cell_type": "markdown",
   "id": "0152e4d2-1ffb-4c3a-97ce-334a0e686c12",
   "metadata": {},
   "source": [
    "# Problem 4 : Multipurpose Calculator\n",
    "You are required to implement a class **Calculator** with the following methods:\n",
    "- An instance method add(x, y) that returns the sum of x and y\n",
    "- A class method identity() that returns the string \"I'm a Calculator\"\n",
    "- A static method greet() that returns the string \"Hello\"\n",
    "\n",
    "**Input Format:**\n",
    "Two integers, each on a separate line.\n",
    "\n",
    "**Output Format:**\n",
    "\n",
    "Three lines of output:\n",
    "\n",
    "The sum of the two integers.\n",
    "\n",
    "The identity string.\n",
    "\n",
    "The greet string.\n",
    "\n",
    "\n",
    "**Sample Input:**\n",
    "\n",
    "4\n",
    "\n",
    "5\n",
    "\n",
    "**Sample Output:**\n",
    "\n",
    "9  \n",
    "\n",
    "I'm a Calculator  \n",
    "\n",
    "Hello"
   ]
  },
  {
   "cell_type": "code",
   "execution_count": 29,
   "id": "f4203773-7382-45fa-8def-dcae803c18df",
   "metadata": {},
   "outputs": [
    {
     "name": "stdin",
     "output_type": "stream",
     "text": [
      " 4\n",
      " 5\n"
     ]
    },
    {
     "name": "stdout",
     "output_type": "stream",
     "text": [
      "9\n",
      "I'm a Calculator\n",
      "Hello\n"
     ]
    }
   ],
   "source": [
    "# Input has been taken for you\n",
    "x = int(input())\n",
    "y = int(input())\n",
    "\n",
    "class Calculator:\n",
    "    \n",
    "    def add(self,x,y): #This is instance method\n",
    "        return x+y \n",
    "    \n",
    "    @classmethod    # This is a class method\n",
    "    def identity(cls):\n",
    "        return \"I'm a Calculator\"\n",
    "    @staticmethod    # This is a static menthod\n",
    "    def greet():\n",
    "        return 'Hello'\n",
    "\n",
    "# Expected method calls and printing of results\n",
    "calc = Calculator()\n",
    "print(calc.add(x, y))\n",
    "print(Calculator.identity())\n",
    "print(Calculator.greet())"
   ]
  },
  {
   "cell_type": "markdown",
   "id": "17d08499-c3e6-45ba-865d-1aff00b09d71",
   "metadata": {},
   "source": [
    "# Problem 5: Bank Account with Balance\n",
    "Create a **BankAccount** class with:\n",
    "- a constructor that takes name and balance\n",
    "- an instance method show_balance() that prints: \"Name: <name>, Balance: <balance>\"\n",
    "\n",
    "**Input Format:**\n",
    "- Line 1: A string (name)\n",
    "- Line 2: A float (balance)\n",
    "\n",
    "**Output Format:**\n",
    "\n",
    "A single line:\n",
    "\n",
    "\"Name: <name>, Balance: <balance>\" \n",
    "\n",
    "**Sample Input 1:**\n",
    "\n",
    "John\n",
    "\n",
    "2500.5\n",
    "\n",
    "**Sample Output 1:**\n",
    "\n",
    "Name: John, Balance: 2500.5\n",
    "\n",
    "\n",
    "**Sample Input 2:**\n",
    "\n",
    "Charlie\n",
    "\n",
    "-150.75\n",
    "\n",
    "**Sample Output 2:**\n",
    "\n",
    "Name: Charlie, Balance: -150.75"
   ]
  },
  {
   "cell_type": "code",
   "execution_count": 30,
   "id": "9e645f21-18bb-4a83-a187-83160684a826",
   "metadata": {},
   "outputs": [
    {
     "name": "stdin",
     "output_type": "stream",
     "text": [
      " JP\n",
      " 2500.5\n"
     ]
    },
    {
     "name": "stdout",
     "output_type": "stream",
     "text": [
      "Name: JP, Balance: 2500.5\n"
     ]
    }
   ],
   "source": [
    "#Taking Inputs\n",
    "name = input()\n",
    "balance = float(input())\n",
    "\n",
    "class BankAccount:\n",
    "   \n",
    "    def __init__(self,name,balance):\n",
    "        self.name = name\n",
    "        self.balance = balance\n",
    "    \n",
    "    def show_balance(self):\n",
    "        print(f'Name: {self.name}, Balance: {self.balance}')\n",
    "    \n",
    "# Create object and print result\n",
    "account = BankAccount(name,balance)\n",
    "account.show_balance()"
   ]
  },
  {
   "cell_type": "markdown",
   "id": "ed955d76-bea8-4436-a571-af835039eba0",
   "metadata": {},
   "source": [
    "# Problem 6 : Temperature Converter\n",
    "You are required to define a class **Temperature** that stores temperature in degrees Celsius. Implement a class method **from_fahrenheit(f)** that accepts a Fahrenheit temperature as input and returns a **Temperature** object representing the equivalent temperature in Celsius.\n",
    "\n",
    "This exercise demonstrates the use of class methods, which are typically used as alternative constructors for a class.\n",
    "\n",
    "Use the standard formula to convert Fahrenheit to Celsius:\n",
    "\n",
    "`C = ((F - 32) * 5) / 9`\n",
    "\n",
    "The converted Celsius value should be rounded to 2 decimal places.\n",
    "\n",
    "**Input Format:**\n",
    "A single floating-point number representing a temperature in Fahrenheit.\n",
    "\n",
    "**Output Format:**\n",
    "A single floating-point number representing the equivalent temperature in Celsius, rounded to 2 decimal places.\n",
    "\n",
    "**Sample Input 1:**\n",
    "98.6\n",
    "\n",
    "**Sample Output 1:**\n",
    "37.0\n",
    "\n",
    "**Sample Input 2:**\n",
    "32\n",
    "\n",
    "**Sample Output 2:**\n",
    "0.0\n",
    "\n",
    "**Sample Input 3:**\n",
    "212\n",
    "\n",
    "**Sample Output 3:**\n",
    "100.0"
   ]
  },
  {
   "cell_type": "code",
   "execution_count": 32,
   "id": "e1010328-ba5e-4523-b12c-e5a63bb74aed",
   "metadata": {},
   "outputs": [
    {
     "name": "stdin",
     "output_type": "stream",
     "text": [
      " 98.6\n"
     ]
    },
    {
     "name": "stdout",
     "output_type": "stream",
     "text": [
      "37.0\n"
     ]
    }
   ],
   "source": [
    "# Taking Input \n",
    "f = float(input())\n",
    "\n",
    "class Temperature:\n",
    "    \n",
    "    def __init__(self,celsius):\n",
    "        self.celsius = celsius\n",
    "    \n",
    "    @classmethod\n",
    "    def from_fahrenheit(cls,f):\n",
    "        c = ((f-32)*5)/9\n",
    "        return cls(round(c,2))\n",
    "\n",
    "# Output the Temperature in Celsius\n",
    "temp = Temperature.from_fahrenheit(f)\n",
    "print(temp.celsius)"
   ]
  }
 ],
 "metadata": {
  "kernelspec": {
   "display_name": "Python [conda env:base] *",
   "language": "python",
   "name": "conda-base-py"
  },
  "language_info": {
   "codemirror_mode": {
    "name": "ipython",
    "version": 3
   },
   "file_extension": ".py",
   "mimetype": "text/x-python",
   "name": "python",
   "nbconvert_exporter": "python",
   "pygments_lexer": "ipython3",
   "version": "3.13.5"
  },
  "widgets": {
   "application/vnd.jupyter.widget-state+json": {
    "state": {},
    "version_major": 2,
    "version_minor": 0
   }
  }
 },
 "nbformat": 4,
 "nbformat_minor": 5
}
