{
 "cells": [
  {
   "cell_type": "markdown",
   "id": "d787fca9-d68e-47d6-a797-85930f7c3a29",
   "metadata": {},
   "source": [
    "# 1. What is OOP and Why Use It?\n",
    "\n",
    "### Object-Oriented Programming (OOP)\n",
    "Object-oriented programming (OOP) is a way of writing programs by organising code into reusable building blocks called __objects__. These objects model real-world entities and behaviours, making the code more intuitive and scalable. OOP is used extensively across the software industry and is a key part of designing robust systems, from web applications and APIs to data models and simulations.\n",
    "\n",
    "Instead of writing everything as separate functions and variables, OOP encourages grouping related data and behaviour into classes. This helps you manage complexity, especially as your programs grow in size or are maintained by multiple developers.\n",
    "\n",
    "Python fully supports OOP and makes it easy to get started. At its core, OOP in Python involves two main ideas: __classes__ and __objects__.\n",
    "\n",
    "A **class** defines the structure and behaviour of a type of object, much like a blueprint. An **object** is an instance of that class, with actual data stored in it. \n",
    "\n",
    "### Why Use OOP?\n",
    "\n",
    "- To organize code in a more modular and scalable way.\n",
    "- To model real-world entities easily.\n",
    "- To reuse code through inheritance.\n",
    "- To group related variables (attributes) and functions (methods) together.\n",
    "\n",
    "\n",
    "### Business Use Case: Customer Management System\n",
    "\n",
    "Imagine a business needs to manage customers:\n",
    "- Every customer has a name, email, and a purchase history.\n",
    "- Instead of storing everything in separate lists, we can create a `Customer` class.\n",
    "\n",
    "This way, each customer becomes an object that holds their own data and behavior.\n",
    "\n"
   ]
  },
  {
   "cell_type": "code",
   "execution_count": 1,
   "id": "805f59ae-73c0-43a0-9fa6-974a253f5b18",
   "metadata": {},
   "outputs": [],
   "source": [
    "# Define a class to represent a customer\n",
    "\n",
    "class Customer:\n",
    "    \n",
    "    # Constructor to initialize customer details\n",
    "    \n",
    "    def __init__(self, name, email):\n",
    "        self.name = name\n",
    "        self.email = email\n",
    "        self.purchase_history = []\n",
    "\n",
    "    # Method to add a purchase\n",
    "    def add_purchase(self, item):\n",
    "        self.purchase_history.append(item)\n",
    "\n",
    "    # Method to display customer info\n",
    "    def display_info(self):\n",
    "        print(f\"Name: {self.name}\")\n",
    "        print(f\"Email: {self.email}\")\n",
    "        print(f\"Purchases: {self.purchase_history}\")"
   ]
  },
  {
   "cell_type": "code",
   "execution_count": 2,
   "id": "c56180aa-df81-45f3-95ae-2c682612ad08",
   "metadata": {},
   "outputs": [],
   "source": [
    "# Create an object (instance) of the Customer class\n",
    "customer1 = Customer(\"JP\", \"jp@gmail.com\")"
   ]
  },
  {
   "cell_type": "code",
   "execution_count": 3,
   "id": "ffbd11b3-a617-4b5d-a95f-94f19fc90d67",
   "metadata": {},
   "outputs": [],
   "source": [
    "# Add purchases using a method\n",
    "\n",
    "customer1.add_purchase(\"Laptop\")\n",
    "customer1.add_purchase(\"Headphones\")"
   ]
  },
  {
   "cell_type": "code",
   "execution_count": 5,
   "id": "6d4b3ded-0723-473a-8423-4f4f9144758e",
   "metadata": {},
   "outputs": [
    {
     "name": "stdout",
     "output_type": "stream",
     "text": [
      "Name: JP\n",
      "Email: jp@gmail.com\n",
      "Purchases: ['Laptop', 'Headphones']\n"
     ]
    }
   ],
   "source": [
    "# Display all customer details\n",
    "\n",
    "customer1.display_info()"
   ]
  },
  {
   "cell_type": "markdown",
   "id": "26d4746c-b087-4d18-9c82-c95d358959f9",
   "metadata": {},
   "source": [
    "Here,\n",
    "- The __init__() method is called automatically when a new object is created. It's used to initialise the object with values like name and email.\n",
    "- self.purchase_history is a list that stores everything the customer has bought\n",
    "- We’ve also defined two methods: add_purchase() and display_info() to interact with the customer’s data.\n",
    "\n",
    "You can now see how classes help us combine data and behaviour, and how objects allow us to create multiple such entities in memory. "
   ]
  },
  {
   "cell_type": "markdown",
   "id": "f203d4d7-2dd8-412c-91f6-ae5aa2cde2d6",
   "metadata": {},
   "source": [
    "### What You Learned\n",
    "\n",
    "- Classes help us model real-world entities.\n",
    "- Objects are instances of a class.\n",
    "- You can define properties and actions using attributes and methods.\n"
   ]
  },
  {
   "cell_type": "markdown",
   "id": "ac6e9d09-92da-4183-89df-a02fd67b7865",
   "metadata": {},
   "source": [
    "# 2. Defining a Class and Creating Objects\n",
    "\n",
    "### What is a Class?\n",
    "\n",
    "A **class** serves as a template or blueprint for creating objects. It defines what data the object will hold (its attributes) and what actions it can perform (its methods). \n",
    "\n",
    "### What is an Object?\n",
    "\n",
    "An **object** is an actual instance of a class — it contains **data (attributes)** and **functions (methods)** defined by the class.\n",
    "\n",
    "### Business Use Case: Employee Tracking System\n",
    "\n",
    "Imagine a company wants to manage its employees:\n",
    "- Each employee has a name, ID, and department.\n",
    "- We'll create an `Employee` class to model this structure.\n"
   ]
  },
  {
   "cell_type": "code",
   "execution_count": 6,
   "id": "c2b86bf3-b0b2-4530-9530-623517376b8b",
   "metadata": {},
   "outputs": [],
   "source": [
    "# Define a class for Employee\n",
    "\n",
    "class Employee:\n",
    "\n",
    "    # Class body with attributes and methods will come later\n",
    "    pass"
   ]
  },
  {
   "cell_type": "code",
   "execution_count": 7,
   "id": "28800f56-8301-4c23-ad52-7223d42c33f5",
   "metadata": {},
   "outputs": [
    {
     "name": "stdout",
     "output_type": "stream",
     "text": [
      "<class '__main__.Employee'>\n"
     ]
    }
   ],
   "source": [
    "# Create an object (instance) of the Employee class\n",
    "\n",
    "emp1 = Employee()\n",
    "print(type(emp1))  # Shows that emp1 is an instance of the Employee class"
   ]
  },
  {
   "cell_type": "markdown",
   "id": "2efcd3a0-445f-4475-97ad-aba77cb6ae46",
   "metadata": {},
   "source": [
    "At this point, the class does nothing — it's just a structure.  \n",
    "\n",
    "Each object can also have its own data. We’ll see that next, using something called a constructor.\n",
    "\n",
    "By defining a class, you structure your code around real-world entities. And by creating objects, you bring those definitions into action. "
   ]
  },
  {
   "cell_type": "markdown",
   "id": "aa671ce6-bdf2-47e4-9842-d52f1ac0d9c0",
   "metadata": {},
   "source": [
    "# 3. The `__init__()` Constructor\n",
    "\n",
    "### What is the `__init__()` Method?\n",
    "\n",
    "- The `__init__()` method is a special function in Python classes.\n",
    "- It automatically runs when you create an object.\n",
    "- It is used to initialize the object's attributes.\n",
    "\n",
    "### Business Use Case: Employee Tracking System (continued)\n",
    "\n",
    "We'll now build on our earlier `Employee` class to automatically store details like:\n",
    "- name\n",
    "- employee ID\n",
    "- department\n",
    "\n",
    "Each time we create an `Employee` object, these details will be set using `__init__()`.\n"
   ]
  },
  {
   "cell_type": "code",
   "execution_count": 8,
   "id": "8d0cc477-019a-4d7d-b71c-5a08e9bc1f79",
   "metadata": {},
   "outputs": [],
   "source": [
    "# Define the Employee class with an __init__ constructor\n",
    "\n",
    "class Employee:\n",
    "    \n",
    "    # The __init__ method runs when a new object is created\n",
    "    def __init__(self, name, emp_id, department):\n",
    "        self.name = name                # instance variable\n",
    "        self.emp_id = emp_id            # instance variable\n",
    "        self.department = department    # instance variable\n",
    "    \n",
    "    # A method to display employee info\n",
    "    def display_info(self):\n",
    "        print(f\"Employee Name: {self.name}\")\n",
    "        print(f\"Employee ID: {self.emp_id}\")\n",
    "        print(f\"Department: {self.department}\")"
   ]
  },
  {
   "cell_type": "code",
   "execution_count": 9,
   "id": "135e1a35-ea76-41b1-a964-6011c1e6117e",
   "metadata": {},
   "outputs": [],
   "source": [
    "# Create two employee objects with different data\n",
    "\n",
    "emp1 = Employee(\"John Doe\", \"E101\", \"Sales\")\n",
    "emp2 = Employee(\"Jane Doe\", \"E102\", \"Marketing\")"
   ]
  },
  {
   "cell_type": "code",
   "execution_count": 10,
   "id": "edaf8dd8-aa8c-43c1-9dca-af132e371615",
   "metadata": {},
   "outputs": [
    {
     "name": "stdout",
     "output_type": "stream",
     "text": [
      "Employee Name: John Doe\n",
      "Employee ID: E101\n",
      "Department: Sales\n",
      "---\n",
      "Employee Name: Jane Doe\n",
      "Employee ID: E102\n",
      "Department: Marketing\n"
     ]
    }
   ],
   "source": [
    "# Display their details\n",
    "\n",
    "emp1.display_info()\n",
    "print(\"---\")\n",
    "emp2.display_info()"
   ]
  },
  {
   "cell_type": "markdown",
   "id": "c5f8eb71-1ac2-40de-97d8-d6d10575a452",
   "metadata": {},
   "source": [
    "Now, each object carries its own data, which you can access or modify through other methods. This pattern is essential in object-oriented programming; each object starts with the data it needs and then uses that data as it performs actions.\n",
    "\n",
    "### Key Takeaways\n",
    "\n",
    "- `__init__()` is the constructor used to initialize object data.\n",
    "- `self` refers to the current object.\n",
    "- You can pass parameters while creating an object and store them in instance variables.\n"
   ]
  },
  {
   "cell_type": "markdown",
   "id": "a871837e-a34d-4ba8-baa9-211c82bee0b6",
   "metadata": {},
   "source": [
    "# 4. Instance Variables and Methods\n",
    "\n",
    "### What are Instance Variables?\n",
    "\n",
    "- Instance variables are unique to each object.\n",
    "- Defined using `self`, like `self.name`, `self.emp_id`.\n",
    "\n",
    "### What are Instance Methods?\n",
    "\n",
    "- Functions defined inside a class that use `self` to access object data.\n",
    "- They operate on instance variables.\n",
    "\n",
    "\n",
    "### Business Use Case: Product Inventory System\n",
    "\n",
    "Let’s say we manage products in a store:\n",
    "- Each product has a name, price, and quantity.\n",
    "- We want to:\n",
    "  - Display details of each product.\n",
    "  - Calculate total stock value of a product.\n",
    "\n",
    "We’ll use instance variables to store data, and instance methods to operate on it.\n",
    "\n"
   ]
  },
  {
   "cell_type": "code",
   "execution_count": 11,
   "id": "431acd70-ae80-446f-9e71-0d5af911824b",
   "metadata": {},
   "outputs": [],
   "source": [
    "# Define a Product class to manage store items\n",
    "\n",
    "class Product:\n",
    "    # Constructor to initialize each product\n",
    "    def __init__(self, name, price, quantity):\n",
    "        self.name = name\n",
    "        self.price = price\n",
    "        self.quantity = quantity\n",
    "\n",
    "    # Method to display product details\n",
    "    def display_details(self):\n",
    "        print(f\"Product: {self.name}\")\n",
    "        print(f\"Price: ₹{self.price}\")\n",
    "        print(f\"Quantity: {self.quantity}\")\n",
    "\n",
    "    # Method to calculate total value of the stock\n",
    "    def total_value(self):\n",
    "        return self.price * self.quantity\n"
   ]
  },
  {
   "cell_type": "code",
   "execution_count": 12,
   "id": "26a41f36-e33b-4e18-9962-f3eacf2e4b38",
   "metadata": {},
   "outputs": [],
   "source": [
    "# Create product objects\n",
    "\n",
    "item1 = Product(\"Laptop\", 50000, 10)\n",
    "item2 = Product(\"Monitor\", 8000, 25)"
   ]
  },
  {
   "cell_type": "code",
   "execution_count": 13,
   "id": "a93890d1-3142-4a87-8a32-95a25eddfa40",
   "metadata": {},
   "outputs": [
    {
     "name": "stdout",
     "output_type": "stream",
     "text": [
      "Product: Laptop\n",
      "Price: ₹50000\n",
      "Quantity: 10\n",
      "Total Stock Value: ₹500000\n"
     ]
    }
   ],
   "source": [
    "# Display details and total stock value of item 1\n",
    "\n",
    "item1.display_details()\n",
    "print(f\"Total Stock Value: ₹{item1.total_value()}\")"
   ]
  },
  {
   "cell_type": "code",
   "execution_count": 14,
   "id": "971a3141-9f91-4d16-90b1-1bc5702f276c",
   "metadata": {},
   "outputs": [
    {
     "name": "stdout",
     "output_type": "stream",
     "text": [
      "Product: Monitor\n",
      "Price: ₹8000\n",
      "Quantity: 25\n",
      "Total Stock Value: ₹200000\n"
     ]
    }
   ],
   "source": [
    "# Display details and total stock value of item 2\n",
    "\n",
    "item2.display_details()\n",
    "print(f\"Total Stock Value: ₹{item2.total_value()}\")"
   ]
  },
  {
   "cell_type": "markdown",
   "id": "c95b13fd-1d1c-4fa1-8369-2a29d6dddaa8",
   "metadata": {},
   "source": [
    "### What You Learned\n",
    "\n",
    "- Each object has its own **instance variables** (like `name`, `price`, etc.).\n",
    "- **Instance methods** can access and operate on these variables using `self`.\n"
   ]
  },
  {
   "cell_type": "markdown",
   "id": "42491f89-ac3f-4e82-8796-880617b4c517",
   "metadata": {},
   "source": [
    "# 5. Class Variables and Class Methods (`@classmethod`)\n",
    "\n",
    "### What are Class Variables?\n",
    "\n",
    "- Class variables are shared across **all instances** of a class.\n",
    "- They are defined **outside any method**, usually at the top of the class.\n",
    "\n",
    "### What is a Class Method?\n",
    "\n",
    "- A method that works with the **class itself**, not just the instance.\n",
    "- Uses `@classmethod` decorator.\n",
    "- Takes `cls` (not `self`) as the first parameter.\n",
    "\n",
    "### Business Use Case: Track Total Employees in a Company\n",
    "\n",
    "Let’s say we want to:\n",
    "- Store the name and department of each employee.\n",
    "- Keep track of the total number of employees hired.\n",
    "\n",
    "We’ll use:\n",
    "- **Instance variables** to store employee data.\n",
    "- A **class variable** to track the total.\n",
    "- A **class method** to access the count.\n"
   ]
  },
  {
   "cell_type": "code",
   "execution_count": 15,
   "id": "ad960785-51fe-406b-b78a-cc4a2930de13",
   "metadata": {},
   "outputs": [],
   "source": [
    "# Define an Employee class with a class variable\n",
    "\n",
    "class Employee:\n",
    "    \n",
    "    # Class variable shared by all instances\n",
    "    total_employees = 0\n",
    "\n",
    "    # Constructor to initialize instance variables\n",
    "    def __init__(self, name, department):\n",
    "        self.name = name\n",
    "        self.department = department\n",
    "        # Each time an employee is created, increase the count\n",
    "        Employee.total_employees += 1\n",
    "\n",
    "    # Instance method to display employee info\n",
    "    def display_info(self):\n",
    "        print(f\"Name: {self.name}, Department: {self.department}\")\n",
    "\n",
    "    # Class method to get total number of employees\n",
    "    @classmethod\n",
    "    def get_total_employees(cls):\n",
    "        return cls.total_employees\n"
   ]
  },
  {
   "cell_type": "code",
   "execution_count": 16,
   "id": "37cdb91a-8d72-4457-8316-99a6f499c5e7",
   "metadata": {},
   "outputs": [],
   "source": [
    "# Create some employees\n",
    "\n",
    "emp1 = Employee(\"Ayesha\", \"HR\")\n",
    "emp2 = Employee(\"Ravi\", \"Finance\")\n",
    "emp3 = Employee(\"Nina\", \"Engineering\")"
   ]
  },
  {
   "cell_type": "code",
   "execution_count": 17,
   "id": "58a3de9f-9fae-40f2-a72b-40d232a0d314",
   "metadata": {},
   "outputs": [
    {
     "name": "stdout",
     "output_type": "stream",
     "text": [
      "Name: Ayesha, Department: HR\n",
      "Name: Ravi, Department: Finance\n"
     ]
    }
   ],
   "source": [
    "# Show details\n",
    "\n",
    "emp1.display_info()\n",
    "emp2.display_info()"
   ]
  },
  {
   "cell_type": "code",
   "execution_count": 18,
   "id": "92140548-7d6e-4b04-b0b0-73cb11959f45",
   "metadata": {},
   "outputs": [
    {
     "name": "stdout",
     "output_type": "stream",
     "text": [
      "Total Employees: 3\n"
     ]
    }
   ],
   "source": [
    "# Display total number of employees using class method\n",
    "\n",
    "print(\"Total Employees:\", Employee.get_total_employees())"
   ]
  },
  {
   "cell_type": "markdown",
   "id": "5f8b9858-3e36-4cff-8192-1c2daf51394d",
   "metadata": {},
   "source": [
    "Class variables and class methods are especially useful when maintaining a global state or applying operations that are not tied to any single object.\n",
    "\n",
    "### What You Learned\n",
    "\n",
    "- `total_employees` is a **class variable**, shared by all objects.\n",
    "- `@classmethod` allows us to access or modify class-level data using `cls`."
   ]
  },
  {
   "cell_type": "markdown",
   "id": "c418163d-d9e5-45b0-a004-d370a5eb5b87",
   "metadata": {},
   "source": [
    "# 6. Static Methods (`@staticmethod`)\n",
    "\n",
    "### What is a Static Method?\n",
    "\n",
    "- A **static method** is part of a class but doesn’t use `self` or `cls`.\n",
    "- It behaves like a regular function but is grouped logically under a class.\n",
    "- Use the `@staticmethod` decorator to define one.\n",
    "\n",
    "### Business Use Case: Utility Method for Salary Tax Calculation\n",
    "\n",
    "Let’s say:\n",
    "- We have an `Employee` class.\n",
    "- Along with storing employee data, we also want to provide a **utility method** to calculate income tax.\n",
    "- The tax calculation doesn’t depend on any specific object or class variable.\n",
    "\n",
    "So we define it as a **static method**.\n"
   ]
  },
  {
   "cell_type": "code",
   "execution_count": 19,
   "id": "2fba9721-8277-4511-9047-074b5f1d0219",
   "metadata": {},
   "outputs": [],
   "source": [
    "# Define the Employee class with a static method\n",
    "\n",
    "class Employee:\n",
    "    \n",
    "    def __init__(self, name, salary):\n",
    "        self.name = name\n",
    "        self.salary = salary\n",
    "\n",
    "    \n",
    "    def display_info(self):\n",
    "        print(f\"Name: {self.name}, Salary: ₹{self.salary}\")\n",
    "\n",
    "    \n",
    "    # Static method to calculate income tax (simple 10% rate)\n",
    "    @staticmethod\n",
    "    def calculate_tax(salary):\n",
    "        return salary * 0.10"
   ]
  },
  {
   "cell_type": "code",
   "execution_count": 20,
   "id": "58b1f0f4-5e3d-48c8-b284-8dddc2761d3d",
   "metadata": {},
   "outputs": [
    {
     "name": "stdout",
     "output_type": "stream",
     "text": [
      "Name: Amit, Salary: ₹70000\n"
     ]
    }
   ],
   "source": [
    "# Create an employee\n",
    "\n",
    "emp1 = Employee(\"Amit\", 70000)\n",
    "emp1.display_info()"
   ]
  },
  {
   "cell_type": "code",
   "execution_count": 21,
   "id": "dde83661-7468-4fb1-b88d-f3d4457e03b4",
   "metadata": {},
   "outputs": [
    {
     "name": "stdout",
     "output_type": "stream",
     "text": [
      "Estimated Income Tax: ₹7000.0\n"
     ]
    }
   ],
   "source": [
    "# Call the static method to calculate tax\n",
    "\n",
    "tax = Employee.calculate_tax(emp1.salary)\n",
    "print(f\"Estimated Income Tax: ₹{tax}\")"
   ]
  },
  {
   "cell_type": "markdown",
   "id": "a723f2ba-7f8b-4893-af6a-2d36a23939b1",
   "metadata": {},
   "source": [
    "Notice that there’s no use of self or cls, because the method does not depend on the class or any specific object. This is useful for helper functions or utility operations that are conceptually related to the class but do not need to access its data.\n",
    "\n",
    "In short, static methods help keep related logic within a class without unnecessarily tying it to an object or class state. They make code more modular and readable, especially when performing data validation, formatting, or calculations.\n",
    "\n",
    "### What You Learned\n",
    "\n",
    "- Use `@staticmethod` when a method doesn’t access object (`self`) or class (`cls`) data.\n",
    "- It's useful for utility or helper functions tied to a class logically.\n"
   ]
  },
  {
   "cell_type": "markdown",
   "id": "dc2eb438-b439-4c9c-bb10-e8897464cd85",
   "metadata": {},
   "source": [
    "# 7. Inheritance in Python\n",
    "\n",
    "### What is Inheritance?\n",
    "\n",
    "- Inheritance allows a class (**child**) to reuse the properties and methods of another class (**parent**).\n",
    "- Helps in building **hierarchies** and promoting **code reuse**.\n",
    "\n",
    "### Business Use Case: Employees and Managers\n",
    "\n",
    "Let’s say:\n",
    "- We have a base class `Employee` with basic details.\n",
    "- We want to create a `Manager` class with **extra responsibilities**, but reuse the employee structure.\n",
    "\n",
    "This is a perfect case for **inheritance**.\n"
   ]
  },
  {
   "cell_type": "code",
   "execution_count": 22,
   "id": "0e5e6e0a-50b8-4e12-88de-19c4c74b2df2",
   "metadata": {},
   "outputs": [],
   "source": [
    "# Base class: Employee\n",
    "\n",
    "class Employee:\n",
    "    \n",
    "    def __init__(self, name, salary):\n",
    "        self.name = name\n",
    "        self.salary = salary\n",
    "\n",
    "    \n",
    "    def display_info(self):\n",
    "        print(f\"Employee: {self.name}, Salary: ₹{self.salary}\")\n"
   ]
  },
  {
   "cell_type": "code",
   "execution_count": 23,
   "id": "85530448-5fc9-49b1-9423-63be45c39867",
   "metadata": {},
   "outputs": [],
   "source": [
    "# Child class: Manager (inherits from Employee)\n",
    "\n",
    "class Manager(Employee):\n",
    "    \n",
    "    def __init__(self, name, salary, team_size):\n",
    "        # Call the parent class constructor\n",
    "        super().__init__(name, salary)\n",
    "        self.team_size = team_size\n",
    "\n",
    "    \n",
    "    # Add additional method for Manager\n",
    "    def display_manager_info(self):\n",
    "        self.display_info()  # Call method from parent\n",
    "        print(f\"Manages a team of {self.team_size} people\")\n"
   ]
  },
  {
   "cell_type": "code",
   "execution_count": 24,
   "id": "5611420c-2819-469b-9f63-b38665cdb03e",
   "metadata": {},
   "outputs": [
    {
     "name": "stdout",
     "output_type": "stream",
     "text": [
      "Employee: Mahesh, Salary: ₹120000\n",
      "Manages a team of 8 people\n"
     ]
    }
   ],
   "source": [
    "# Create a manager object\n",
    "\n",
    "mgr = Manager(\"Mahesh\", 120000, 8)\n",
    "mgr.display_manager_info()"
   ]
  },
  {
   "cell_type": "markdown",
   "id": "c4a12be3-6d95-4d99-ba3c-9c4ed9a11d9c",
   "metadata": {},
   "source": [
    "### How It Works\n",
    "- The **Manager** class inherits the properties of the **Employee** class\n",
    "- The **super()** function is used to access the parent class’s constructor and methods\n",
    "- The **Manager** class extends the functionality by adding **team_size** and overriding the **show_details()** method\n",
    "\n",
    "**Class Hierarchy** \n",
    "Inheritance allows us to build hierarchies:\n",
    "- **Employee** → base class\n",
    "- **Manager, Developer, Intern** → subclasses\n",
    " \n",
    "Each child class can have its own specific attributes or methods while still sharing the core logic of the parent.\n",
    "\n",
    "We saw how inheritance helps reduce repetition, encourages better structure, and makes code easier to maintain. It’s a common pattern in real-world systems: from modelling users and permissions in web applications to building modular data processing tools in machine learning pipelines.\n",
    "\n",
    "This supports code reuse, meaning we can define shared behaviour once in a parent class and use it in many child classes without repeating code. Think of it as a family hierarchy: a child automatically receives certain characteristics from the parent.\n",
    "\n",
    "### Why Use Inheritance?\n",
    "\n",
    "- Avoid duplication: Write common logic once in a base class\n",
    "- Organise related classes: Create clear relationships between objects\n",
    "- Extend functionality: Add or modify features in subclasses without changing the original code\n",
    "\n",
    "### What You Learned\n",
    "\n",
    "- `Manager` inherits from `Employee` using `class Manager(Employee):`.\n",
    "- The `super()` function allows calling the parent class methods or constructor.\n",
    "- Inheritance helps avoid repeating code and builds hierarchies.\n"
   ]
  },
  {
   "cell_type": "markdown",
   "id": "c60b2e4a-be3d-44de-a54c-8fb91fe257c0",
   "metadata": {},
   "source": [
    "# 8. Method Overriding in Python\n",
    "\n",
    "### What is Method Overriding?\n",
    "\n",
    "- When a **child class** defines a method with the **same name** as a method in the **parent class**, it **overrides** the parent’s method.\n",
    "- This allows customizing behavior in the subclass while maintaining the base structure.\n",
    "\n",
    "## When do we need method overriding\n",
    "- to change or extend how inherited methods behave\n",
    "- to ensure subclass behaviour aligns with specific needs, while shill using the general structure of the parent class. \n",
    "\n",
    "### Business Use Case: Customize `display_info()` for Manager\n",
    "\n",
    "Let’s continue our previous example:\n",
    "- Both `Employee` and `Manager` have a `display_info()` method.\n",
    "- But for `Manager`, we want to include extra details like team size.\n",
    "- So, we **override** the method in `Manager`.\n"
   ]
  },
  {
   "cell_type": "code",
   "execution_count": 25,
   "id": "21804a6b-8883-442d-ab20-39228e333509",
   "metadata": {},
   "outputs": [],
   "source": [
    "# Base class\n",
    "\n",
    "class Employee:\n",
    "    \n",
    "    def __init__(self, name, salary):\n",
    "        self.name = name\n",
    "        self.salary = salary\n",
    "\n",
    "    def display_info(self):\n",
    "        print(f\"Employee: {self.name}, Salary: ₹{self.salary}\")"
   ]
  },
  {
   "cell_type": "code",
   "execution_count": 26,
   "id": "9fe8b058-65f6-42de-86bc-50ffad4ad898",
   "metadata": {},
   "outputs": [],
   "source": [
    "# Subclass\n",
    "\n",
    "class Manager(Employee):\n",
    "    \n",
    "    def __init__(self, name, salary, team_size):\n",
    "        super().__init__(name, salary)\n",
    "        self.team_size = team_size\n",
    "\n",
    "    \n",
    "    # Overriding the parent method\n",
    "    def display_info(self):\n",
    "        print(f\"Manager: {self.name}, Salary: ₹{self.salary}, Team Size: {self.team_size}\")"
   ]
  },
  {
   "cell_type": "code",
   "execution_count": 28,
   "id": "cf52d324-43ad-44fe-962a-5fdab0a0a63d",
   "metadata": {},
   "outputs": [],
   "source": [
    "# Create instances\n",
    "\n",
    "emp = Employee(\"Rahul\", 75000)\n",
    "mgr = Manager(\"Anita\", 150000, 12)"
   ]
  },
  {
   "cell_type": "code",
   "execution_count": 29,
   "id": "9988c1c4-3c55-4833-b318-fb25199f3e9a",
   "metadata": {},
   "outputs": [
    {
     "name": "stdout",
     "output_type": "stream",
     "text": [
      "Employee: Rahul, Salary: ₹75000\n",
      "Manager: Anita, Salary: ₹150000, Team Size: 12\n"
     ]
    }
   ],
   "source": [
    "emp.display_info()   # Uses Employee's method\n",
    "mgr.display_info()   # Uses Manager's overridden method"
   ]
  },
  {
   "cell_type": "markdown",
   "id": "b9cf3fd1-32cc-478e-bb61-f482e4ef2b71",
   "metadata": {},
   "source": [
    "### Some points to note:\n",
    "- The child class method takes precedence over the inherited method\n",
    "- You can still access the parent version using super().method_name() if needed\n",
    "- Overrides should ideally maintain method names and argument structure\n",
    "\n",
    "In real-world code, overriding is often used when building libraries, extending base classes in frameworks, or adapting shared components for specific roles.\n"
   ]
  },
  {
   "cell_type": "markdown",
   "id": "29d559e9-1cf3-4a1b-b554-e8f9b6c989d6",
   "metadata": {},
   "source": [
    "# 9. Polymorphism \n",
    "Polymorphism literally means the ability to have many forms. In object-oriented programming, it refers to the ability of different classes to be treated as instances of the same interface, allowing the same method name to behave differently based on the object calling it.\n",
    "\n",
    "In simpler terms, **polymorphism allows objects of different classes to respond to the same method call in a way that’s appropriate to their type**. This makes your code more flexible, reusable, and easier to extend.\n",
    "\n",
    "### Why is Polymorphism Useful?\n",
    "- It allows for writing general-purpose code that works across different object types\n",
    "- Makes the system extensible, so new functionality can be added with minimal changes to the existing code\n",
    "- Helps decouple logic from specific implementations"
   ]
  },
  {
   "cell_type": "code",
   "execution_count": 31,
   "id": "16012d53-4eee-411b-8766-ced723c5b1b1",
   "metadata": {},
   "outputs": [],
   "source": [
    "# Example\n",
    "class Developer:\n",
    "    def role(self):\n",
    "        print('Writes code')\n",
    "\n",
    "class Designer:\n",
    "    def role(self):\n",
    "        print('Designs UI')\n",
    "\n",
    "# Polymorphic behaviour\n",
    "def show_role(person):\n",
    "    person.role()"
   ]
  },
  {
   "cell_type": "code",
   "execution_count": 33,
   "id": "f2c6f37e-b0e9-4925-9ff9-1638322bd302",
   "metadata": {},
   "outputs": [],
   "source": [
    "d1 = Developer()"
   ]
  },
  {
   "cell_type": "code",
   "execution_count": 34,
   "id": "f39826cc-9115-4ac9-9fa2-89c668da9a2e",
   "metadata": {},
   "outputs": [],
   "source": [
    "d2 = Designer()"
   ]
  },
  {
   "cell_type": "code",
   "execution_count": 35,
   "id": "bf6fc142-9a9d-427e-a46f-9a9be34be6dc",
   "metadata": {},
   "outputs": [
    {
     "name": "stdout",
     "output_type": "stream",
     "text": [
      "Writes code\n",
      "Designs UI\n"
     ]
    }
   ],
   "source": [
    "show_role(d1)\n",
    "show_role(d2)"
   ]
  },
  {
   "cell_type": "markdown",
   "id": "170870f1-818d-4ab2-8869-0bf981f9b7f7",
   "metadata": {},
   "source": [
    "In this example, both classes implement the method role(), but each in its own way. The function show_role() works for any object that has a role() method, regardless of the class it belongs to."
   ]
  },
  {
   "cell_type": "markdown",
   "id": "1be257a3-55d9-4e28-b2c4-dc837b905f52",
   "metadata": {},
   "source": [
    "### Polymorphism with Inheritance"
   ]
  },
  {
   "cell_type": "code",
   "execution_count": 37,
   "id": "5ec60642-52fc-41a4-8fbb-23b0014e073f",
   "metadata": {},
   "outputs": [],
   "source": [
    "# Example\n",
    "class Animal:\n",
    "    def speak(self):\n",
    "        print('Some Sound')\n",
    "\n",
    "class Dog(Animal):\n",
    "    def speak(self):\n",
    "        print('Bark')\n",
    "\n",
    "class Cat(Animal):\n",
    "    def speak(self):\n",
    "        print('Meow')"
   ]
  },
  {
   "cell_type": "code",
   "execution_count": 38,
   "id": "09ab5af1-38e6-478e-81a0-d52d966e22cf",
   "metadata": {},
   "outputs": [],
   "source": [
    "animals = [Dog(),Cat()]"
   ]
  },
  {
   "cell_type": "code",
   "execution_count": 39,
   "id": "5d6a6701-17d8-43d7-83bb-46822390bc19",
   "metadata": {},
   "outputs": [
    {
     "name": "stdout",
     "output_type": "stream",
     "text": [
      "Bark\n",
      "Meow\n"
     ]
    }
   ],
   "source": [
    "for animal in animals:\n",
    "    animal.speak()"
   ]
  },
  {
   "cell_type": "code",
   "execution_count": 42,
   "id": "7fd39600-3b9c-4c29-bbb0-ad81210bfc86",
   "metadata": {},
   "outputs": [],
   "source": [
    "Milo = Dog()"
   ]
  },
  {
   "cell_type": "code",
   "execution_count": 43,
   "id": "c3aacb85-326c-4030-b1f9-7ea0309d9c7a",
   "metadata": {},
   "outputs": [
    {
     "name": "stdout",
     "output_type": "stream",
     "text": [
      "Bark\n"
     ]
    }
   ],
   "source": [
    "Milo.speak()"
   ]
  },
  {
   "cell_type": "markdown",
   "id": "b42d34db-dc3e-4bfe-ba78-69d99aa868ac",
   "metadata": {},
   "source": [
    "Each object responds in its own way to the same method call. This is runtime polymorphism; the decision about which method to call is made during execution.\n",
    "\n",
    "**Polymorphism helps you:**\n",
    "- Design code that’s modular and reusable\n",
    "- Treat different objects through a common interface\n",
    "- Simplify complex logic by deferring decisions to individual classes"
   ]
  },
  {
   "cell_type": "markdown",
   "id": "823123f3-ba31-4ae2-84eb-a8c3c847d50a",
   "metadata": {},
   "source": [
    "# 10. Abstraction\n",
    "Abstraction is one of the fundamental concepts in object-oriented programming. It refers to the practice of **hiding internal implementation details** and showing only the essential features of an object or system.\n",
    "\n",
    "In other words, abstraction lets you define what an object does, without having to reveal how it does it.\n",
    "\n",
    "Python supports abstraction primarily through **abstract base classes (ABCs)** and **interfaces**, using the **abc** module.\n",
    "\n",
    "#### We use abstraction\n",
    "- To create a blueprint or contract for future classes\n",
    "- To hide complex logic from users who only need to interact with the high-level interface\n",
    "- To enforce consistency across different class implementations"
   ]
  },
  {
   "cell_type": "code",
   "execution_count": 46,
   "id": "bdc86629-00c2-461a-83c8-0d6d4933a929",
   "metadata": {},
   "outputs": [],
   "source": [
    "# Example\n",
    "from abc import ABC,abstractmethod\n",
    "\n",
    "class TeamMember(ABC):\n",
    "    @abstractmethod\n",
    "    def role(self):\n",
    "        pass"
   ]
  },
  {
   "cell_type": "markdown",
   "id": "e8ecc7a2-7579-4113-a119-a835ccfa7814",
   "metadata": {},
   "source": [
    "The **TeamMember** class defines an abstract method **role()**, which means that any class inheriting from **TeamMember** must implement this method."
   ]
  },
  {
   "cell_type": "code",
   "execution_count": 48,
   "id": "61b6f27c-0fdd-42a0-bfba-7d5f28674423",
   "metadata": {},
   "outputs": [
    {
     "name": "stdout",
     "output_type": "stream",
     "text": [
      "Writes code\n",
      "Designs UI\n"
     ]
    }
   ],
   "source": [
    "class Developer(TeamMember):\n",
    "    def role(self):\n",
    "        print('Writes code')\n",
    "\n",
    "class Designer(TeamMember):\n",
    "    def role(self):\n",
    "        print('Designs UI')\n",
    "\n",
    "members = [Developer(),Designer()]\n",
    "for member in members:\n",
    "    member.role()"
   ]
  },
  {
   "cell_type": "markdown",
   "id": "1ff3b706-9d10-4422-b69d-0e90ebb851a3",
   "metadata": {},
   "source": [
    "This gives the same polymorphic behaviour we saw earlier, but is now enforced through abstraction. We have defined a common interface using the abstract base class. \n",
    "\n",
    "#### Some points to note:\n",
    "- Abstract classes can’t be instantiated; they are meant to be extended.\n",
    "- The **@abstractmethod** decorator ensures that subclasses must override the method\n",
    "- You define the what in the abstract class and the how in the child classes\n",
    "\n",
    "Think of a payment system: you don’t care how the backend processes your credit card, you just use a standard pay() method. Abstraction lets developers create systems that are easy to use, extend, and maintain."
   ]
  },
  {
   "cell_type": "markdown",
   "id": "73f49133-c4e2-4f63-a040-5efd957897f3",
   "metadata": {},
   "source": [
    "# 11. Encapsulation\n",
    "Encapsulation is the principle of keeping the internal details of an object hidden from the outside world. It means that an object should manage its own data and provide access only through controlled interfaces, typically through methods.\n",
    "\n",
    "In many languages, this is enforced through access modifiers like **private**, **protected**, and **public**, which strictly control what can and cannot be accessed from outside the class. However, **Python does not have true encapsulation in this sense**.\n",
    "\n",
    "Instead, developers are trusted to follow naming conventions to indicate private or protected attributes (like using a leading underscore _var), but the language doesn't enforce access restrictions. This makes encapsulation more about convention than the rule. You can read more about encapsulation in Python [here](https://www.upgrad.com/tutorials/software-engineering/python-tutorial/encapsulation-in-python/)\n",
    "\n",
    "Even though Python doesn't technically support encapsulation, understanding this concept is still important. It helps you design better class structures and write safer, more maintainable code, especially when working on larger systems or in collaborative projects."
   ]
  }
 ],
 "metadata": {
  "kernelspec": {
   "display_name": "Python [conda env:base] *",
   "language": "python",
   "name": "conda-base-py"
  },
  "language_info": {
   "codemirror_mode": {
    "name": "ipython",
    "version": 3
   },
   "file_extension": ".py",
   "mimetype": "text/x-python",
   "name": "python",
   "nbconvert_exporter": "python",
   "pygments_lexer": "ipython3",
   "version": "3.13.5"
  },
  "widgets": {
   "application/vnd.jupyter.widget-state+json": {
    "state": {},
    "version_major": 2,
    "version_minor": 0
   }
  }
 },
 "nbformat": 4,
 "nbformat_minor": 5
}
