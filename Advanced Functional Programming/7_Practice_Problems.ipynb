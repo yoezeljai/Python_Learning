{
 "cells": [
  {
   "cell_type": "markdown",
   "id": "e6406bb4-7943-4d79-84b9-981d75d4bcda",
   "metadata": {},
   "source": [
    "## Problem 01 :\n",
    "Write a function ‘three_sum(nums)’ that finds all unique triplets in the list ‘nums’ that sum to zero. The solution set must not contain duplicate triplets.\n",
    "\n",
    "\n",
    "### Understanding the problem\n",
    "**Input Format:**\n",
    "A list of integers 'nums'.\n",
    "\n",
    "**Output Format:**\n",
    "A list of lists, where each list contains three integers such that their sum is zero.\n",
    "\n",
    "**Constraints:**\n",
    "- The input list ‘nums’ will contain at least three integers.\n",
    "- The integers in the list may be both positive and negative.\n",
    "\n",
    "**Sample Input:**\n",
    "[-1, 0, 1, 2, -1, -4]\n",
    "\n",
    "**Sample Output:**\n",
    "[[-1, -1, 2], [-1, 0, 1]]\n",
    "\n",
    "\n",
    "### Planning the approach\n",
    "\n",
    "**Step 1: Sort the numbers**\n",
    "We sort the list because:\n",
    "- Sorted order helps with the two-pointer approach (increasing or decreasing sum in a predictable way).\n",
    "- Makes it easier to skip duplicates.\n",
    "\n",
    "**Step 2: Initialize result list**\n",
    "We prepare an empty list `res` to store final triplets.\n",
    "\n",
    "**Step 3: Loop through each number as a fixed element**\n",
    "- We iterate from index `0` to `n-3`.\n",
    "- Why `n-2`? Because we need three numbers in each triplet.\n",
    "- We fix one number at index `i`.\n",
    "\n",
    "**Step 3.1: Skip duplicates for fixed number**\n",
    "If the current number is the same as the previous (`numsi == numsi-1`), we skip it to avoid duplicate triplets.\n",
    "\n",
    "**Step 4: Two pointers approach**\n",
    "We set:\n",
    "- `left = i + 1` (just after `i`)\n",
    "- `right = n - 1` (last element)\n",
    "This way, we check pairs `[numsleft, numsright]` along with `numsi`.\n",
    "\n",
    "**Step 5: Calculate the sum**\n",
    "We compute:\n",
    "`total = numsi + numsleft + numsright`\n",
    "Three cases follow:\n",
    "\n",
    "**Step 6: If sum = 0**\n",
    "- We found a valid triplet!\n",
    "- Add it to result: `res.append([numsi, numsleft, numsright])`\n",
    "\n",
    "    **Step 6.1: Skip duplicates for `left`**\n",
    "    If the next number is the same as `numsleft`, increment `left` until a different number comes.\n",
    "\n",
    "    **Step 6.2: Skip duplicates for `right`**\n",
    "    If the next number is the same as `numsright`, decrement `right` until a different number comes.\n",
    "\n",
    "    **Step 6.3: Move both inward**\n",
    "    After processing one triplet, move both pointers (`left += 1`, `right -= 1`) to find next possible triplets.\n",
    "\n",
    "**Step 7: If sum < 0**\n",
    "- Means total is too small.\n",
    "- Move `left` pointer right (`left += 1`) to increase the sum.\n",
    "\n",
    "**Step 8: If sum > 0**\n",
    "- Means total is too big.\n",
    "- Move `right` pointer left (`right -= 1`) to decrease the sum.\n",
    "\n",
    "**Step 9: Return result**\n",
    "Finally, return the list of unique triplets."
   ]
  },
  {
   "cell_type": "markdown",
   "id": "47e41a9a-02d3-4ca2-a746-6962cc56cc58",
   "metadata": {},
   "source": [
    "### Coding the Program"
   ]
  },
  {
   "cell_type": "code",
   "execution_count": 7,
   "id": "35f00540-49d7-4e9c-9ca7-b967f2e84567",
   "metadata": {},
   "outputs": [
    {
     "name": "stdin",
     "output_type": "stream",
     "text": [
      "Enter the list( Must contain at least 3 intergers positive or negative): [-5, -2, 1, 3, 4]\n"
     ]
    },
    {
     "name": "stdout",
     "output_type": "stream",
     "text": [
      "[[-5, 1, 4]]\n"
     ]
    }
   ],
   "source": [
    "# Import literal_eval library to safely evaluate string input as a Python \n",
    "from ast import literal_eval\n",
    "\n",
    "# Taking input\n",
    "nums = literal_eval(input('Enter the list( Must contain at least 3 intergers positive or negative):'))\n",
    "\n",
    "def three_sum(nums):\n",
    "    nums.sort()  # Sort the list to simplify duplicate handling and two-pointer approach\n",
    "    res = []\n",
    "    n = len(nums)\n",
    "\n",
    "    for i in range(n - 2):\n",
    "        # Skip duplicate values for i\n",
    "        if i > 0 and nums[i] == nums[i - 1]:\n",
    "            continue\n",
    "\n",
    "        left, right = i + 1, n - 1\n",
    "        while left < right:\n",
    "            total = nums[i] + nums[left] + nums[right]\n",
    "\n",
    "            if total == 0:\n",
    "                res.append([nums[i], nums[left], nums[right]])\n",
    "\n",
    "                # Skip duplicates for left and right\n",
    "                while left < right and nums[left] == nums[left + 1]:\n",
    "                    left += 1\n",
    "                while left < right and nums[right] == nums[right - 1]:\n",
    "                    right -= 1\n",
    "\n",
    "                # Move pointers inward after processing this triplet\n",
    "                left += 1\n",
    "                right -= 1\n",
    "\n",
    "            elif total < 0:\n",
    "                left += 1  # Need a larger number\n",
    "            else:\n",
    "                right -= 1  # Need a smaller number\n",
    "\n",
    "    return res\n",
    "\n",
    "# Printing the outout\n",
    "print(three_sum(nums))"
   ]
  },
  {
   "cell_type": "markdown",
   "id": "3cfde316-60ac-44f1-a407-28ac2d3e9d4c",
   "metadata": {},
   "source": [
    "### Testing the Program"
   ]
  },
  {
   "cell_type": "code",
   "execution_count": 10,
   "id": "4cf9847c-1d2c-499d-9ea3-0da8c0356ee7",
   "metadata": {},
   "outputs": [
    {
     "name": "stdout",
     "output_type": "stream",
     "text": [
      "[[-1, -1, 2], [-1, 0, 1]]\n"
     ]
    }
   ],
   "source": [
    "test_1 = [-1, 0, 1, 2, -1, -4]\n",
    "print(three_sum(test_1))"
   ]
  },
  {
   "cell_type": "code",
   "execution_count": 11,
   "id": "e259854e-390d-41e3-9f08-a35c773bbda3",
   "metadata": {},
   "outputs": [
    {
     "name": "stdout",
     "output_type": "stream",
     "text": [
      "[[0, 0, 0]]\n"
     ]
    }
   ],
   "source": [
    "test_2 = [0,0,0]\n",
    "print(three_sum(test_2))"
   ]
  },
  {
   "cell_type": "code",
   "execution_count": 12,
   "id": "5c36962e-b45b-4672-921d-b905e40224c9",
   "metadata": {},
   "outputs": [
    {
     "name": "stdout",
     "output_type": "stream",
     "text": [
      "[]\n"
     ]
    }
   ],
   "source": [
    "test_3 = [1,1,1]\n",
    "print(three_sum(test_3))"
   ]
  },
  {
   "cell_type": "markdown",
   "id": "48f6dfaf-f6b7-4c34-b53d-db67930ca736",
   "metadata": {},
   "source": [
    "## Problem 02 : Employee Payslip Generator\n",
    "Create a function generate_salary_statement() that takes four positional arguments: \n",
    "- employee_name (string): The name of the employee\n",
    "- basic_salary (float): The basic salary of the employee\n",
    "- bonus (float): The bonus amount awarded to the employee\n",
    "- deductions (float): The total deductions from the employee's salary \n",
    "\n",
    "### Understanding the Problem\n",
    "**Input Format:**\n",
    "The function will take four arguments in the following order:\n",
    "- employee_name (string)  \n",
    "- basic_salary (float)\n",
    "- bonus (float)  \n",
    "- deductions (float)  \n",
    "\n",
    "**The function should:**  \n",
    "- Calculate the gross salary as: basic_salary + bonus\n",
    "- Calculate the net salary as: gross_salary - deductions\n",
    "- Print a salary statement with all details in the exact output format as shown below \n",
    "\n",
    "**Output Format:**\n",
    "Print the salary statement using this format:\n",
    "\n",
    "`Salary Statement for <employee_name>\n",
    "Basic Salary: ₹<basic_salary>\n",
    "Bonus: ₹<bonus>  \n",
    "Deductions: ₹<deductions>\n",
    "Gross Salary: ₹<gross_salary>  \n",
    "Net Salary: ₹<net_salary>`\n",
    "\n",
    "**Sample Input:**\n",
    "Rajesh 50000 8000 5000\n",
    "\n",
    "**Sample Output:**\n",
    "Salary Statement for Rajesh\n",
    "Basic Salary: ₹50000.0\n",
    "Bonus: ₹8000.0\n",
    "Deductions: ₹5000.0\n",
    "Gross Salary: ₹58000.0\n",
    "Net Salary: ₹53000.0\n",
    "\n",
    "### Planning the approach \n",
    "\n",
    "**Step 1:**\n",
    "Take 4 inputs from the use i.e., employee_name (string), basic_salary(float),bonus(float),deductions(float) . And pass these as arguments to below functions. \n",
    "\n",
    "**Step 2:**\n",
    "- Create a function name *generate_salary_statement()*\n",
    "- Pass the above 4 arguments as positional arguments\n",
    "\n",
    "**Step 2.1:**\n",
    "Calculate the gross salary which will be basic_salary+bonus\n",
    "\n",
    "**Step 2.2:**\n",
    "Calculate the net salary which will be gross_salary-deductions\n",
    "\n",
    "**Step 3:**\n",
    "print the salary statement\n",
    "  "
   ]
  },
  {
   "cell_type": "markdown",
   "id": "791319cd-4f20-446f-8f93-95e52178288e",
   "metadata": {},
   "source": [
    "### Coding the Program"
   ]
  },
  {
   "cell_type": "code",
   "execution_count": 17,
   "id": "b259771c-ac47-4688-b32b-06cfb24f534a",
   "metadata": {},
   "outputs": [
    {
     "name": "stdin",
     "output_type": "stream",
     "text": [
      "Enter Employees name: JP\n",
      "Enter basic salary: 500000\n",
      "Enter bonus: 8000\n",
      "Enter deductions: 5000\n"
     ]
    },
    {
     "name": "stdout",
     "output_type": "stream",
     "text": [
      "Salary Statement for JP\n",
      "Basic Salary :₹500000.0\n",
      "Bonus:₹8000.0\n",
      "Deductions:₹5000.0\n",
      "Gross Salary:₹508000.0\n",
      "Net Salary:₹503000.0\n"
     ]
    }
   ],
   "source": [
    "# Taking the input\n",
    "employee_name = str(input('Enter Employees name:'))\n",
    "basic_salary = float(input('Enter basic salary:'))\n",
    "bonus = float(input('Enter bonus:'))\n",
    "deductions = float(input('Enter deductions:'))\n",
    "\n",
    "# creating the function and logic\n",
    "def generate_salary_statement(employee_name,basic_salary,bonus,deductions):\n",
    "    gross_salary = basic_salary+bonus\n",
    "    net_salary = gross_salary-deductions\n",
    "    print(f\"Salary Statement for {employee_name}\")\n",
    "    print(f'Basic Salary :₹{basic_salary}')\n",
    "    print(f'Bonus:₹{bonus}')\n",
    "    print(f'Deductions:₹{deductions}')\n",
    "    print(f'Gross Salary:₹{gross_salary}')\n",
    "    print(f'Net Salary:₹{net_salary}')\n",
    "\n",
    "generate_salary_statement(employee_name,basic_salary,bonus,deductions)"
   ]
  },
  {
   "cell_type": "markdown",
   "id": "d2cda4bf-f8d5-467c-b0d6-3424a62c7f64",
   "metadata": {},
   "source": [
    "### Testing the program"
   ]
  },
  {
   "cell_type": "code",
   "execution_count": 18,
   "id": "fc24cf8d-1dce-43b4-84a4-61588c74c8dc",
   "metadata": {},
   "outputs": [
    {
     "name": "stdout",
     "output_type": "stream",
     "text": [
      "Salary Statement for Rajesh\n",
      "Basic Salary :₹50000\n",
      "Bonus:₹8000\n",
      "Deductions:₹5000\n",
      "Gross Salary:₹58000\n",
      "Net Salary:₹53000\n"
     ]
    }
   ],
   "source": [
    "generate_salary_statement('Rajesh',50000,8000,5000)"
   ]
  },
  {
   "cell_type": "code",
   "execution_count": 20,
   "id": "e9f776e6-fe78-41d1-b87e-569ce48b1b30",
   "metadata": {},
   "outputs": [
    {
     "name": "stdout",
     "output_type": "stream",
     "text": [
      "Salary Statement for Anita\n",
      "Basic Salary :₹40000\n",
      "Bonus:₹0\n",
      "Deductions:₹2000\n",
      "Gross Salary:₹40000\n",
      "Net Salary:₹38000\n"
     ]
    }
   ],
   "source": [
    "generate_salary_statement('Anita',40000,0,2000)"
   ]
  },
  {
   "cell_type": "code",
   "execution_count": 21,
   "id": "8606986e-0c90-4ac0-9bd1-6f263528f66c",
   "metadata": {},
   "outputs": [
    {
     "name": "stdout",
     "output_type": "stream",
     "text": [
      "Salary Statement for Kiran\n",
      "Basic Salary :₹60000\n",
      "Bonus:₹5000\n",
      "Deductions:₹0\n",
      "Gross Salary:₹65000\n",
      "Net Salary:₹65000\n"
     ]
    }
   ],
   "source": [
    "generate_salary_statement('Kiran',60000,5000,0)"
   ]
  },
  {
   "cell_type": "code",
   "execution_count": 22,
   "id": "6d0f10db-9aa3-4035-8cd2-4aa372a495ab",
   "metadata": {},
   "outputs": [
    {
     "name": "stdout",
     "output_type": "stream",
     "text": [
      "Salary Statement for Meena\n",
      "Basic Salary :₹0\n",
      "Bonus:₹0\n",
      "Deductions:₹0\n",
      "Gross Salary:₹0\n",
      "Net Salary:₹0\n"
     ]
    }
   ],
   "source": [
    "generate_salary_statement('Meena',0,0,0)"
   ]
  },
  {
   "cell_type": "code",
   "execution_count": 23,
   "id": "d349c39b-3a86-42a4-93ec-bfc5ea486e64",
   "metadata": {},
   "outputs": [
    {
     "name": "stdout",
     "output_type": "stream",
     "text": [
      "Salary Statement for Ajay\n",
      "Basic Salary :₹45200.5\n",
      "Bonus:₹8750.75\n",
      "Deductions:₹9200.3\n",
      "Gross Salary:₹53951.25\n",
      "Net Salary:₹44750.95\n"
     ]
    }
   ],
   "source": [
    "generate_salary_statement('Ajay',45200.50,8750.75,9200.30)"
   ]
  },
  {
   "cell_type": "code",
   "execution_count": 24,
   "id": "33768507-3a53-40d4-8a8b-ee508c7f9722",
   "metadata": {},
   "outputs": [
    {
     "name": "stdout",
     "output_type": "stream",
     "text": [
      "Salary Statement for Priya\n",
      "Basic Salary :₹30000\n",
      "Bonus:₹5000\n",
      "Deductions:₹5000\n",
      "Gross Salary:₹35000\n",
      "Net Salary:₹30000\n"
     ]
    }
   ],
   "source": [
    "generate_salary_statement('Priya',30000,5000,5000)"
   ]
  },
  {
   "cell_type": "code",
   "execution_count": 25,
   "id": "d33e1e68-2e56-4aa1-afb2-c988ed663c5a",
   "metadata": {},
   "outputs": [
    {
     "name": "stdout",
     "output_type": "stream",
     "text": [
      "Salary Statement for Manish\n",
      "Basic Salary :₹999999\n",
      "Bonus:₹1\n",
      "Deductions:₹999\n",
      "Gross Salary:₹1000000\n",
      "Net Salary:₹999001\n"
     ]
    }
   ],
   "source": [
    "generate_salary_statement('Manish',999999,1,999)"
   ]
  },
  {
   "cell_type": "code",
   "execution_count": 28,
   "id": "d97e7bc2-ba98-46c6-b33d-82bc3e04adc8",
   "metadata": {},
   "outputs": [
    {
     "name": "stdout",
     "output_type": "stream",
     "text": [
      "Salary Statement for Neha\n",
      "Basic Salary :₹20000\n",
      "Bonus:₹5000\n",
      "Deductions:₹25000\n",
      "Gross Salary:₹25000\n",
      "Net Salary:₹0\n"
     ]
    }
   ],
   "source": [
    "generate_salary_statement('Neha',20000,5000,25000)"
   ]
  },
  {
   "cell_type": "markdown",
   "id": "006a596f-44e1-4783-9739-ecf73c46f4e6",
   "metadata": {},
   "source": [
    "## Problem 3 : Compare Top Scoring Subjects for Each Student \n",
    "You are given three lists representing the scores of students in three subjects: Maths, Science, and English. Each index across the three lists corresponds to a single student.\n",
    "\n",
    "### Understanding the problem\n",
    "Write a function evaluate_top_subjects() that:\n",
    "- Uses zip() to iterate over the scores of each student\n",
    "- Determines the subject(s) in which each student scored the highest\n",
    "- Returns a list of strings indicating the top-scoring subject(s) for each student\n",
    "- If there’s a tie between two or more subjects, return all of them in the order: Maths, Science, English, separated by commas.\n",
    "\n",
    "**Input Format:**\n",
    "- Three lists of integers: maths, science, and english\n",
    "- Each list contains scores for the same number of students in the respective subjects\n",
    "\n",
    "**Output Format:**\n",
    "A list of strings, where each string represents the top-scoring subject(s) for one student\n",
    "\n",
    "**Constraints:**\n",
    "No upper limit on number of students or scores\n",
    "\n",
    "**Sample Input:**\n",
    "[80, 90, 70, 85]\n",
    "[85, 90, 95, 80]\n",
    "[75, 90, 80, 85]\n",
    "\n",
    "**Sample Output:**\n",
    "['Science', 'Maths,Science,English', 'Science', 'Maths,English']\n",
    "\n",
    "### Planning the approach\n",
    "1. Understand Input Structure - We have three separate lists:\n",
    "- `maths` — Scores in Maths for each student.\n",
    "- `science` — Scores in Science for each student.\n",
    "- `english` — Scores in English for each student.\n",
    "The i-th index across all lists corresponds to the same student’s scores in the three subjects.\n",
    "   \n",
    "2. Iterate over scores of each student - Use the `zip()` function to pair together the scores for each student across the three subjects, resulting in tuples like `(math_score, science_score, english_score)`.\n",
    "\n",
    "3.\tFind Maximum Score Per Student - For each tuple representing one student’s scores, find the maximum score to identify the highest subject score(s).\n",
    "\n",
    "4.\tDetermine Which Subject(s) Have the Maximum Score - Check which among Maths, Science, and English have the maximum score. There may be:\n",
    "- A single top subject (e.g., only Maths)\n",
    "- Multiple subjects tying for the top score (e.g., Maths and Science)\n",
    "\n",
    "5. Create Top Subject String\n",
    "- For each student, gather the subject names with the highest score(s).\n",
    "- Maintain the order: Maths, Science, then English.\n",
    "- Join multiple subjects into a comma-separated string.\n",
    "\n",
    "6. Store All Results in a List - Append each student’s top-subject string to a results list.\n",
    "\n",
    "7. Return the Final List - Once all students are processed, return the list of top subject strings."
   ]
  },
  {
   "cell_type": "markdown",
   "id": "ddb039ea-da9c-4e64-ab88-1207cd824bb7",
   "metadata": {},
   "source": [
    "### Coding the Program"
   ]
  },
  {
   "cell_type": "code",
   "execution_count": 35,
   "id": "a0a7fa3a-9bc0-42ec-88b3-6d302c62ad6b",
   "metadata": {},
   "outputs": [
    {
     "name": "stdin",
     "output_type": "stream",
     "text": [
      " [80, 90, 70, 85]\n",
      " [85, 90, 95, 80]\n",
      " [75, 90, 80, 85]\n"
     ]
    },
    {
     "name": "stdout",
     "output_type": "stream",
     "text": [
      "['Science', 'Maths,Science,English', 'Science', 'Maths,English']\n"
     ]
    }
   ],
   "source": [
    "from ast import literal_eval\n",
    "\n",
    "# Taking the Input\n",
    "maths = literal_eval(input())\n",
    "science = literal_eval(input())\n",
    "english = literal_eval(input())\n",
    "\n",
    "# defining funtion to perform the requested operations.\n",
    "def evaluate_top_subjects(maths,science,english):\n",
    "    result = []\n",
    "    subjects = ['Maths','Science','English']\n",
    "\n",
    "    for m,s,e in zip(maths,science,english):\n",
    "        scores = [m,s,e]\n",
    "        max_score = max(scores)\n",
    "        top_subjects = [subjects[i] for i , score in enumerate(scores) if score == max_score]\n",
    "        result.append(\",\".join(top_subjects))\n",
    "    return result\n",
    "\n",
    "print(evaluate_top_subjects(maths,science,english))"
   ]
  },
  {
   "cell_type": "markdown",
   "id": "ba0f64ac-f4fc-4941-b3de-d9c4dde5fce6",
   "metadata": {},
   "source": [
    "### Testing the Program"
   ]
  },
  {
   "cell_type": "code",
   "execution_count": 37,
   "id": "15b6435c-931b-4ce9-a42d-9b9a88fccc34",
   "metadata": {},
   "outputs": [
    {
     "data": {
      "text/plain": [
       "['Maths']"
      ]
     },
     "execution_count": 37,
     "metadata": {},
     "output_type": "execute_result"
    }
   ],
   "source": [
    "evaluate_top_subjects([80],[70],[75])"
   ]
  },
  {
   "cell_type": "code",
   "execution_count": 38,
   "id": "f61804df-01a5-4b04-baa3-f1f491372a15",
   "metadata": {},
   "outputs": [
    {
     "data": {
      "text/plain": [
       "['Science', 'Science,English']"
      ]
     },
     "execution_count": 38,
     "metadata": {},
     "output_type": "execute_result"
    }
   ],
   "source": [
    "evaluate_top_subjects([50,60],[80,90],[70,90])"
   ]
  },
  {
   "cell_type": "code",
   "execution_count": 39,
   "id": "529c1230-5f17-4f6d-b29f-2f421394374e",
   "metadata": {},
   "outputs": [
    {
     "data": {
      "text/plain": [
       "['Maths,Science,English',\n",
       " 'Maths,Science,English',\n",
       " 'Maths,Science,English',\n",
       " 'Maths,Science,English',\n",
       " 'Maths,Science,English']"
      ]
     },
     "execution_count": 39,
     "metadata": {},
     "output_type": "execute_result"
    }
   ],
   "source": [
    "evaluate_top_subjects([100,100,100,100,100],[100,100,100,100,100],[100,100,100,100,100])"
   ]
  },
  {
   "cell_type": "markdown",
   "id": "1622ea75-56fe-4e60-9d97-7308beb655d7",
   "metadata": {},
   "source": [
    "## Problem 4 : Identify Repeated Strings with Index Details\n",
    "\n",
    "You are given a list of strings.\n",
    "\n",
    "\n",
    "\n",
    "Write a function detect_repeats() that tracks repeated elements and returns a list of formatted strings describing the index of the repeated element and the index of its first occurrence. For each element that repeats, include only its second and later appearances.\n",
    "\n",
    "\n",
    "\n",
    "Each message should follow this format: <element> repeats at index <i>, first found at index <j>. \n",
    "\n",
    "\n",
    "\n",
    "If an element repeats more than once, include all the repeated occurrences in the output list.\n",
    "\n",
    "\n",
    "\n",
    "Hint: Use enumerate() to track both index and value.\n",
    "\n",
    "\n",
    "\n",
    "Input Format:\n",
    "\n",
    "A list of strings called items\n",
    "\n",
    "\n",
    "\n",
    "Output Format:\n",
    "\n",
    "A list of strings indicating repeat occurrences and first index\n",
    "\n",
    "The order of the output should match the order of repeated elements in the input\n",
    "\n",
    "\n",
    "\n",
    "Constraints:\n",
    "\n",
    "Input list will not be empty\n",
    "Elements are case-sensitive\n",
    "There is no upper limit on the number of elements\n",
    "\n",
    "\n",
    "Sample Input:\n",
    "\n",
    "[\"apple\", \"banana\", \"apple\", \"orange\", \"banana\", \"apple\", \"Apple\"]\n",
    "\n",
    "\n",
    "\n",
    "Sample Output:\n",
    "\n",
    "['apple repeats at index 2, first found at index 0', 'banana repeats at index 4, first found at index 1', 'apple repeats at index 5, first found at index 0']\n",
    "\n",
    "\n",
    "\n",
    "Explanation:\n",
    "\n",
    "1. 'apple' is found to repeat at index 2, first appears at index 0\n",
    "\n",
    "2. 'banana' is found to repeat at index 4, first appears at index 1\n",
    "\n",
    "3. 'apple' is again found to repeat at index 5, but appears first at index 0\n",
    "\n",
    "4. 'Apple' and 'orange' are not found to repeat"
   ]
  },
  {
   "cell_type": "markdown",
   "id": "2259a6d6-0b1e-48bc-a109-4d6a7abf7d77",
   "metadata": {},
   "source": [
    "### Coding the Program"
   ]
  },
  {
   "cell_type": "code",
   "execution_count": 40,
   "id": "1bf2c3f6-91ff-44b9-8c55-47210443634c",
   "metadata": {},
   "outputs": [
    {
     "name": "stdin",
     "output_type": "stream",
     "text": [
      " [\"apple\", \"banana\", \"apple\", \"orange\", \"banana\", \"apple\"]\n"
     ]
    },
    {
     "name": "stdout",
     "output_type": "stream",
     "text": [
      "['apple repeats at index 2, first found at index 0', 'banana repeats at index 4, first found at index 1', 'apple repeats at index 5, first found at index 0']\n"
     ]
    }
   ],
   "source": [
    "from ast import literal_eval\n",
    "\n",
    "# Taking the Input\n",
    "items = literal_eval(input())  \n",
    "\n",
    "def detect_repeats(items):\n",
    "    # Write your code here\n",
    "    first_occurrence = {}\n",
    "    repeats = []\n",
    "\n",
    "    for i, item in enumerate(items):\n",
    "        if item in first_occurrence:\n",
    "            repeats.append(f\"{item} repeats at index {i}, first found at index {first_occurrence[item]}\")\n",
    "        else:\n",
    "            first_occurrence[item] = i\n",
    "    return repeats\n",
    "\n",
    "# Print the Output\n",
    "print(detect_repeats(items))"
   ]
  },
  {
   "cell_type": "markdown",
   "id": "91a47d16-196d-42ea-9daa-3a883f874a3b",
   "metadata": {},
   "source": [
    "### Testing the Program"
   ]
  },
  {
   "cell_type": "code",
   "execution_count": 41,
   "id": "b4372dbc-eb99-4534-81f2-6b047c8f32f4",
   "metadata": {},
   "outputs": [
    {
     "data": {
      "text/plain": [
       "['a repeats at index 2, first found at index 0',\n",
       " 'b repeats at index 4, first found at index 1']"
      ]
     },
     "execution_count": 41,
     "metadata": {},
     "output_type": "execute_result"
    }
   ],
   "source": [
    "detect_repeats([\"a\", \"b\", \"a\", \"c\", \"b\"])"
   ]
  },
  {
   "cell_type": "code",
   "execution_count": 42,
   "id": "b686a3b2-1ca6-4e42-80b5-f2f133b68885",
   "metadata": {},
   "outputs": [
    {
     "data": {
      "text/plain": [
       "[]"
      ]
     },
     "execution_count": 42,
     "metadata": {},
     "output_type": "execute_result"
    }
   ],
   "source": [
    "detect_repeats([\"x\", \"y\", \"z\"])"
   ]
  },
  {
   "cell_type": "code",
   "execution_count": 43,
   "id": "0c19b73f-32d0-4121-83f4-d3333bebcb0f",
   "metadata": {},
   "outputs": [
    {
     "data": {
      "text/plain": [
       "['word repeats at index 1, first found at index 0',\n",
       " 'word repeats at index 2, first found at index 0',\n",
       " 'word repeats at index 3, first found at index 0',\n",
       " 'word repeats at index 4, first found at index 0']"
      ]
     },
     "execution_count": 43,
     "metadata": {},
     "output_type": "execute_result"
    }
   ],
   "source": [
    "detect_repeats([\"word\", \"word\", \"word\", \"word\", \"word\"])"
   ]
  },
  {
   "cell_type": "code",
   "execution_count": 44,
   "id": "14e12149-592d-4b28-a665-0a83cc47fdc7",
   "metadata": {},
   "outputs": [
    {
     "data": {
      "text/plain": [
       "['A repeats at index 2, first found at index 0',\n",
       " 'a repeats at index 3, first found at index 1']"
      ]
     },
     "execution_count": 44,
     "metadata": {},
     "output_type": "execute_result"
    }
   ],
   "source": [
    "detect_repeats([\"A\", \"a\", \"A\", \"a\"])"
   ]
  },
  {
   "cell_type": "markdown",
   "id": "c71efb23-e56f-4663-b712-d35a975c2dce",
   "metadata": {},
   "source": [
    "## Problem 5 : Variable Input Math Operations\n",
    "\n",
    "You are required to write a Python function named operate_on_numbers() that can perform various mathematical operations on a variable number of input values.\n",
    "\n",
    "\n",
    "\n",
    "\n",
    "This function should accept:\n",
    "\n",
    "An operation type (sum, product, or average) as the first argument (string)  \n",
    "A variable number of numerical arguments (*args)\n",
    "Your function must evaluate the operation and return the appropriate result based on the given inputs.\n",
    "\n",
    "\n",
    "\n",
    "The function should behave as follows:\n",
    "\n",
    "If the first argument is 'sum', return the sum of all the numbers.\n",
    "If the first argument is 'product', return the product of all the numbers.\n",
    "If the first argument is 'average', return the arithmetic mean of the numbers.\n",
    "If no numbers are provided, return the string: \"No numbers provided\"\n",
    "If the operation is not one of 'sum', 'product', or 'average', return the string: \"Invalid operation specified\"\n",
    "\n",
    "\n",
    "Input Format:  \n",
    "\n",
    "A single line containing the operation followed by one or more space-separated numbers.    \n",
    "\n",
    "\n",
    "\n",
    "\n",
    "Output Format:  \n",
    "\n",
    "- A single float value as the result of the operation\n",
    "\n",
    "- A message string if no numbers are provided or if the operation is invalid \n",
    "\n",
    "\n",
    "\n",
    "Constraints:  \n",
    "\n",
    "- The operation must be one of 'sum', 'product', or 'average'\n",
    "\n",
    "- All numbers must be valid floats or integers\n",
    "\n",
    "\n",
    "\n",
    "Sample Input:\n",
    "\n",
    "sum 1 2 3 4\n",
    "\n",
    "\n",
    "\n",
    "Sample Output:\n",
    "\n",
    "10.0"
   ]
  },
  {
   "cell_type": "markdown",
   "id": "d74f14b2-4034-4e79-841e-f51af92a2a33",
   "metadata": {},
   "source": [
    "### Coding the Program"
   ]
  },
  {
   "cell_type": "code",
   "execution_count": 81,
   "id": "65660bec-26a1-4b20-bd91-5b412b8f2606",
   "metadata": {},
   "outputs": [
    {
     "name": "stdin",
     "output_type": "stream",
     "text": [
      " 'sum',1,2,3\n"
     ]
    },
    {
     "name": "stdout",
     "output_type": "stream",
     "text": [
      "'sum',1,2,3\n",
      "[]\n",
      "'sum',1,2,3\n",
      "()\n",
      "No numbers provided\n"
     ]
    }
   ],
   "source": [
    "# Taking the input\n",
    "user_input = input().strip().lower().split()\n",
    "\n",
    "operation = user_input[0]\n",
    "numbers = list(map(float, user_input[1:]))\n",
    "\n",
    "print(operation)\n",
    "print(numbers)\n",
    "\n",
    "# Write your code below\n",
    "def operate_on_numbers(operation, *args):\n",
    "    print(operation)\n",
    "    print(args)\n",
    "   \n",
    "    if not args:\n",
    "        return \"No numbers provided\"\n",
    "    \n",
    "    if operation == 'sum':\n",
    "        return float(sum(numbers))\n",
    "    \n",
    "    elif operation == 'product':\n",
    "        product = 1.0\n",
    "        for num in numbers:\n",
    "            product *= num\n",
    "        return product\n",
    "    \n",
    "    elif operation == 'average':\n",
    "        return float(sum(numbers)) / len(numbers)\n",
    "    \n",
    "    else:\n",
    "        return \"Invalid operation specified\"\n",
    "\n",
    "# Print the output\n",
    "result = operate_on_numbers(operation, *numbers)\n",
    "print(result) "
   ]
  },
  {
   "cell_type": "code",
   "execution_count": 84,
   "id": "8295e3f8-a4c5-42f2-b674-037162926c9e",
   "metadata": {},
   "outputs": [
    {
     "name": "stdout",
     "output_type": "stream",
     "text": [
      "sum\n",
      "('1', '2')\n"
     ]
    },
    {
     "data": {
      "text/plain": [
       "3.0"
      ]
     },
     "execution_count": 84,
     "metadata": {},
     "output_type": "execute_result"
    }
   ],
   "source": [
    "operate_on_numbers('sum','1','2')"
   ]
  },
  {
   "cell_type": "code",
   "execution_count": 83,
   "id": "b5608a04-dda0-4788-8660-8a0cc8319250",
   "metadata": {},
   "outputs": [
    {
     "name": "stdout",
     "output_type": "stream",
     "text": [
      "sum\n",
      "('1', '2', '3', '4')\n"
     ]
    },
    {
     "data": {
      "text/plain": [
       "10.0"
      ]
     },
     "execution_count": 83,
     "metadata": {},
     "output_type": "execute_result"
    }
   ],
   "source": [
    "operate_on_numbers('sum','1','2','3','4')"
   ]
  },
  {
   "cell_type": "code",
   "execution_count": null,
   "id": "b8749a3f-54ff-4b8b-a090-7d74a5dc8dc0",
   "metadata": {},
   "outputs": [],
   "source": []
  },
  {
   "cell_type": "code",
   "execution_count": null,
   "id": "420926c1-7378-4359-ba58-3809c366b650",
   "metadata": {},
   "outputs": [],
   "source": []
  }
 ],
 "metadata": {
  "kernelspec": {
   "display_name": "Python [conda env:base] *",
   "language": "python",
   "name": "conda-base-py"
  },
  "language_info": {
   "codemirror_mode": {
    "name": "ipython",
    "version": 3
   },
   "file_extension": ".py",
   "mimetype": "text/x-python",
   "name": "python",
   "nbconvert_exporter": "python",
   "pygments_lexer": "ipython3",
   "version": "3.13.5"
  },
  "widgets": {
   "application/vnd.jupyter.widget-state+json": {
    "state": {},
    "version_major": 2,
    "version_minor": 0
   }
  }
 },
 "nbformat": 4,
 "nbformat_minor": 5
}
