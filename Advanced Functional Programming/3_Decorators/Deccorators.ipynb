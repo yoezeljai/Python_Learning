{
 "cells": [
  {
   "cell_type": "markdown",
   "id": "d58ed73d-7b20-41e0-8815-d537e7839812",
   "metadata": {},
   "source": [
    "# Decorators in Python\n",
    "As Python developers, we often want to extend the behaviour of a function, like adding logging, timing, caching, or validation, without rewriting its core logic. This is where **decorators** come in. **Decorators** allow us to “wrap” functions with additional functionality in a clean and reusable way.\n",
    "\n",
    "They are a key part of Python’s functional programming features and are widely used in real-world libraries, especially in frameworks for data science, web development, and automation.\n",
    "\n",
    "At a basic level, a decorator is a function that takes another function as input and returns a modified version of it. This can help you avoid repetition, organise code better, and make enhancements without altering the function itself. "
   ]
  },
  {
   "cell_type": "code",
   "execution_count": 1,
   "id": "92e20769-dfb8-489a-a297-fcbdad404414",
   "metadata": {},
   "outputs": [],
   "source": [
    "# Example to illustrate the use of a decorated function\n",
    "def greet(func):\n",
    "    def wrapper():\n",
    "        print('hello!')\n",
    "        func()\n",
    "    return wrapper\n",
    "\n",
    "@greet\n",
    "def welcome():\n",
    "    print('Welcome to this session')"
   ]
  },
  {
   "cell_type": "code",
   "execution_count": 2,
   "id": "a0d4dd26-b8bc-45c0-8556-95a0e81d1e4a",
   "metadata": {},
   "outputs": [
    {
     "name": "stdout",
     "output_type": "stream",
     "text": [
      "hello!\n",
      "Welcome to this session\n"
     ]
    }
   ],
   "source": [
    "welcome()"
   ]
  },
  {
   "cell_type": "markdown",
   "id": "a922d6c6-db3f-443c-95e1-c280c4ac21ea",
   "metadata": {},
   "source": [
    "The **@greet** line is a decorator, and it applies the **greet()** function to **welcome()**.\n",
    "\n",
    "Decorators are especially useful when working with logging, authentication, retry logic, or caching. In data workflows, they allow functions to remain clean while still providing helpful add-ons like performance tracking or result caching."
   ]
  },
  {
   "cell_type": "markdown",
   "id": "2d78a806-b886-4f3a-bffe-77d51263c3f2",
   "metadata": {},
   "source": [
    "## 1. @lru_cache – Cache Function Results\n",
    "\n",
    "### What is `@lru_cache`?\n",
    "In many tasks, especially those involving recursion or repeated computation, we end up calling the same function with the same inputs multiple times. This wastes time and resources.\n",
    "This decorator from the `functools` module stores the result of expensive function calls.  \n",
    "If the same inputs are provided again, it returns the cached result — instead of recomputing.\n",
    "\n",
    "**LRU** stands for **Least Recently Used**. It is a caching strategy that keeps track of recent calls. When the cache reaches its size limit, it removes the least recently used items first. The @lru_cache decorator stores the results of function calls and reuses them when the same inputs appear again. "
   ]
  },
  {
   "cell_type": "markdown",
   "id": "455a077f-2384-4682-a761-d37913c3c0d7",
   "metadata": {},
   "source": [
    "#### Business Use Case: Currency Conversion Rates\n",
    "\n",
    "You run an app that fetches the current exchange rate from an external source (assume it’s slow).  \n",
    "You want to cache this result for faster repeated access during the same session.\n"
   ]
  },
  {
   "cell_type": "code",
   "execution_count": 3,
   "id": "e3084bba-c2c9-4ede-90b4-d4fba7d79930",
   "metadata": {},
   "outputs": [],
   "source": [
    "from functools import lru_cache\n",
    "import time"
   ]
  },
  {
   "cell_type": "code",
   "execution_count": 4,
   "id": "31066c4c-0a20-4985-9eb8-d33075783a4f",
   "metadata": {},
   "outputs": [],
   "source": [
    "# Simulated slow exchange rate fetcher\n",
    "\n",
    "@lru_cache(maxsize=10)  # Cache all unique input calls\n",
    "def get_exchange_rate(currency: str) -> float:\n",
    "    \n",
    "    print(f\"Fetching rate for {currency}...\")\n",
    "    \n",
    "    time.sleep(2)  # Simulate delay\n",
    "    \n",
    "    return {\n",
    "        \"USD\": 83.12,\n",
    "        \"EUR\": 89.45,\n",
    "        \"JPY\": 0.56\n",
    "    }.get(currency, 1.0)"
   ]
  },
  {
   "cell_type": "code",
   "execution_count": 5,
   "id": "66118557-5930-40bc-ad30-a4afbec880b8",
   "metadata": {},
   "outputs": [
    {
     "name": "stdout",
     "output_type": "stream",
     "text": [
      "Fetching rate for USD...\n",
      "83.12\n"
     ]
    }
   ],
   "source": [
    "# First call – takes time\n",
    "\n",
    "print(get_exchange_rate(\"USD\"))"
   ]
  },
  {
   "cell_type": "code",
   "execution_count": 7,
   "id": "119b53e8-d52f-4b23-bd98-77ad4b5ca23a",
   "metadata": {},
   "outputs": [
    {
     "name": "stdout",
     "output_type": "stream",
     "text": [
      "83.12\n"
     ]
    }
   ],
   "source": [
    "# Second call – instant from cache\n",
    "\n",
    "print(get_exchange_rate(\"USD\"))"
   ]
  },
  {
   "cell_type": "code",
   "execution_count": 12,
   "id": "f7d1af0f-7c5f-4ab0-9205-978eba2780cd",
   "metadata": {},
   "outputs": [],
   "source": [
    "# Another example\n",
    "from functools import lru_cache\n",
    "import time\n",
    "\n",
    "@lru_cache(maxsize=3)\n",
    "def slow_add(x,y):\n",
    "    time.sleep(2)\n",
    "    return x+y"
   ]
  },
  {
   "cell_type": "code",
   "execution_count": 13,
   "id": "5d16833d-fb6b-4919-a7d8-39c4daecfa05",
   "metadata": {},
   "outputs": [
    {
     "name": "stdout",
     "output_type": "stream",
     "text": [
      "5\n"
     ]
    }
   ],
   "source": [
    "print(slow_add(2,3)) # this will take 2 seconds"
   ]
  },
  {
   "cell_type": "code",
   "execution_count": 15,
   "id": "95c57ac5-703d-42c4-8c59-6fd8f4ef6254",
   "metadata": {},
   "outputs": [
    {
     "name": "stdout",
     "output_type": "stream",
     "text": [
      "5\n"
     ]
    }
   ],
   "source": [
    "print(slow_add(2,3)) # this will return instantly"
   ]
  },
  {
   "cell_type": "markdown",
   "id": "6d30d738-ccee-4742-b2e3-45b18688db7c",
   "metadata": {},
   "source": [
    "In the first call, the function takes 2 seconds. On the second call with the same inputs, the result is returned instantly from the cache. You can set a **maxsize** (the number of recent calls to store) or use None for unlimited caching. You can also inspect the cache with **.cache_info()** and clear it using **.cache_clear()**.\n",
    "\n",
    "This can be particularly useful for:\n",
    "- Recursive functions (like Fibonacci)\n",
    "- Expensive computations with repeated inputs\n",
    "- Data lookup or API functions\n",
    "\n",
    "Using **@lru_cache** can dramatically improve performance in scenarios with repeated function calls and predictable results. It reduces redundant computation and makes your code more efficient without any structural changes.\n",
    "\n"
   ]
  },
  {
   "cell_type": "markdown",
   "id": "93477f7a-e201-44b3-b0b1-0fc8edd6a99d",
   "metadata": {},
   "source": [
    "## 2. @cache – Cache Function Results Without Size Limit\n",
    "\n",
    "### What is `@cache`?\n",
    "Starting with Python 3.9, a new decorator named **@cache** was added as a simpler alternative to **@lru_cache**. While **lru_cache** keeps track of which results are used most recently (and discards older ones if the cache is full), **@cache** stores all function results indefinitely. It’s ideal for cases where the number of unique calls is small and doesn't need limiting.\n",
    "\n",
    "Caches all results of a function **without limiting** the cache size.  \n",
    "Great for pure functions where you want to avoid recalculations entirely."
   ]
  },
  {
   "cell_type": "markdown",
   "id": "034f2ea9-bdf9-437b-9967-e79bde9584b7",
   "metadata": {},
   "source": [
    "#### Business Use Case: Calculating Sales Tax Rates\n",
    "\n",
    "Suppose you have a function that calculates tax based on location.  \n",
    "Locations don’t change often, so caching saves redundant calculations.\n"
   ]
  },
  {
   "cell_type": "code",
   "execution_count": 16,
   "id": "c2eb7e66-9e38-44da-9f94-e41950267173",
   "metadata": {},
   "outputs": [],
   "source": [
    "from functools import cache\n",
    "import time"
   ]
  },
  {
   "cell_type": "code",
   "execution_count": 23,
   "id": "403e8181-a084-4417-a772-e853ef3c4907",
   "metadata": {},
   "outputs": [],
   "source": [
    "# Function to calculate tax based on location and amount\n",
    "# Simulates an expensive calculation by sleeping for 1 second\n",
    "# The @cache decorator stores results to avoid recalculating for same inputs\n",
    "\n",
    "@cache\n",
    "def calculate_tax(location: str, amount: float) -> float:\n",
    "    \n",
    "    print(f\"Calculating tax for {location} on amount {amount}\")\n",
    "    time.sleep(1)  # Simulate expensive calculation\n",
    "    tax_rates = {\"NY\": 0.08, \"CA\": 0.075, \"TX\": 0.065}\n",
    "    rate = tax_rates.get(location, 0.05)\n",
    "    \n",
    "    return amount * rate"
   ]
  },
  {
   "cell_type": "code",
   "execution_count": 24,
   "id": "11bdfca6-b95e-4024-960b-286e3d1e2abd",
   "metadata": {},
   "outputs": [
    {
     "name": "stdout",
     "output_type": "stream",
     "text": [
      "Calculating tax for NY on amount 100\n",
      "8.0\n"
     ]
    }
   ],
   "source": [
    "# First call — slow\n",
    "\n",
    "print(calculate_tax(\"NY\", 100))"
   ]
  },
  {
   "cell_type": "code",
   "execution_count": 25,
   "id": "4398f95b-7b28-4c52-8507-566921bb9ea6",
   "metadata": {},
   "outputs": [
    {
     "name": "stdout",
     "output_type": "stream",
     "text": [
      "8.0\n"
     ]
    }
   ],
   "source": [
    "# Second call with same params — fast, cached\n",
    "\n",
    "print(calculate_tax(\"NY\", 100))"
   ]
  },
  {
   "cell_type": "code",
   "execution_count": 26,
   "id": "65f79c46-f0d1-4585-a135-9930abc7cf7f",
   "metadata": {},
   "outputs": [
    {
     "name": "stdout",
     "output_type": "stream",
     "text": [
      "Calculating tax for CA on amount 200\n",
      "15.0\n"
     ]
    }
   ],
   "source": [
    "# Different parameters — slow again\n",
    "\n",
    "print(calculate_tax(\"CA\", 200))"
   ]
  },
  {
   "cell_type": "code",
   "execution_count": 27,
   "id": "9cb03a84-c770-4f32-95a8-0e4c13356cee",
   "metadata": {},
   "outputs": [],
   "source": [
    "# Another example\n",
    "from functools import cache\n",
    "import time\n",
    "\n",
    "@cache\n",
    "def slow_multiply(x,y):\n",
    "    time.sleep(2)\n",
    "    return x*y"
   ]
  },
  {
   "cell_type": "code",
   "execution_count": 28,
   "id": "3a02d964-a179-4539-8157-b1b44ba38a03",
   "metadata": {},
   "outputs": [
    {
     "name": "stdout",
     "output_type": "stream",
     "text": [
      "20\n"
     ]
    }
   ],
   "source": [
    "print(slow_multiply(4,5)) # takes 2 seconds"
   ]
  },
  {
   "cell_type": "code",
   "execution_count": 30,
   "id": "91b55253-6940-4677-8b5b-00a3dfe87ef9",
   "metadata": {},
   "outputs": [
    {
     "name": "stdout",
     "output_type": "stream",
     "text": [
      "20\n"
     ]
    }
   ],
   "source": [
    "print(slow_multiply(4,5)) # returns instantly"
   ]
  },
  {
   "cell_type": "markdown",
   "id": "753e14de-3836-45a9-81af-9b881204e58c",
   "metadata": {},
   "source": [
    "Unlike **@lru_cache, @cache** has no **maxsize** and doesn’t remove any values. It keeps all results as long as the program is running. \n",
    "This is especially useful when:\n",
    "- You want a lightweight caching solution\n",
    "- You don’t need control over memory usage\n",
    "- The function has a limited and predictable input space\n",
    "\n",
    "However, it’s not recommended when dealing with a large number of unique inputs, as it can grow unbounded in memory.\n",
    "\n",
    "**@cache** is a minimal, efficient decorator for speeding up deterministic functions with repeat inputs. It's useful for small, repeated computations where memory limits are not a concern."
   ]
  },
  {
   "cell_type": "markdown",
   "id": "0fac9821-da7b-44dd-8160-de05c880d241",
   "metadata": {},
   "source": [
    "## 3. @wraps – Keep Original Function Information\n",
    "\n",
    "### What is `@wraps`?\n",
    "\n",
    "When you write your own decorator, the original function’s name, docstring, and other metadata get replaced by the wrapper function.  \n",
    "`@wraps` from `functools` copies those attributes back to the wrapper so debugging and introspection still work smoothly."
   ]
  },
  {
   "cell_type": "markdown",
   "id": "c495e5af-83eb-4953-a56d-527cfe15af49",
   "metadata": {},
   "source": [
    "#### Business Use Case: Logging Decorator for API Calls\n",
    "\n",
    "Imagine you want to add simple logging to your API call functions without losing their original names and documentation."
   ]
  },
  {
   "cell_type": "code",
   "execution_count": 31,
   "id": "bf00c91d-8e16-42b6-a267-96f8eaaa6d62",
   "metadata": {},
   "outputs": [],
   "source": [
    "from functools import wraps"
   ]
  },
  {
   "cell_type": "code",
   "execution_count": 32,
   "id": "aeaef16c-465f-428e-a0b7-fded0ae85a95",
   "metadata": {},
   "outputs": [],
   "source": [
    "# Our custom decorator to log function calls\n",
    "\n",
    "def log_calls(func):\n",
    "    \n",
    "    @wraps(func)  # Preserve func's metadata\n",
    "    def wrapper(*args, **kwargs):\n",
    "        \n",
    "        print(f\"Calling function: {func.__name__}\")\n",
    "        result = func(*args, **kwargs)\n",
    "        print(f\"Finished calling: {func.__name__}\")\n",
    "        return result\n",
    "        \n",
    "    return wrapper"
   ]
  },
  {
   "cell_type": "code",
   "execution_count": 34,
   "id": "4d73f3af-567b-4c7c-8a8e-576292dabafd",
   "metadata": {},
   "outputs": [],
   "source": [
    "\n",
    "@log_calls\n",
    "def fetch_data(source):\n",
    "    \"\"\"Fetch data from a given source\"\"\"\n",
    "    print(f\"Fetching data from {source}\")\n",
    "    return {\"data\": [1, 2, 3]}"
   ]
  },
  {
   "cell_type": "code",
   "execution_count": 35,
   "id": "35422f12-77e8-4610-9cdf-658c376dcb22",
   "metadata": {},
   "outputs": [
    {
     "name": "stdout",
     "output_type": "stream",
     "text": [
      "Calling function: fetch_data\n",
      "Fetching data from Database\n",
      "Finished calling: fetch_data\n",
      "{'data': [1, 2, 3]}\n",
      "fetch_data\n",
      "Fetch data from a given source\n"
     ]
    }
   ],
   "source": [
    "# Call the decorated function\n",
    "print(fetch_data(\"Database\"))\n",
    "\n",
    "# Check metadata is preserved\n",
    "print(fetch_data.__name__)       # Output: fetch_data\n",
    "print(fetch_data.__doc__)        # Output: Fetch data from a given source"
   ]
  },
  {
   "cell_type": "markdown",
   "id": "2e89c72b-2dc6-4e98-9419-55fed066fa07",
   "metadata": {},
   "source": [
    "## 4. @contextlib.contextmanager – Custom Context Manager with Parameters\n",
    "\n",
    "### What is `@contextlib.contextmanager`?\n",
    "\n",
    "Python's **with** statement is commonly used to manage resources like files and connections, ensuring they are properly opened and closed. Behind the scenes, this is made possible by context managers - objects that set things up and clean them up automatically.\n",
    "\n",
    "Sometimes, we want to build our own custom context managers. This is where the **@contextmanager** decorator from the **contextlib** module becomes useful. It allows us to turn a generator function into a context manager, using **yield** to mark where the setup ends and cleanup begins. "
   ]
  },
  {
   "cell_type": "markdown",
   "id": "a5cc33ae-14ec-4933-aebd-a76697e3eb2b",
   "metadata": {},
   "source": [
    "#### Business Use Case: Measuring and Logging Time Taken for Different Tasks with Custom Messages\n",
    "\n",
    "You want to measure task duration and log customized messages before and after the task runs.\n"
   ]
  },
  {
   "cell_type": "code",
   "execution_count": 36,
   "id": "846aaffd-582f-4b85-83b5-e4030717f966",
   "metadata": {},
   "outputs": [],
   "source": [
    "import time\n",
    "from contextlib import contextmanager"
   ]
  },
  {
   "cell_type": "code",
   "execution_count": 39,
   "id": "f2bebfd5-7cbd-44c5-8386-73ccd0df5c98",
   "metadata": {},
   "outputs": [],
   "source": [
    "# Timer context manager with customizable start and end messages\n",
    "\n",
    "@contextmanager\n",
    "def timer(task_name: str, verbose: bool = True):\n",
    "    \n",
    "    if verbose:\n",
    "        print(f\"[START] Task: {task_name}\")\n",
    "        \n",
    "    start_time = time.time()\n",
    "    \n",
    "    yield  # Control goes to the 'with' block here\n",
    "    \n",
    "    end_time = time.time()\n",
    "    \n",
    "    if verbose:\n",
    "        print(f\"[END] Task: {task_name} took {end_time - start_time:.2f} seconds\")"
   ]
  },
  {
   "cell_type": "code",
   "execution_count": 40,
   "id": "e3d7d066-2a50-487a-a7e3-ab92933f4f11",
   "metadata": {},
   "outputs": [],
   "source": [
    "# Usage example\n",
    "\n",
    "def process_data():\n",
    "    print(\"Processing data...\")\n",
    "    time.sleep(2)\n",
    "\n",
    "def save_results():\n",
    "    print(\"Saving results...\")\n",
    "    time.sleep(1)"
   ]
  },
  {
   "cell_type": "code",
   "execution_count": 42,
   "id": "a21e881a-8dee-4d03-af21-30184eee4d52",
   "metadata": {},
   "outputs": [
    {
     "name": "stdout",
     "output_type": "stream",
     "text": [
      "[START] Task: Data Processing\n",
      "Processing data...\n",
      "[END] Task: Data Processing took 2.00 seconds\n",
      "Saving results...\n",
      "All tasks completed.\n"
     ]
    }
   ],
   "source": [
    "# Measure processing with verbose output\n",
    "\n",
    "with timer(\"Data Processing\", verbose=True):\n",
    "    process_data()\n",
    "\n",
    "\n",
    "# Measure saving without verbose output\n",
    "\n",
    "with timer(\"Save Results\", verbose=False):\n",
    "    save_results()\n",
    "\n",
    "print(\"All tasks completed.\")"
   ]
  },
  {
   "cell_type": "code",
   "execution_count": 46,
   "id": "8621d66b-5bc6-4155-8ccb-cc2b3f7b7763",
   "metadata": {},
   "outputs": [
    {
     "name": "stdout",
     "output_type": "stream",
     "text": [
      "[process_data] started...\n",
      "[process_data] completed in 2.01 seconds\n",
      "[save_results] started...\n",
      "[save_results] completed in 1.00 seconds\n"
     ]
    }
   ],
   "source": [
    "# Another example\n",
    "from contextlib import contextmanager\n",
    "import time\n",
    "\n",
    "@contextmanager\n",
    "def log_timer(task_name):\n",
    "    start = time.time()\n",
    "    print(f'[{task_name}] started...')\n",
    "    yield\n",
    "    end = time.time()\n",
    "    print(f'[{task_name}] completed in {end-start:.2f} seconds')\n",
    "\n",
    "with log_timer('process_data'):\n",
    "    time.sleep(2)\n",
    "\n",
    "with log_timer('save_results'):\n",
    "    time.sleep(1)"
   ]
  },
  {
   "cell_type": "markdown",
   "id": "f5724658-cc45-4bd1-968f-d3a03f1c4cad",
   "metadata": {},
   "source": [
    "In the above code:\n",
    "- **log_time** wraps any block of code\n",
    "- **yield** separates the setup and teardown logic\n",
    "- Using **with**, you can log timing details around different tasks with minimal code repetition\n",
    "\n",
    "This pattern is especially useful in measuring performance, controlling resources, and adding temporary behaviours (like verbose output) during specific tasks.\n",
    "\n",
    "\n",
    "The **@contextmanager** decorator lets you build clean and reusable context-aware blocks for setup and teardown processes. It’s a powerful technique for writing well-structured and resource-safe code."
   ]
  },
  {
   "cell_type": "markdown",
   "id": "995cc2a3-ae92-4d33-adbc-5940a7f2be90",
   "metadata": {},
   "source": [
    "## 5. @atexit.register – Execute Functions on Program Exit\n",
    "\n",
    "### What is `@atexit.register`?\n",
    "In some long-running scripts or data pipelines, there may be a need to perform final clean-up actions like closing files, saving logs, or releasing resources, right before the program exits. The **@atexit.register** decorator allows you to define functions that should run automatically when the program is about to terminate normally.\n",
    "\n",
    "\n",
    "This is particularly useful in ensuring that no final step is missed, even if it’s not explicitly called at the end of your code.\n",
    "This decorator registers a function to be executed **automatically when the Python program is about to exit**.  \n",
    "Useful for cleanup tasks like saving logs, closing resources, or summarizing results.\n"
   ]
  },
  {
   "cell_type": "markdown",
   "id": "5261540d-4261-4c3c-81fc-41559b630fa1",
   "metadata": {},
   "source": [
    "#### Business Use Case: Saving Application State or Logs Before Shutdown\n",
    "\n",
    "Imagine an analytics tool that must save user session logs or summaries before the app closes.\n"
   ]
  },
  {
   "cell_type": "code",
   "execution_count": 52,
   "id": "fdc8a1f1-5bf8-4857-9907-4a9c62418ec6",
   "metadata": {},
   "outputs": [
    {
     "name": "stdout",
     "output_type": "stream",
     "text": [
      "Program is running...\n",
      "Saving logs before program exit...\n"
     ]
    }
   ],
   "source": [
    "!python S1-seg3-1.py"
   ]
  },
  {
   "cell_type": "code",
   "execution_count": 55,
   "id": "038a1bb7-87d3-4ffc-bce1-7f0ca48b0828",
   "metadata": {},
   "outputs": [
    {
     "name": "stdout",
     "output_type": "stream",
     "text": [
      "Main program is running\n"
     ]
    }
   ],
   "source": [
    "# Another example\n",
    "import atexit\n",
    "\n",
    "@atexit.register\n",
    "def goodbye():\n",
    "    print('Program is exiting.Cleaning up..')\n",
    "\n",
    "print('Main program is running')"
   ]
  },
  {
   "cell_type": "code",
   "execution_count": 56,
   "id": "31d6496f-d21b-439a-acdb-08f7254e740f",
   "metadata": {},
   "outputs": [
    {
     "name": "stdout",
     "output_type": "stream",
     "text": [
      "Program is exiting.Cleaning up..\n"
     ]
    }
   ],
   "source": [
    "goodbye()"
   ]
  },
  {
   "cell_type": "markdown",
   "id": "88572bca-d967-4204-b7b7-6ab6b0d346ae",
   "metadata": {},
   "source": [
    "When you run this script, the **goodbye()** function is automatically called when the program finishes, even if it ends without explicitly reaching a final line.\n",
    "\n",
    "This is particularly useful when:\n",
    "- Logging the exit status of a script\n",
    "- Saving unsaved work\n",
    "- Releasing resources like the database or API connections\n",
    "\n",
    "It’s important to note that **@atexit.register** only works during a normal shutdown, not in the case of forced exits or crashes. That’s where signal handling (like catching keyboard interrupts) becomes important."
   ]
  },
  {
   "cell_type": "markdown",
   "id": "e9d0ad79-94d0-4d36-8eba-f42387118e1d",
   "metadata": {},
   "source": [
    "## 6. @signal.signal – Custom Handler for System Signals\n",
    "\n",
    "### What is `@signal.signal`?\n",
    "In long-running processes such as training models, data ingestion, or automated monitoring, it’s important to handle unexpected interruptions gracefully. This is where the **signal** module becomes useful.\n",
    "\n",
    "The **@signal.signal** function allows your program to listen for operating system signals, such as a **KeyboardInterrupt** from pressing Ctrl+C. By catching and responding to these signals, your script can clean up resources, save progress, or print a clear message instead of crashing abruptly.\n",
    "\n",
    "Allows your Python program to **catch system signals** like `SIGINT` (Ctrl+C) and run a custom handler function.  \n",
    "Useful for cleaning up or saving data when a user interrupts the program."
   ]
  },
  {
   "cell_type": "markdown",
   "id": "53cf0768-8e35-41e0-b155-041dd298f7a5",
   "metadata": {},
   "source": [
    "#### Business Use Case: Graceful Shutdown of a Data Processing Script\n",
    "\n",
    "You want your data processing script to save progress or release resources when the user presses Ctrl+C.\n"
   ]
  },
  {
   "cell_type": "code",
   "execution_count": 58,
   "id": "a0789874-5cc7-40f0-8041-35708a1670cc",
   "metadata": {},
   "outputs": [
    {
     "name": "stdout",
     "output_type": "stream",
     "text": [
      "Processing... Press Ctrl+C to stop.\n",
      "Working...\n",
      "Working...\n",
      "Working...\n",
      "Working...\n",
      "Working...\n",
      "Working...\n",
      "Working...\n",
      "Working...\n",
      "Working...\n",
      "Working...\n",
      "Working...\n",
      "Working...\n",
      "Working...\n",
      "Working...\n",
      "Working...\n",
      "Working...\n",
      "Working...\n",
      "Working...\n",
      "Working...\n",
      "Working...\n",
      "Working...\n",
      "Working...\n",
      "Working...\n",
      "Working...\n",
      "Working...\n",
      "^C\n",
      "\n",
      "Interrupt received! Cleaning up before exit...\n"
     ]
    }
   ],
   "source": [
    "!python S1-seg3-2.py"
   ]
  },
  {
   "cell_type": "code",
   "execution_count": 60,
   "id": "6216461b-25cc-4a83-b9e8-0848dc0c8ea8",
   "metadata": {},
   "outputs": [
    {
     "name": "stdout",
     "output_type": "stream",
     "text": [
      "Press CTRL+C to interrupt\n",
      "\n",
      " Interrupt recieved. Shutting down safely\n"
     ]
    },
    {
     "ename": "SystemExit",
     "evalue": "0",
     "output_type": "error",
     "traceback": [
      "An exception has occurred, use %tb to see the full traceback.\n",
      "\u001b[0;31mSystemExit\u001b[0m\u001b[0;31m:\u001b[0m 0\n"
     ]
    }
   ],
   "source": [
    "# Here’s a basic example using signal.SIGINT, which is triggered by Ctrl+C\n",
    "\n",
    "import signal\n",
    "import time\n",
    "import sys\n",
    "\n",
    "def handler(signnum,frame):\n",
    "    print('\\n Interrupt recieved. Shutting down safely')\n",
    "    sys.exit(0)\n",
    "\n",
    "signal.signal(signal.SIGINT,handler)\n",
    "\n",
    "print('Press CTRL+C to interrupt')\n",
    "while True:\n",
    "    time.sleep(1)"
   ]
  },
  {
   "cell_type": "markdown",
   "id": "6a0f2c43-b444-4090-9d06-082603a06ee8",
   "metadata": {},
   "source": [
    "> Handling signals allows for better error handling, logging, and recovery, especially in automated or long-running tasks."
   ]
  },
  {
   "cell_type": "markdown",
   "id": "8d24ac64-b440-41ce-a7ba-4d56690453b3",
   "metadata": {},
   "source": [
    "### Common Signals in Python’s `signal` Module\n",
    "\n",
    "You can experiment with handling these signals in your programs:\n",
    "\n",
    "| Signal Name       | Description                          | Typical Use Case                     |\n",
    "|-------------------|------------------------------------|------------------------------------|\n",
    "| `SIGINT`          | Interrupt from keyboard (Ctrl+C)   | Graceful shutdown                   |\n",
    "| `SIGTERM`         | Termination signal                 | Controlled termination             |\n",
    "| `SIGHUP`          | Hangup detected on controlling terminal or death of controlling process | Reload config without stopping    |\n",
    "| `SIGQUIT`         | Quit from keyboard (Ctrl+\\\\)         | Generate core dump for debugging   |\n",
    "| `SIGALRM`         | Alarm clock signal                  | Timers and timeouts                |\n",
    "| `SIGUSR1` & `SIGUSR2` | User-defined signals             | Custom application events          |\n",
    "\n",
    "---\n",
    "\n",
    "### Try this:\n",
    "\n",
    "- Write handlers for `SIGTERM` or `SIGALRM`.\n",
    "- Use `signal.pause()` to wait for a signal.\n",
    "- See how your program reacts on receiving these signals.\n",
    "\n",
    "---\n",
    "\n",
    "### Note:\n",
    "\n",
    "Signal behavior can vary across operating systems; some signals may not be available on Windows.\n"
   ]
  },
  {
   "cell_type": "code",
   "execution_count": null,
   "id": "0006aed0-0900-4bf4-b4ec-d8c8cf0d02f4",
   "metadata": {},
   "outputs": [],
   "source": []
  }
 ],
 "metadata": {
  "kernelspec": {
   "display_name": "Python [conda env:base] *",
   "language": "python",
   "name": "conda-base-py"
  },
  "language_info": {
   "codemirror_mode": {
    "name": "ipython",
    "version": 3
   },
   "file_extension": ".py",
   "mimetype": "text/x-python",
   "name": "python",
   "nbconvert_exporter": "python",
   "pygments_lexer": "ipython3",
   "version": "3.13.5"
  },
  "widgets": {
   "application/vnd.jupyter.widget-state+json": {
    "state": {},
    "version_major": 2,
    "version_minor": 0
   }
  }
 },
 "nbformat": 4,
 "nbformat_minor": 5
}
