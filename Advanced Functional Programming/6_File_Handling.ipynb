{
 "cells": [
  {
   "cell_type": "markdown",
   "id": "27e69378-926a-4c29-a8d4-3256502ad76a",
   "metadata": {},
   "source": [
    "# Introduction to File Handling in Python\n",
    "\n",
    "In any business or real-world application, we often need to **store data**, **read settings**, **write reports**, or **log feedback** — and that's where file handling comes in.\n",
    "\n",
    "This is a fundamental skill when building data processing workflows, automating reporting, or integrating systems that communicate through files. You will get a detailed introduction to file handling in Python and understand its importance.\n",
    "\n",
    "Python provides simple and powerful tools to work with files — whether it's reading from a file or writing to one."
   ]
  },
  {
   "cell_type": "markdown",
   "id": "85e9346c-468e-491b-9a04-624c57182908",
   "metadata": {},
   "source": [
    "## Common Use Cases in Business\n",
    "\n",
    "- Saving customer feedback to a text file\n",
    "- Logging errors or events\n",
    "- Reading product lists or user settings\n",
    "- Writing daily reports or invoices\n",
    "\n",
    "By learning how to work with files efficiently, you can automate and scale many repetitive tasks in your projects.\n",
    "\n",
    "Python allows us to open, read, write, and append files using the built-in `open()` function.\n",
    "\n",
    "We'll explore this through simple, practical examples."
   ]
  },
  {
   "cell_type": "code",
   "execution_count": 1,
   "id": "51123caa-8d31-49eb-a20d-dad8e27e4711",
   "metadata": {},
   "outputs": [
    {
     "name": "stdout",
     "output_type": "stream",
     "text": [
      "Customer Feedback Summary (Today's):\n",
      "- Great product! Delivered on time.\n",
      "- Packaging could be better.\n",
      "- Excellent customer service.\n"
     ]
    }
   ],
   "source": [
    "# Imagine you run an e-commerce store and receive customer feedback every day.\n",
    "# Printing feedback to the console isn't practical for keeping records.\n",
    "\n",
    "feedback_list = [\n",
    "    \"Great product! Delivered on time.\",\n",
    "    \"Packaging could be better.\",\n",
    "    \"Excellent customer service.\",\n",
    "]\n",
    "\n",
    "print(\"Customer Feedback Summary (Today's):\")\n",
    "for feedback in feedback_list:\n",
    "    print(\"- \" + feedback)\n",
    "\n",
    "# But what if you want to save this feedback for future reference?\n",
    "# This is where file handling helps — we can write this data to a file instead."
   ]
  },
  {
   "cell_type": "markdown",
   "id": "62456f2d-718b-43fb-bb3f-f463262f129e",
   "metadata": {},
   "source": [
    "# Opening and Closing Files in Python\n",
    "\n",
    "To work with files, the first step is to **open** them. Python's built-in `open()` function allows us to open a file in different modes:\n",
    "\n",
    "- `'r'` – Read (default): Opens the file for reading.\n",
    "- `'w'` – Write: Opens the file for writing (overwrites if file exists).\n",
    "- `'a'` – Append: Opens the file for appending data at the end.\n",
    "- `'x'` – Create: Creates a new file, fails if the file exists.\n",
    "- `'b'` - Binary\n",
    "\n",
    "Once done with a file, we **close** it to free system resources and ensure data is saved properly."
   ]
  },
  {
   "cell_type": "markdown",
   "id": "f0179749-7b9d-4539-8c6f-e156d9c98bdc",
   "metadata": {},
   "source": [
    "## Business Use Case\n",
    "\n",
    "You want to save daily customer feedback to a text file so it can be reviewed later by your support team.\n"
   ]
  },
  {
   "cell_type": "markdown",
   "id": "6581a84d-0edc-4141-8d1f-f7cd74505b9a",
   "metadata": {},
   "source": [
    "## Important:\n",
    "\n",
    "Always close the file after you're done working with it to avoid data loss or file corruption."
   ]
  },
  {
   "cell_type": "code",
   "execution_count": 2,
   "id": "7c34730b-1ff5-4655-8867-2f25c77979d8",
   "metadata": {},
   "outputs": [],
   "source": [
    "# Open a file named 'feedback.txt' in write mode to save customer feedback\n",
    "\n",
    "file = open('feedback.txt', 'w')  "
   ]
  },
  {
   "cell_type": "code",
   "execution_count": 3,
   "id": "dbe3f0c3-cc49-4cbe-bfe5-1f1867a416da",
   "metadata": {},
   "outputs": [
    {
     "data": {
      "text/plain": [
       "34"
      ]
     },
     "execution_count": 3,
     "metadata": {},
     "output_type": "execute_result"
    }
   ],
   "source": [
    "# Write a sample feedback line to the file\n",
    "\n",
    "file.write(\"Great product! Delivered on time.\\n\")  "
   ]
  },
  {
   "cell_type": "code",
   "execution_count": 5,
   "id": "5cfd0306-3be8-4cc8-ab4a-36bba1a6c269",
   "metadata": {},
   "outputs": [],
   "source": [
    "# Close the file to ensure data is saved and resources are freed\n",
    "\n",
    "file.close()  "
   ]
  },
  {
   "cell_type": "markdown",
   "id": "47c2db87-827e-4039-826f-51aa546a1d5c",
   "metadata": {},
   "source": [
    "This frees up system resources and ensures that all data is properly written to disk, especially if the file was opened for writing. Failing to close files can lead to memory issues or data loss in longer-running programs."
   ]
  },
  {
   "cell_type": "markdown",
   "id": "53b1ae12-e0e9-4d5f-ae39-faedeeacca59",
   "metadata": {},
   "source": [
    "# Using File Context (`with` Statement) in Python\n",
    "\n",
    "Managing files using `open()` and `close()` manually can sometimes lead to errors if the file is not closed properly — especially when exceptions occur.\n",
    "\n",
    "Python provides a better way using the `with` statement, also called **context management**. This handles opening and closing files automatically, even if something goes wrong. \n",
    "\n",
    "The `with` statement:\n",
    "- Automatically opens and closes the file.\n",
    "- Ensures files are closed properly even if errors happen.\n",
    "- Makes the code cleaner and easier to read.\n"
   ]
  },
  {
   "cell_type": "markdown",
   "id": "29222c39-e565-4c86-be30-9fb85e7285d3",
   "metadata": {},
   "source": [
    "## Business Use Case\n",
    "\n",
    "You want to save daily customer feedback to a file reliably, without worrying about forgetting to close the file — even if an error occurs during writing."
   ]
  },
  {
   "cell_type": "code",
   "execution_count": 7,
   "id": "945c1abf-9ec6-4913-b0b7-6e8ec0a27d3c",
   "metadata": {},
   "outputs": [],
   "source": [
    "# Open 'feedback.txt' in append mode to add new feedback safely\n",
    "\n",
    "with open('feedback.txt', 'a') as file:\n",
    "    \n",
    "    # Write feedback to the file\n",
    "    file.write(\"Excellent customer service.\\n\")\n",
    "\n",
    "# No need to explicitly close the file; it's auto-closed after this block"
   ]
  },
  {
   "cell_type": "markdown",
   "id": "e24f0c46-b5c1-447f-9123-5bcd83a1e7fb",
   "metadata": {},
   "source": [
    "Using **with** for file operations is considered best practice in Python. It ensures that resources are properly managed without needing to call **close()** manually. This method makes your code cleaner, more readable, and less error-prone, especially useful when working with multiple files or large data operations."
   ]
  },
  {
   "cell_type": "markdown",
   "id": "8b6166b1-aa73-4a14-b993-349824534cfa",
   "metadata": {},
   "source": [
    "# Reading from a File in Python\n",
    "\n",
    "After saving data to a file, we often need to **read** it back — for analysis, reporting, or displaying to users.\n",
    "\n",
    "Reading data from files is one of the most common tasks in data processing. Whether it’s a configuration file, a dataset, or a saved model output, Python provides several ways to extract information from text files once they’re opened. \n",
    "\n",
    "Python provides multiple methods to read files:\n",
    "\n",
    "- `.read()` reads the entire file content as a single string.\n",
    "- `.readline()` reads one line at a time.\n",
    "- `.readlines()` reads all lines and returns a list of strings.\n"
   ]
  },
  {
   "cell_type": "markdown",
   "id": "1834499e-b99b-416c-8ee6-beb389d0dbfa",
   "metadata": {},
   "source": [
    "## Business Use Case\n",
    "\n",
    "You run a customer support team and want to **read customer feedback** saved in a file to analyze common issues or compliments."
   ]
  },
  {
   "cell_type": "code",
   "execution_count": 8,
   "id": "4512cced-1ff8-4caa-b6d9-98fd9d003ea6",
   "metadata": {},
   "outputs": [],
   "source": [
    "# Open the file in read mode to access customer feedback\n",
    "\n",
    "with open('feedback.txt', 'r') as file:\n",
    "    \n",
    "    # Read all lines from the file into a list\n",
    "    feedback_lines = file.readlines()"
   ]
  },
  {
   "cell_type": "code",
   "execution_count": 10,
   "id": "289162b0-0623-40fb-95a6-42109789b31c",
   "metadata": {},
   "outputs": [
    {
     "name": "stdout",
     "output_type": "stream",
     "text": [
      "Customer Feedback Received:\n",
      "- Great product! Delivered on time.\n",
      "- Excellent customer service.\n",
      "- Excellent customer service.\n"
     ]
    }
   ],
   "source": [
    "# Print each feedback line\n",
    "\n",
    "print(\"Customer Feedback Received:\")\n",
    "for line in feedback_lines:\n",
    "    print(\"- \" + line.strip())"
   ]
  },
  {
   "cell_type": "markdown",
   "id": "b823ad09-2ba8-452b-9e84-a948253e5e13",
   "metadata": {},
   "source": [
    "- **read()** - Reads the entire file as a single sting"
   ]
  },
  {
   "cell_type": "code",
   "execution_count": 18,
   "id": "fd6cef53-ac49-4064-9e1d-88fb64cc26dd",
   "metadata": {},
   "outputs": [],
   "source": [
    "with open('data.txt','r') as file:\n",
    "    content = file.read()"
   ]
  },
  {
   "cell_type": "code",
   "execution_count": 19,
   "id": "b890fa77-4979-4c8c-a3a5-ad15064b51e6",
   "metadata": {},
   "outputs": [
    {
     "name": "stdout",
     "output_type": "stream",
     "text": [
      "This is my text file. \n",
      "\n",
      "This text file contains all the details related to python programming.\n"
     ]
    }
   ],
   "source": [
    "print(content)"
   ]
  },
  {
   "cell_type": "markdown",
   "id": "439065c3-3a26-4150-8934-047c0ba03ed9",
   "metadata": {},
   "source": [
    "- **readline()** - Reads one line at a time (useful for large files)"
   ]
  },
  {
   "cell_type": "code",
   "execution_count": 20,
   "id": "00490dd4-2e77-4f0e-a97f-964f51eb30e6",
   "metadata": {},
   "outputs": [
    {
     "name": "stdout",
     "output_type": "stream",
     "text": [
      "This is my text file.\n",
      "\n",
      "This text file contains all the details related to python programming.\n"
     ]
    }
   ],
   "source": [
    "with open('data.txt','r') as file:\n",
    "    line = file.readline()\n",
    "    while line :\n",
    "        print(line.strip())\n",
    "        line = file.readline()"
   ]
  },
  {
   "cell_type": "markdown",
   "id": "d9b71db9-bf6c-4cf1-bc04-920a0592e417",
   "metadata": {},
   "source": [
    "- **readlines()** - Reads all lines into a list"
   ]
  },
  {
   "cell_type": "code",
   "execution_count": 23,
   "id": "102c8096-10bc-4f48-bff3-87c78c01c228",
   "metadata": {},
   "outputs": [
    {
     "name": "stdout",
     "output_type": "stream",
     "text": [
      "This is my text file.\n",
      "\n",
      "This text file contains all the details related to python programming.\n"
     ]
    }
   ],
   "source": [
    "with open('data.txt','r') as file:\n",
    "    lines = file.readlines()\n",
    "    for line in lines:\n",
    "        print(line.strip())"
   ]
  },
  {
   "cell_type": "markdown",
   "id": "6f4ebd1c-4bfe-4de0-91ad-eb267b9bb2ff",
   "metadata": {},
   "source": [
    "Each method suits different needs: use **read()** for small files, **readline()** for streaming (process large files by reading the file line by line, instead of loading the entire file into memory at once), and **readlines()** when you need to work with individual lines.\n",
    "\n",
    "Being able to read from files in various ways gives you flexibility when handling structured and unstructured data. "
   ]
  },
  {
   "cell_type": "markdown",
   "id": "59184e52-4aa7-4c8f-b69a-b76747e8d474",
   "metadata": {},
   "source": [
    "# Writing to a File in Python\n",
    "Writing data to a file is essential when saving processed results, logs, or reports. \n",
    "Writing to a file means **creating a new file or overwriting an existing one** with new data.\n",
    "\n",
    "Python lets you do this using `open()` with **write mode `'w'`**:\n",
    "- If the file does not exist, it will be created.\n",
    "- If the file already exists, it will be **overwritten** (old content is lost).\n"
   ]
  },
  {
   "cell_type": "markdown",
   "id": "e6f31ccf-0910-44f4-91bf-58346c13c11c",
   "metadata": {},
   "source": [
    "## Business Use Case\n",
    "\n",
    "Let’s say you’re generating a **daily sales report** for your store. You want to write the report summary into a file so it can be shared with stakeholders or archived for records.\n"
   ]
  },
  {
   "cell_type": "code",
   "execution_count": 24,
   "id": "371e9518-72f4-4c34-9f43-542a836d811b",
   "metadata": {},
   "outputs": [],
   "source": [
    "# Sample sales report data for the day\n",
    "\n",
    "sales_report = \"\"\"Daily Sales Report - 10 June 2025\n",
    "------------------------------\n",
    "Total Orders: 150\n",
    "Total Revenue: ₹75,000\n",
    "Top Product: Wireless Headphones\n",
    "\"\"\"\n"
   ]
  },
  {
   "cell_type": "code",
   "execution_count": 25,
   "id": "ecc5911b-774b-46eb-b71c-3810fdd70cde",
   "metadata": {},
   "outputs": [
    {
     "name": "stdout",
     "output_type": "stream",
     "text": [
      "Sales report has been saved.\n"
     ]
    }
   ],
   "source": [
    "# Open a file in write mode to save the report\n",
    "\n",
    "with open('daily_sales_report.txt', 'w') as report_file:\n",
    "    \n",
    "    # Write the report content to the file\n",
    "    report_file.write(sales_report)\n",
    "\n",
    "# The file is automatically closed after the 'with' block\n",
    "print(\"Sales report has been saved.\")"
   ]
  },
  {
   "cell_type": "markdown",
   "id": "c5a57054-03a9-4fcb-9186-46af3f1ac195",
   "metadata": {},
   "source": [
    "# Appending to a File in Python\n",
    "\n",
    "Sometimes, we don’t want to overwrite a file — instead, we want to **add new data to the end** of an existing file.\n",
    "\n",
    "To do this, we use the **append mode `'a'`** with the `open()` function:\n",
    "- If the file doesn't exist, it is created.\n",
    "- If it exists, new content is added to the end **without deleting previous content**.\n"
   ]
  },
  {
   "cell_type": "markdown",
   "id": "ab147b9b-a387-4882-8a9a-04a30644ddbd",
   "metadata": {},
   "source": [
    "## Business Use Case\n",
    "\n",
    "Your customer support team logs customer feedback throughout the day. Each new feedback needs to be **added** to an existing log file, not replace what's already there.\n"
   ]
  },
  {
   "cell_type": "code",
   "execution_count": 26,
   "id": "d63ec1e8-a174-4bfa-afec-16e6c5dddeb5",
   "metadata": {},
   "outputs": [],
   "source": [
    "# New feedback received during the day\n",
    "\n",
    "new_feedback = [\n",
    "    \"Fast delivery, very impressed.\",\n",
    "    \"Could improve packaging.\",\n",
    "    \"Great after-sales service!\"\n",
    "]"
   ]
  },
  {
   "cell_type": "code",
   "execution_count": 28,
   "id": "011137d0-6663-4ead-84f0-5863af1b3424",
   "metadata": {},
   "outputs": [
    {
     "name": "stdout",
     "output_type": "stream",
     "text": [
      "New feedback entries have been added.\n"
     ]
    }
   ],
   "source": [
    "# Open the feedback file in append mode to add new entries\n",
    "\n",
    "with open('feedback.txt', 'a') as file:\n",
    "    for feedback in new_feedback:\n",
    "        # Write each feedback on a new line\n",
    "        file.write(feedback + '\\n')\n",
    "\n",
    "print(\"New feedback entries have been added.\")"
   ]
  },
  {
   "cell_type": "markdown",
   "id": "f5197d1e-9dda-46e7-9530-ee914ba89d2d",
   "metadata": {},
   "source": [
    "Each time this block runs, the new line is added to the end of **feedback.txt**, preserving previous content. This is useful for keeping logs, tracking events, or collecting runtime outputs across multiple runs.\n",
    "\n",
    "When to use append mode:\n",
    "- Adding log entries during program execution\n",
    "- Collecting output across multiple runs of a script\n",
    "- Building a file gradually without reprocessing previous content\n",
    "\n",
    "Appending is safe and efficient when you want to preserve history and lets you build on existing files without wiping out important data. "
   ]
  },
  {
   "cell_type": "markdown",
   "id": "2fd98bf0-ca6a-4996-add4-aa99d53cc7ed",
   "metadata": {},
   "source": [
    "# Working with File Paths in Python\n",
    "\n",
    "When working with files, it’s important to understand **file paths**:\n",
    "- **Relative paths**: Paths relative to the current working directory.\n",
    "- **Absolute paths**: Full paths from the root of the system.\n",
    "\n",
    ">Understanding the difference helps avoid file-not-found errors and improves portability. \n",
    "\n",
    "Python’s `os` and `pathlib` modules help you handle file paths in a **platform-independent** and safe way."
   ]
  },
  {
   "cell_type": "markdown",
   "id": "c9ba7dd6-86fc-477e-b8fb-0da9eb6a527b",
   "metadata": {},
   "source": [
    "## Business Use Case\n",
    "\n",
    "Let’s say your team saves reports in a dedicated folder like `reports/`, and you want to generate a file there regardless of whether your script runs on Windows or Linux."
   ]
  },
  {
   "cell_type": "code",
   "execution_count": 29,
   "id": "b1f29762-d15f-4fc9-b346-af27cc66d24a",
   "metadata": {},
   "outputs": [],
   "source": [
    "from pathlib import Path"
   ]
  },
  {
   "cell_type": "code",
   "execution_count": 30,
   "id": "344dfaaf-64fe-4411-b354-58cbdd7edf96",
   "metadata": {},
   "outputs": [],
   "source": [
    "# Define the directory where reports will be saved\n",
    "\n",
    "report_dir = Path(\"reports\")"
   ]
  },
  {
   "cell_type": "code",
   "execution_count": 31,
   "id": "3633a9a8-016a-49c2-9df0-79277679916c",
   "metadata": {},
   "outputs": [],
   "source": [
    "# Create the directory if it doesn't exist\n",
    "\n",
    "report_dir.mkdir(exist_ok=True)"
   ]
  },
  {
   "cell_type": "code",
   "execution_count": 32,
   "id": "72f76e5b-27ce-458f-8590-067cfd909b22",
   "metadata": {},
   "outputs": [],
   "source": [
    "# Define the full file path (using the / operator for joining paths)\n",
    "\n",
    "report_file = report_dir / \"sales_summary.txt\""
   ]
  },
  {
   "cell_type": "code",
   "execution_count": 33,
   "id": "1ffd43e1-30f9-4c61-8322-31b8ef24d7e8",
   "metadata": {},
   "outputs": [],
   "source": [
    "# Open the file and write the report content\n",
    "\n",
    "with report_file.open('w') as file:\n",
    "    file.write(\"Summary Report: Total Sales ₹80,000\\n\")"
   ]
  },
  {
   "cell_type": "code",
   "execution_count": 35,
   "id": "42da12cd-7d78-478a-a220-beb719a356e6",
   "metadata": {},
   "outputs": [
    {
     "name": "stdout",
     "output_type": "stream",
     "text": [
      "Report saved at: /Users/yoezeljai/Desktop/DS-AI:ML/Python Learning/Advanced Functional Programming/reports/sales_summary.txt\n"
     ]
    }
   ],
   "source": [
    "# Print the absolute path to confirm\n",
    "\n",
    "print(f\"Report saved at: {report_file.resolve()}\")"
   ]
  },
  {
   "cell_type": "markdown",
   "id": "e7b0a492-a607-4942-a6ab-aefa69fe9d37",
   "metadata": {},
   "source": [
    "Using **Path** objects makes your code cleaner and more robust, especially across different operating systems.\n",
    "\n",
    "Working with file paths properly ensures that your programs find and store files reliably, whether running locally or on another system. Up next, we’ll discuss how to handle errors during file operations, such as when a file doesn’t exist or access is denied."
   ]
  },
  {
   "cell_type": "markdown",
   "id": "0ed6be05-a068-480e-aeef-3f40f83685aa",
   "metadata": {},
   "source": [
    "# Error Handling in File Operations\n",
    "\n",
    "When working with files, errors can happen — like:\n",
    "- File not found\n",
    "- No permission to read/write\n",
    "- Invalid file path\n",
    "- Disk issues\n",
    "\n",
    "Python provides a structured way to handle such cases using **`try`–`except` blocks**.\n",
    "\n",
    "This helps avoid crashing the program and lets you show helpful messages or take fallback actions."
   ]
  },
  {
   "cell_type": "markdown",
   "id": "999ba52e-f6c3-479d-a574-e14a89fa753b",
   "metadata": {},
   "source": [
    "## Business Use Case\n",
    "\n",
    "You’re reading a feedback file for a daily report. If the file doesn’t exist, the program should **not crash**, but instead show a message to the user.\n"
   ]
  },
  {
   "cell_type": "code",
   "execution_count": 43,
   "id": "146be26b-6dfd-4f8d-80af-d31f0f3bb7d4",
   "metadata": {},
   "outputs": [
    {
     "name": "stdout",
     "output_type": "stream",
     "text": [
      "⚠️ Feedback file not found. Please check the filename or run the feedback collection first.\n"
     ]
    }
   ],
   "source": [
    "# Try reading a file that may not exist\n",
    "\n",
    "try:\n",
    "    \n",
    "    with open('daily_feedback.txt', 'r') as file: # this file doe not exist. \n",
    "        content = file.read()\n",
    "        print(\"Feedback:\\n\", content)\n",
    "\n",
    "except FileNotFoundError:\n",
    "    \n",
    "    # Handle the case where file is not present\n",
    "    print(\"⚠️ Feedback file not found. Please check the filename or run the feedback collection first.\")\n",
    "\n",
    "except PermissionError:\n",
    "    \n",
    "    # Handle permission issues\n",
    "    print(\"🚫 You don't have permission to read this file.\")\n",
    "\n",
    "except Exception as e:\n",
    "    \n",
    "    # Catch-all for any other unexpected errors\n",
    "    print(f\"Unexpected error occurred: {e}\")\n"
   ]
  },
  {
   "cell_type": "code",
   "execution_count": 44,
   "id": "f71b538d-06f7-44f9-be6a-7df13db53430",
   "metadata": {},
   "outputs": [
    {
     "name": "stdout",
     "output_type": "stream",
     "text": [
      "Feedback:\n",
      " Great product! Delivered on time.\n",
      "Excellent customer service.\n",
      "Excellent customer service.\n",
      "Fast delivery, very impressed.\n",
      "Could improve packaging.\n",
      "Great after-sales service!\n",
      "Fast delivery, very impressed.\n",
      "Could improve packaging.\n",
      "Great after-sales service!\n",
      "\n"
     ]
    }
   ],
   "source": [
    "try:\n",
    "    \n",
    "    with open('feedback.txt', 'r') as file:  # this file exist\n",
    "        content = file.read()\n",
    "        print(\"Feedback:\\n\", content)\n",
    "\n",
    "except FileNotFoundError:\n",
    "    \n",
    "    # Handle the case where file is not present\n",
    "    print(\"⚠️ Feedback file not found. Please check the filename or run the feedback collection first.\")\n",
    "\n",
    "except PermissionError:\n",
    "    \n",
    "    # Handle permission issues\n",
    "    print(\"🚫 You don't have permission to read this file.\")\n",
    "\n",
    "except Exception as e:\n",
    "    \n",
    "    # Catch-all for any other unexpected errors\n",
    "    print(f\"Unexpected error occurred: {e}\")\n"
   ]
  },
  {
   "cell_type": "markdown",
   "id": "e2a83ffd-2617-4aa9-982d-13c2fc08a417",
   "metadata": {},
   "source": [
    "Here are a few file operation errors that you might encounter:\n",
    "- **FileNotFoundError**: The file doesn't exist\n",
    "- **PermissionError**: You don’t have permission to read or write\n",
    "- **OSError**: Problems like an invalid path or disk failure\n",
    "\n",
    "Using **try-except** blocks allows your program to continue running or provide a helpful message, instead of failing silently or crashing."
   ]
  },
  {
   "cell_type": "markdown",
   "id": "32fe0532-ca9b-414f-a1f3-db75e9c223eb",
   "metadata": {},
   "source": [
    "# Practical Business Use Case: Generating and Managing Reports\n",
    "\n",
    "Now that we’ve covered reading, writing, and appending to files — along with file paths and error handling — let’s look at a simple real-world use case:"
   ]
  },
  {
   "cell_type": "markdown",
   "id": "2327565c-d116-4363-adce-4116ba98f6ca",
   "metadata": {},
   "source": [
    "## Use Case: Sales Report Automation\n",
    "\n",
    "Imagine a small retail business that wants to:\n",
    "- Create a new sales report every day\n",
    "- Append new transactions to a log\n",
    "- Read the report when needed\n",
    "- Handle missing files or errors\n",
    "\n",
    "This helps demonstrate how file operations can be used together in a **mini data pipeline**."
   ]
  },
  {
   "cell_type": "code",
   "execution_count": 45,
   "id": "a5f8042d-e739-4431-a9a4-583f5a7eccf8",
   "metadata": {},
   "outputs": [],
   "source": [
    "from pathlib import Path\n",
    "from datetime import datetime"
   ]
  },
  {
   "cell_type": "code",
   "execution_count": 46,
   "id": "a568e01d-2a50-4543-ab8a-5f85eb87f0ad",
   "metadata": {},
   "outputs": [],
   "source": [
    "# Step 1: Set up file path\n",
    "\n",
    "report_dir = Path(\"sales_reports\")\n",
    "report_dir.mkdir(exist_ok=True)\n",
    "\n",
    "\n",
    "# Use today's date to name the report file\n",
    "\n",
    "today = datetime.now().strftime(\"%Y-%m-%d\")\n",
    "report_path = report_dir / f\"{today}_sales.txt\""
   ]
  },
  {
   "cell_type": "code",
   "execution_count": 47,
   "id": "ff684b89-e0e6-4cfb-b23b-456e63b56894",
   "metadata": {},
   "outputs": [
    {
     "name": "stdout",
     "output_type": "stream",
     "text": [
      "Transaction added to: 2025-08-17_sales.txt\n"
     ]
    }
   ],
   "source": [
    "# Step 2: Append a new transaction\n",
    "\n",
    "new_transaction = \"Order#2451 | ₹2,000 | Wireless Mouse\\n\"\n",
    "\n",
    "try:\n",
    "    with report_path.open('a') as file:\n",
    "        file.write(new_transaction)\n",
    "        \n",
    "    print(f\"Transaction added to: {report_path.name}\")\n",
    "\n",
    "except Exception as e:\n",
    "    print(f\"Error writing to file: {e}\")"
   ]
  },
  {
   "cell_type": "code",
   "execution_count": 48,
   "id": "58518e24-2464-4c75-835b-ebaf90f51076",
   "metadata": {},
   "outputs": [
    {
     "name": "stdout",
     "output_type": "stream",
     "text": [
      "\n",
      "🧾 Today's Sales Report:\n",
      "Order#2451 | ₹2,000 | Wireless Mouse\n",
      "\n"
     ]
    }
   ],
   "source": [
    "# Step 3: Read and display the report\n",
    "try:\n",
    "    with report_path.open('r') as file:\n",
    "        print(\"\\n🧾 Today's Sales Report:\")\n",
    "        print(file.read())\n",
    "\n",
    "except FileNotFoundError:\n",
    "    print(\"⚠️ Report file not found.\")\n",
    "\n",
    "except Exception as e:\n",
    "    print(f\"Error reading file: {e}\")"
   ]
  },
  {
   "cell_type": "markdown",
   "id": "7bd0904e-dfa7-468c-8f7d-a1c37b919cca",
   "metadata": {},
   "source": [
    "# Working with JSON Files (Simple Version)\n",
    "JSON (JavaScript Object Notation) is a lightweight format commonly used for storing and exchanging structured data. It’s widely used in web APIs, configuration files, and data pipelines. We often store data like customer info, preferences, or settings in JSON files.\n",
    "\n",
    "Python provides the built-in `json` module to:\n",
    "- Write dictionaries/lists into `.json` files\n",
    "- Read `.json` files and convert back to Python objects\n",
    "\n",
    "This version skips advanced modules and uses basic string paths for clarity.\n"
   ]
  },
  {
   "cell_type": "markdown",
   "id": "1663750c-5d60-4d22-8126-4ee1e885d891",
   "metadata": {},
   "source": [
    "## Business Use Case\n",
    "\n",
    "Imagine you're storing customer support tickets in a JSON file so that your app can access them later."
   ]
  },
  {
   "cell_type": "code",
   "execution_count": 49,
   "id": "08dd884e-db7a-4097-9aa4-ab335d9ec59a",
   "metadata": {},
   "outputs": [],
   "source": [
    "import json"
   ]
  },
  {
   "cell_type": "code",
   "execution_count": 50,
   "id": "7805649a-75d3-4aa4-a639-ebce3f17f62a",
   "metadata": {},
   "outputs": [],
   "source": [
    "# File name as a plain string\n",
    "file_name = \"support_tickets.json\""
   ]
  },
  {
   "cell_type": "code",
   "execution_count": 51,
   "id": "0903fec8-b942-4e3d-9934-34aa9a9a5979",
   "metadata": {},
   "outputs": [],
   "source": [
    "# Sample data to write (Python dictionary)\n",
    "tickets = {\n",
    "    \"tickets\": [\n",
    "        {\"ticket_id\": 101, \"issue\": \"Login failure\", \"priority\": \"High\"},\n",
    "        {\"ticket_id\": 102, \"issue\": \"Page not loading\", \"priority\": \"Medium\"},\n",
    "        {\"ticket_id\": 103, \"issue\": \"Feature request\", \"priority\": \"Low\"}\n",
    "    ]\n",
    "}"
   ]
  },
  {
   "cell_type": "code",
   "execution_count": 52,
   "id": "13126b89-23cb-49ab-bdec-79bb9f231c0f",
   "metadata": {},
   "outputs": [
    {
     "name": "stdout",
     "output_type": "stream",
     "text": [
      "✅ Tickets written to JSON file.\n"
     ]
    }
   ],
   "source": [
    "# Step 1: Write JSON data to a file\n",
    "\n",
    "try:\n",
    "    with open(file_name, 'w') as file:\n",
    "        json.dump(tickets, file, indent=4)\n",
    "        \n",
    "    print(\"✅ Tickets written to JSON file.\")\n",
    "\n",
    "except Exception as e:\n",
    "    print(f\"Error writing to JSON: {e}\")"
   ]
  },
  {
   "cell_type": "code",
   "execution_count": 53,
   "id": "821a4ccf-8595-4dd4-b082-04ad1f9eac96",
   "metadata": {},
   "outputs": [
    {
     "name": "stdout",
     "output_type": "stream",
     "text": [
      "\n",
      "📬 Support Tickets:\n",
      "Ticket #101 - Login failure (High)\n",
      "Ticket #102 - Page not loading (Medium)\n",
      "Ticket #103 - Feature request (Low)\n"
     ]
    }
   ],
   "source": [
    "# Step 2: Read and display the JSON data\n",
    "\n",
    "try:\n",
    "    with open(file_name, 'r') as file:\n",
    "        data = json.load(file)\n",
    "\n",
    "    print(\"\\n📬 Support Tickets:\")\n",
    "    \n",
    "    for ticket in data[\"tickets\"]:\n",
    "        print(f\"Ticket #{ticket['ticket_id']} - {ticket['issue']} ({ticket['priority']})\")\n",
    "\n",
    "except Exception as e:\n",
    "    print(f\"Error reading JSON: {e}\")"
   ]
  },
  {
   "cell_type": "markdown",
   "id": "d2592e90-e3e0-4952-abee-6629f305fbdc",
   "metadata": {},
   "source": [
    "You can also convert between JSON strings and Python objects using **json.loads()** and **json.dumps()**.\n",
    "\n",
    "JSON works closely with Python’s built-in types:\n",
    "- JSON objects ↔ Python dictionaries\n",
    "- JSON arrays ↔ Python lists\n",
    "- JSON strings ↔ Python strings\n",
    "\n",
    "Some common JSON methods in Python are:\n",
    "- **json.load()**\n",
    "    - Reads JSON data from a file-like object and converts it into a Python object\n",
    "    - Typically used when the JSON data is stored in a file\n",
    "- **json.loads()**\n",
    "    - Converts a JSON string into a Python object\n",
    "    - Used when you have JSON data as a string\n",
    "- **json.dump()**\n",
    "    - Writes a Python object to a file as JSON data\n",
    "    - Used to store Python objects in a file in JSON format\n",
    "- **json.dumps()**\n",
    "    - Converts a Python object into a JSON string\n",
    "    - Useful when you need to serialise Python objects to JSON format for transmission over a network or for storing in a text-based format"
   ]
  },
  {
   "cell_type": "code",
   "execution_count": 63,
   "id": "6aaa384f-c226-4c0d-bf50-6024448f9014",
   "metadata": {},
   "outputs": [
    {
     "ename": "JSONDecodeError",
     "evalue": "Expecting value: line 1 column 1 (char 0)",
     "output_type": "error",
     "traceback": [
      "\u001b[0;31m---------------------------------------------------------------------------\u001b[0m",
      "\u001b[0;31mJSONDecodeError\u001b[0m                           Traceback (most recent call last)",
      "Cell \u001b[0;32mIn[63], line 4\u001b[0m\n\u001b[1;32m      2\u001b[0m \u001b[38;5;28;01mimport\u001b[39;00m\u001b[38;5;250m \u001b[39m\u001b[38;5;21;01mjson\u001b[39;00m\n\u001b[1;32m      3\u001b[0m \u001b[38;5;28;01mwith\u001b[39;00m \u001b[38;5;28mopen\u001b[39m(\u001b[38;5;124m'\u001b[39m\u001b[38;5;124mdata.json\u001b[39m\u001b[38;5;124m'\u001b[39m,\u001b[38;5;124m'\u001b[39m\u001b[38;5;124mr\u001b[39m\u001b[38;5;124m'\u001b[39m) \u001b[38;5;28;01mas\u001b[39;00m file:\n\u001b[0;32m----> 4\u001b[0m     data \u001b[38;5;241m=\u001b[39m json\u001b[38;5;241m.\u001b[39mload(file)\n",
      "File \u001b[0;32m/opt/anaconda3/lib/python3.13/json/__init__.py:293\u001b[0m, in \u001b[0;36mload\u001b[0;34m(fp, cls, object_hook, parse_float, parse_int, parse_constant, object_pairs_hook, **kw)\u001b[0m\n\u001b[1;32m    274\u001b[0m \u001b[38;5;28;01mdef\u001b[39;00m\u001b[38;5;250m \u001b[39m\u001b[38;5;21mload\u001b[39m(fp, \u001b[38;5;241m*\u001b[39m, \u001b[38;5;28mcls\u001b[39m\u001b[38;5;241m=\u001b[39m\u001b[38;5;28;01mNone\u001b[39;00m, object_hook\u001b[38;5;241m=\u001b[39m\u001b[38;5;28;01mNone\u001b[39;00m, parse_float\u001b[38;5;241m=\u001b[39m\u001b[38;5;28;01mNone\u001b[39;00m,\n\u001b[1;32m    275\u001b[0m         parse_int\u001b[38;5;241m=\u001b[39m\u001b[38;5;28;01mNone\u001b[39;00m, parse_constant\u001b[38;5;241m=\u001b[39m\u001b[38;5;28;01mNone\u001b[39;00m, object_pairs_hook\u001b[38;5;241m=\u001b[39m\u001b[38;5;28;01mNone\u001b[39;00m, \u001b[38;5;241m*\u001b[39m\u001b[38;5;241m*\u001b[39mkw):\n\u001b[1;32m    276\u001b[0m \u001b[38;5;250m    \u001b[39m\u001b[38;5;124;03m\"\"\"Deserialize ``fp`` (a ``.read()``-supporting file-like object containing\u001b[39;00m\n\u001b[1;32m    277\u001b[0m \u001b[38;5;124;03m    a JSON document) to a Python object.\u001b[39;00m\n\u001b[1;32m    278\u001b[0m \n\u001b[0;32m   (...)\u001b[0m\n\u001b[1;32m    291\u001b[0m \u001b[38;5;124;03m    kwarg; otherwise ``JSONDecoder`` is used.\u001b[39;00m\n\u001b[1;32m    292\u001b[0m \u001b[38;5;124;03m    \"\"\"\u001b[39;00m\n\u001b[0;32m--> 293\u001b[0m     \u001b[38;5;28;01mreturn\u001b[39;00m loads(fp\u001b[38;5;241m.\u001b[39mread(),\n\u001b[1;32m    294\u001b[0m         \u001b[38;5;28mcls\u001b[39m\u001b[38;5;241m=\u001b[39m\u001b[38;5;28mcls\u001b[39m, object_hook\u001b[38;5;241m=\u001b[39mobject_hook,\n\u001b[1;32m    295\u001b[0m         parse_float\u001b[38;5;241m=\u001b[39mparse_float, parse_int\u001b[38;5;241m=\u001b[39mparse_int,\n\u001b[1;32m    296\u001b[0m         parse_constant\u001b[38;5;241m=\u001b[39mparse_constant, object_pairs_hook\u001b[38;5;241m=\u001b[39mobject_pairs_hook, \u001b[38;5;241m*\u001b[39m\u001b[38;5;241m*\u001b[39mkw)\n",
      "File \u001b[0;32m/opt/anaconda3/lib/python3.13/json/__init__.py:346\u001b[0m, in \u001b[0;36mloads\u001b[0;34m(s, cls, object_hook, parse_float, parse_int, parse_constant, object_pairs_hook, **kw)\u001b[0m\n\u001b[1;32m    341\u001b[0m     s \u001b[38;5;241m=\u001b[39m s\u001b[38;5;241m.\u001b[39mdecode(detect_encoding(s), \u001b[38;5;124m'\u001b[39m\u001b[38;5;124msurrogatepass\u001b[39m\u001b[38;5;124m'\u001b[39m)\n\u001b[1;32m    343\u001b[0m \u001b[38;5;28;01mif\u001b[39;00m (\u001b[38;5;28mcls\u001b[39m \u001b[38;5;129;01mis\u001b[39;00m \u001b[38;5;28;01mNone\u001b[39;00m \u001b[38;5;129;01mand\u001b[39;00m object_hook \u001b[38;5;129;01mis\u001b[39;00m \u001b[38;5;28;01mNone\u001b[39;00m \u001b[38;5;129;01mand\u001b[39;00m\n\u001b[1;32m    344\u001b[0m         parse_int \u001b[38;5;129;01mis\u001b[39;00m \u001b[38;5;28;01mNone\u001b[39;00m \u001b[38;5;129;01mand\u001b[39;00m parse_float \u001b[38;5;129;01mis\u001b[39;00m \u001b[38;5;28;01mNone\u001b[39;00m \u001b[38;5;129;01mand\u001b[39;00m\n\u001b[1;32m    345\u001b[0m         parse_constant \u001b[38;5;129;01mis\u001b[39;00m \u001b[38;5;28;01mNone\u001b[39;00m \u001b[38;5;129;01mand\u001b[39;00m object_pairs_hook \u001b[38;5;129;01mis\u001b[39;00m \u001b[38;5;28;01mNone\u001b[39;00m \u001b[38;5;129;01mand\u001b[39;00m \u001b[38;5;129;01mnot\u001b[39;00m kw):\n\u001b[0;32m--> 346\u001b[0m     \u001b[38;5;28;01mreturn\u001b[39;00m _default_decoder\u001b[38;5;241m.\u001b[39mdecode(s)\n\u001b[1;32m    347\u001b[0m \u001b[38;5;28;01mif\u001b[39;00m \u001b[38;5;28mcls\u001b[39m \u001b[38;5;129;01mis\u001b[39;00m \u001b[38;5;28;01mNone\u001b[39;00m:\n\u001b[1;32m    348\u001b[0m     \u001b[38;5;28mcls\u001b[39m \u001b[38;5;241m=\u001b[39m JSONDecoder\n",
      "File \u001b[0;32m/opt/anaconda3/lib/python3.13/json/decoder.py:345\u001b[0m, in \u001b[0;36mJSONDecoder.decode\u001b[0;34m(self, s, _w)\u001b[0m\n\u001b[1;32m    340\u001b[0m \u001b[38;5;28;01mdef\u001b[39;00m\u001b[38;5;250m \u001b[39m\u001b[38;5;21mdecode\u001b[39m(\u001b[38;5;28mself\u001b[39m, s, _w\u001b[38;5;241m=\u001b[39mWHITESPACE\u001b[38;5;241m.\u001b[39mmatch):\n\u001b[1;32m    341\u001b[0m \u001b[38;5;250m    \u001b[39m\u001b[38;5;124;03m\"\"\"Return the Python representation of ``s`` (a ``str`` instance\u001b[39;00m\n\u001b[1;32m    342\u001b[0m \u001b[38;5;124;03m    containing a JSON document).\u001b[39;00m\n\u001b[1;32m    343\u001b[0m \n\u001b[1;32m    344\u001b[0m \u001b[38;5;124;03m    \"\"\"\u001b[39;00m\n\u001b[0;32m--> 345\u001b[0m     obj, end \u001b[38;5;241m=\u001b[39m \u001b[38;5;28mself\u001b[39m\u001b[38;5;241m.\u001b[39mraw_decode(s, idx\u001b[38;5;241m=\u001b[39m_w(s, \u001b[38;5;241m0\u001b[39m)\u001b[38;5;241m.\u001b[39mend())\n\u001b[1;32m    346\u001b[0m     end \u001b[38;5;241m=\u001b[39m _w(s, end)\u001b[38;5;241m.\u001b[39mend()\n\u001b[1;32m    347\u001b[0m     \u001b[38;5;28;01mif\u001b[39;00m end \u001b[38;5;241m!=\u001b[39m \u001b[38;5;28mlen\u001b[39m(s):\n",
      "File \u001b[0;32m/opt/anaconda3/lib/python3.13/json/decoder.py:363\u001b[0m, in \u001b[0;36mJSONDecoder.raw_decode\u001b[0;34m(self, s, idx)\u001b[0m\n\u001b[1;32m    361\u001b[0m     obj, end \u001b[38;5;241m=\u001b[39m \u001b[38;5;28mself\u001b[39m\u001b[38;5;241m.\u001b[39mscan_once(s, idx)\n\u001b[1;32m    362\u001b[0m \u001b[38;5;28;01mexcept\u001b[39;00m \u001b[38;5;167;01mStopIteration\u001b[39;00m \u001b[38;5;28;01mas\u001b[39;00m err:\n\u001b[0;32m--> 363\u001b[0m     \u001b[38;5;28;01mraise\u001b[39;00m JSONDecodeError(\u001b[38;5;124m\"\u001b[39m\u001b[38;5;124mExpecting value\u001b[39m\u001b[38;5;124m\"\u001b[39m, s, err\u001b[38;5;241m.\u001b[39mvalue) \u001b[38;5;28;01mfrom\u001b[39;00m\u001b[38;5;250m \u001b[39m\u001b[38;5;28;01mNone\u001b[39;00m\n\u001b[1;32m    364\u001b[0m \u001b[38;5;28;01mreturn\u001b[39;00m obj, end\n",
      "\u001b[0;31mJSONDecodeError\u001b[0m: Expecting value: line 1 column 1 (char 0)"
     ]
    }
   ],
   "source": [
    "# Example of json.load()\n",
    "import json\n",
    "with open('data.json','r') as file:\n",
    "    data = json.load(file)"
   ]
  },
  {
   "cell_type": "code",
   "execution_count": 65,
   "id": "332dc624-2ef2-4ca5-8fdd-6f22271fc529",
   "metadata": {},
   "outputs": [],
   "source": [
    "# Example of json.loads()\n",
    "import json\n",
    "\n",
    "json_string = '{\"name\":\"Prakash\",\"age\":35}'\n",
    "data = json.loads(json_string)"
   ]
  },
  {
   "cell_type": "code",
   "execution_count": 66,
   "id": "2ad8f521-3148-41c9-ad11-59d5a192087e",
   "metadata": {},
   "outputs": [],
   "source": [
    "# Example of json.dump()\n",
    "import json\n",
    "\n",
    "data = {'name':'Prakash','age':35}\n",
    "with open('data.json','w') as file:\n",
    "    json.dump(data,file)"
   ]
  },
  {
   "cell_type": "code",
   "execution_count": 68,
   "id": "1af586f8-c7f9-4137-876b-da9ab540be1a",
   "metadata": {},
   "outputs": [
    {
     "name": "stdout",
     "output_type": "stream",
     "text": [
      "{\"name\": \"Prakash\", \"age\": 35}\n"
     ]
    }
   ],
   "source": [
    "# Example of json.dumps()\n",
    "import json\n",
    "data = {'name':'Prakash','age':35}\n",
    "json_string = json.dumps(data)\n",
    "print(json_string)"
   ]
  },
  {
   "cell_type": "markdown",
   "id": "ffea0b60-1336-4467-bf30-57c52fa06a98",
   "metadata": {},
   "source": [
    "Knowing how to work with JSON is essential when dealing with APIs, config files, or structured data. It allows easy integration with web services and data pipelines."
   ]
  }
 ],
 "metadata": {
  "kernelspec": {
   "display_name": "Python [conda env:base] *",
   "language": "python",
   "name": "conda-base-py"
  },
  "language_info": {
   "codemirror_mode": {
    "name": "ipython",
    "version": 3
   },
   "file_extension": ".py",
   "mimetype": "text/x-python",
   "name": "python",
   "nbconvert_exporter": "python",
   "pygments_lexer": "ipython3",
   "version": "3.13.5"
  },
  "widgets": {
   "application/vnd.jupyter.widget-state+json": {
    "state": {},
    "version_major": 2,
    "version_minor": 0
   }
  }
 },
 "nbformat": 4,
 "nbformat_minor": 5
}
