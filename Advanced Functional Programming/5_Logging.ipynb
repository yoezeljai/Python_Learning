{
 "cells": [
  {
   "cell_type": "markdown",
   "id": "9005b022-a957-47f6-80ce-22c57851e26a",
   "metadata": {},
   "source": [
    "# Introduction to Logging\n",
    "It's important to monitor what’s happening behind the scenes in our programs. This is where **logging** becomes essential.\n"
   ]
  },
  {
   "cell_type": "markdown",
   "id": "ea50ade8-2745-4a64-aebd-081cf466bc17",
   "metadata": {},
   "source": [
    "## What is Logging?\n",
    "\n",
    "- Logging means **recording important events or messages** that happen while a program runs.\n",
    "- It helps developers and system administrators **understand what the program is doing**, especially when things go wrong.\n",
    "- Unlike `print()` statements, logging can be controlled to show only relevant information depending on the situation."
   ]
  },
  {
   "cell_type": "markdown",
   "id": "5d42c2d5-a7c5-4f35-9df5-07219eb88c20",
   "metadata": {},
   "source": [
    "## Why Use Logging?\n",
    "\n",
    "- **Monitor applications:** Track the behavior of your program in real-time or after execution.\n",
    "- **Debug issues:** Quickly find where and why errors occurred without scanning the entire code.\n",
    "- **Audit trails:** Keep records of important actions for compliance or security.\n",
    "- **Maintainability:** Easier to manage and understand complex systems with logs.\n",
    "- **Performance:** Print statements can slow down programs and clutter output; logging is more efficient."
   ]
  },
  {
   "cell_type": "markdown",
   "id": "08b2a786-cd79-4786-b95f-8b5860c9608b",
   "metadata": {},
   "source": [
    "## Business Example: E-commerce Platform\n",
    "\n",
    "Imagine an online store where customers place orders:\n",
    "\n",
    "- You want to **record each order placed** to track sales.\n",
    "- You want to **know when a payment fails** to fix the problem quickly.\n",
    "- You want to **monitor inventory updates** to avoid overselling.\n",
    "\n",
    "Logging helps you capture all these events clearly and consistently, making your system reliable and maintainable.\n",
    "\n",
    "Logging can be as simple as noting “Start model training” or as detailed as recording warnings, errors, and critical failures."
   ]
  },
  {
   "cell_type": "markdown",
   "id": "ac5eab0a-cf8c-42d9-97bc-ca1c72eb13cd",
   "metadata": {},
   "source": [
    "# Logging Levels"
   ]
  },
  {
   "cell_type": "markdown",
   "id": "75c89ace-3803-4851-9c05-bd7371a74286",
   "metadata": {},
   "source": [
    "## What Are Logging Levels?\n",
    "\n",
    "- Logging levels help you **categorize log messages by their importance or severity**.\n",
    "- You can choose which levels to record or display, so you only see messages relevant to your current needs.\n",
    "- Python’s built-in `logging` module has standard levels with increasing severity:\n",
    "\n",
    "| Level      | Numeric Value | Description                               | Business Example                          |\n",
    "|------------|---------------|-------------------------------------------|-------------------------------------------|\n",
    "| DEBUG      | 10            | Detailed information, useful for debugging | Tracking every step in an order process   |\n",
    "| INFO       | 20            | General events, confirmation of things working | User successfully logged in               |\n",
    "| WARNING    | 30            | Something unexpected but not critical     | Low stock warning for a popular product  |\n",
    "| ERROR      | 40            | A serious problem that prevented some function | Payment gateway failed                     |\n",
    "| CRITICAL   | 50            | Very serious error causing program failure | Database down, system unavailable         |\n"
   ]
  },
  {
   "cell_type": "markdown",
   "id": "988c422d-a41b-4aee-b273-7eca38454056",
   "metadata": {},
   "source": [
    "## When to Use Each Level?\n",
    "\n",
    "- **DEBUG:** Use during development to get detailed insights.\n",
    "- **INFO:** Use for normal, important events in production.\n",
    "- **WARNING:** Use to highlight potential problems that don’t stop the program.\n",
    "- **ERROR:** Use when something fails but the program can continue.\n",
    "- **CRITICAL:** Use when the program cannot continue running.\n",
    "\n",
    "By categorising messages this way, you can control what gets shown or saved depending on the context (development, testing, production, etc.)\n",
    "\n",
    "Logging makes your programs more transparent, traceable, and easier to debug, especially in long-running scripts or data pipelines. "
   ]
  },
  {
   "cell_type": "markdown",
   "id": "7db14cbf-8e80-4b5a-a409-a41c4890e3c5",
   "metadata": {},
   "source": [
    "# Basic Logging Setup\n",
    "To start using logging effectively, you don’t need a complex setup. Python’s logging module includes a built-in configuration method called **basicConfig**, which lets you quickly define how messages are displayed or recorded."
   ]
  },
  {
   "cell_type": "markdown",
   "id": "0ff551d0-b9a3-4573-ada3-b195ef582fcd",
   "metadata": {},
   "source": [
    "## Setting Up Logging in Python\n",
    "\n",
    "- Python provides a built-in `logging` module to handle logging.\n",
    "- You can configure logging easily using `logging.basicConfig()`.\n",
    "- This lets you set the **minimum logging level** and the **format** of log messages."
   ]
  },
  {
   "cell_type": "markdown",
   "id": "985f2360-a0a4-4548-b9c8-7b39a73c62c6",
   "metadata": {},
   "source": [
    "## Example: Simple Logging Configuration"
   ]
  },
  {
   "cell_type": "code",
   "execution_count": 1,
   "id": "1ff4c39f-dbbc-4616-b59f-409c4573c734",
   "metadata": {},
   "outputs": [],
   "source": [
    "import logging"
   ]
  },
  {
   "cell_type": "code",
   "execution_count": 4,
   "id": "73801cac-f5ed-45fd-b276-e06d79f03163",
   "metadata": {},
   "outputs": [],
   "source": [
    "# Configure logging to show INFO and above, with time, level, and message\n",
    "\n",
    "logging.basicConfig(\n",
    "    level=logging.INFO,\n",
    "    format='%(asctime)s - %(levelname)s - %(message)s'\n",
    ")"
   ]
  },
  {
   "cell_type": "code",
   "execution_count": 5,
   "id": "918ad025-3c92-4126-9a2e-c1be5ac06a3f",
   "metadata": {},
   "outputs": [
    {
     "name": "stderr",
     "output_type": "stream",
     "text": [
      "2025-08-17 06:32:50,631 - INFO - Information: Process started\n",
      "2025-08-17 06:32:50,632 - WARNING - Warning: Resource usage is high\n",
      "2025-08-17 06:32:50,633 - ERROR - Error: Process failed\n",
      "2025-08-17 06:32:50,634 - CRITICAL - Critical: System shutting down\n"
     ]
    }
   ],
   "source": [
    "# Sample log messages\n",
    "\n",
    "logging.debug(\"Debugging details: Starting process\")  # Won't show, level is INFO\n",
    "logging.info(\"Information: Process started\")          # Will show\n",
    "logging.warning(\"Warning: Resource usage is high\")    # Will show\n",
    "logging.error(\"Error: Process failed\")                 # Will show\n",
    "logging.critical(\"Critical: System shutting down\")     # Will show"
   ]
  },
  {
   "cell_type": "markdown",
   "id": "116ed0fc-91d9-4a6f-9750-c7fc4be23a45",
   "metadata": {},
   "source": [
    "## What Does This Do?\n",
    "- level=logging.INFO means only log messages with level INFO or higher will be shown.\n",
    "- format specifies how each message is displayed:\n",
    "    - `%(asctime)s` — timestamp\n",
    "    - `%(levelname)s` — log level name\n",
    "    - `%(message)s` — the actual log message"
   ]
  },
  {
   "cell_type": "markdown",
   "id": "b5e8ce92-bc5c-4406-805a-58d5ef340b56",
   "metadata": {},
   "source": [
    "## Why is This Useful?\n",
    "- You can control how much detail you see without changing your code.\n",
    "- In development, you might want DEBUG messages; in production, only WARNING and above.\n",
    "- Formatting logs with timestamps helps trace when events happened."
   ]
  },
  {
   "cell_type": "markdown",
   "id": "ed556839-cf63-4ebb-9431-17883c30914b",
   "metadata": {},
   "source": [
    "# Writing Log Messages\n"
   ]
  },
  {
   "cell_type": "markdown",
   "id": "d9f34a04-5ac2-4a48-b42b-fd3f74c3f358",
   "metadata": {},
   "source": [
    "## How to Write Log Messages\n",
    "\n",
    "- Use different logging functions to record messages at various severity levels:\n",
    "  - `logging.debug('Debugging a variable')`\n",
    "  - `logging.info('Starting model training')`\n",
    "  - `logging.warning('Data file is missing some columns')`\n",
    "  - `logging.error('Failed to connect to database')`\n",
    "  - `logging.critical('system crash - shutting down')`\n",
    "- Choose the right level based on how serious or important the event is.\n",
    "- You can use these messages to trace your code step by step, especially during development and debugging. A consistent logging setup makes it easy to track your program's behaviour, identify issues faster, and keep clean records of what your code is doing."
   ]
  },
  {
   "cell_type": "markdown",
   "id": "4e542a70-fb29-46a1-901c-d7bd454207fe",
   "metadata": {},
   "source": [
    "## Business Use Case: Inventory Management\n",
    "\n",
    "Imagine an inventory system where products are added, stock levels updated, and errors might occur:\n",
    "\n",
    "- Use **INFO** to log normal actions like adding a product.\n",
    "- Use **WARNING** if stock levels get low.\n",
    "- Use **ERROR** if updating stock fails.\n",
    "\n"
   ]
  },
  {
   "cell_type": "code",
   "execution_count": 6,
   "id": "024942f3-f20b-4b2a-9c1c-9a1a41cb4cb8",
   "metadata": {},
   "outputs": [],
   "source": [
    "## Code Example"
   ]
  },
  {
   "cell_type": "code",
   "execution_count": 7,
   "id": "d4e5ee57-70fd-4130-be8f-4fe31ef6eaa0",
   "metadata": {},
   "outputs": [],
   "source": [
    "import logging"
   ]
  },
  {
   "cell_type": "code",
   "execution_count": 8,
   "id": "50fa2ec8-7a16-4190-be87-b5b7eb6cfdc5",
   "metadata": {},
   "outputs": [],
   "source": [
    "# Configure logging to show INFO and above, with simple message format\n",
    "\n",
    "logging.basicConfig(level=logging.INFO, format='%(levelname)s: %(message)s')"
   ]
  },
  {
   "cell_type": "code",
   "execution_count": 9,
   "id": "a1551e0e-e69b-4b03-90ed-80a1acc2461b",
   "metadata": {},
   "outputs": [],
   "source": [
    "def add_product(product_name):\n",
    "    \n",
    "    logging.info(f\"Adding new product: {product_name}\")\n",
    "    \n",
    "    # Simulate adding product\n",
    "    logging.info(f\"Product '{product_name}' added successfully.\")\n",
    "\n",
    "\n",
    "def update_stock(product_name, quantity):\n",
    "    \n",
    "    logging.info(f\"Updating stock for {product_name} by {quantity} units.\")\n",
    "    \n",
    "    if quantity < 0:\n",
    "        logging.warning(f\"Stock quantity negative for {product_name}. Check input.\")\n",
    "        \n",
    "    # Simulate an error scenario\n",
    "    if product_name == \"Gadget\":\n",
    "        logging.error(f\"Failed to update stock for {product_name} due to DB error.\")"
   ]
  },
  {
   "cell_type": "code",
   "execution_count": 10,
   "id": "2809ea69-812b-41b0-8143-66332540b3b7",
   "metadata": {},
   "outputs": [
    {
     "name": "stderr",
     "output_type": "stream",
     "text": [
      "2025-08-17 06:37:12,203 - INFO - Adding new product: Widget\n",
      "2025-08-17 06:37:12,204 - INFO - Product 'Widget' added successfully.\n",
      "2025-08-17 06:37:12,204 - INFO - Updating stock for Widget by 50 units.\n",
      "2025-08-17 06:37:12,205 - INFO - Updating stock for Gadget by -10 units.\n",
      "2025-08-17 06:37:12,205 - WARNING - Stock quantity negative for Gadget. Check input.\n",
      "2025-08-17 06:37:12,205 - ERROR - Failed to update stock for Gadget due to DB error.\n"
     ]
    }
   ],
   "source": [
    "# Example function calls to demonstrate logging\n",
    "add_product(\"Widget\")\n",
    "update_stock(\"Widget\", 50)\n",
    "update_stock(\"Gadget\", -10)"
   ]
  },
  {
   "cell_type": "markdown",
   "id": "fb4525e2-cf38-4c81-ba89-10dcf992cb29",
   "metadata": {},
   "source": [
    "# Example Use Cases"
   ]
  },
  {
   "cell_type": "markdown",
   "id": "9d3b4d9c-5eea-46f6-ace5-a2d3a0a8dff4",
   "metadata": {},
   "source": [
    "## Why Use Logging in Real Projects?\n",
    "\n",
    "Logging is useful across many business applications — whether you're building a web app, processing data, or working on automation. Below are a few simple and practical examples of how logging can be used."
   ]
  },
  {
   "cell_type": "markdown",
   "id": "212ff24d-58fe-4880-bc2a-728df3281df2",
   "metadata": {},
   "source": [
    "## Use Case 1: User Sign-Up System\n",
    "\n",
    "In a web application:\n",
    "\n",
    "- `INFO`: When a user successfully signs up.\n",
    "- `WARNING`: If the email provided is already taken.\n",
    "- `ERROR`: If the database is down and the sign-up fails."
   ]
  },
  {
   "cell_type": "code",
   "execution_count": 11,
   "id": "3a084834-edb9-4485-8b29-e0733b6e2b68",
   "metadata": {},
   "outputs": [],
   "source": [
    "import logging"
   ]
  },
  {
   "cell_type": "code",
   "execution_count": 12,
   "id": "ec2c9026-180c-4f27-b4cb-7c40a971acae",
   "metadata": {},
   "outputs": [],
   "source": [
    "# Configure logging to display INFO level and above\n",
    "\n",
    "logging.basicConfig(level=logging.INFO, format='%(levelname)s: %(message)s')"
   ]
  },
  {
   "cell_type": "code",
   "execution_count": 13,
   "id": "5b94f56b-bf75-4af6-97e0-10107aa8940c",
   "metadata": {},
   "outputs": [],
   "source": [
    "def sign_up_user(email):\n",
    "    \n",
    "    # Log the attempt to sign up\n",
    "    logging.info(f\"User attempting to sign up with email: {email}\")\n",
    "    \n",
    "    # Simulate a warning scenario if the email is already in the system\n",
    "    if email == \"existing@example.com\":\n",
    "        logging.warning(\"Email already exists in system.\")\n",
    "    \n",
    "    # Simulate an error if the database is not working or another failure occurs\n",
    "    elif email == \"fail@example.com\":\n",
    "        logging.error(\"Sign-up failed due to database error.\")\n",
    "    \n",
    "    # If everything is fine, log the successful sign-up\n",
    "    else:\n",
    "        logging.info(f\"User signed up successfully with email: {email}\")\n"
   ]
  },
  {
   "cell_type": "code",
   "execution_count": 14,
   "id": "fd515d6f-2096-4b1c-a216-f755f3d9d027",
   "metadata": {},
   "outputs": [
    {
     "name": "stderr",
     "output_type": "stream",
     "text": [
      "2025-08-17 06:37:42,814 - INFO - User attempting to sign up with email: newuser@example.com\n",
      "2025-08-17 06:37:42,815 - INFO - User signed up successfully with email: newuser@example.com\n",
      "2025-08-17 06:37:42,816 - INFO - User attempting to sign up with email: existing@example.com\n",
      "2025-08-17 06:37:42,817 - WARNING - Email already exists in system.\n",
      "2025-08-17 06:37:42,817 - INFO - User attempting to sign up with email: fail@example.com\n",
      "2025-08-17 06:37:42,817 - ERROR - Sign-up failed due to database error.\n"
     ]
    }
   ],
   "source": [
    "# Try signing up with different cases\n",
    "\n",
    "sign_up_user(\"newuser@example.com\")       # Should log success\n",
    "sign_up_user(\"existing@example.com\")      # Should log warning\n",
    "sign_up_user(\"fail@example.com\")          # Should log error"
   ]
  },
  {
   "cell_type": "markdown",
   "id": "e1fb4e36-2ce3-499a-982c-7f30e9d0103d",
   "metadata": {},
   "source": [
    "# Use Case 2: Retail Checkout System\n",
    "In a retail POS system:\n",
    "- `INFO`: Customer started checkout.\n",
    "- `WARNING`: Discount code expired.\n",
    "- `ERROR`: Payment failed due to invalid card.\n",
    "\n",
    "# Use Case 3: Data Processing Pipeline\n",
    "In a data pipeline:\n",
    "- `INFO`: Data file loaded successfully.\n",
    "- `WARNING`: Missing values detected.\n",
    "- `ERROR`: File not found or data format invalid.\n",
    "\n"
   ]
  }
 ],
 "metadata": {
  "kernelspec": {
   "display_name": "Python [conda env:base] *",
   "language": "python",
   "name": "conda-base-py"
  },
  "language_info": {
   "codemirror_mode": {
    "name": "ipython",
    "version": 3
   },
   "file_extension": ".py",
   "mimetype": "text/x-python",
   "name": "python",
   "nbconvert_exporter": "python",
   "pygments_lexer": "ipython3",
   "version": "3.13.5"
  },
  "widgets": {
   "application/vnd.jupyter.widget-state+json": {
    "state": {},
    "version_major": 2,
    "version_minor": 0
   }
  }
 },
 "nbformat": 4,
 "nbformat_minor": 5
}
