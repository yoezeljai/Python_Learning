{
 "cells": [
  {
   "cell_type": "markdown",
   "id": "6ddce484-6dfc-4cd0-95c3-b07a9aa20014",
   "metadata": {},
   "source": [
    "# Error Handling in Python"
   ]
  },
  {
   "cell_type": "markdown",
   "id": "6da4828a-f9e6-4a27-b28f-7dbd67dd715c",
   "metadata": {},
   "source": [
    "## 1. Why Handle Errors?\n",
    "\n",
    "Errors are a natural part of programming — users may enter wrong inputs, files may not exist, or a divide-by-zero may occur.\n",
    "\n",
    "**Without error handling**, your program may crash.  \n",
    "**With error handling**, you can show helpful messages or recover gracefully.\n",
    "\n",
    "Rather than letting our programs crash, Python provides a structured way to deal with these situations: exception handling using **try, except, else, and finally**.\n",
    "\n",
    "This allows us to catch and respond to errors, keep our programs running smoothly, and handle special cases more clearly."
   ]
  },
  {
   "cell_type": "markdown",
   "id": "fc33bf53-d8e2-4277-a96f-0ab6737ba0d3",
   "metadata": {},
   "source": [
    "## 2. Basic Keywords in Error Handling\n",
    "\n",
    "Python uses these blocks to handle errors:\n",
    "\n",
    "```python\n",
    "try:\n",
    "    # Code that might cause an error\n",
    "except SomeError:\n",
    "    # Code that runs if the error occurs\n",
    "else:\n",
    "    # Code that runs if no error occurs\n",
    "finally:\n",
    "    # Code that runs no matter what"
   ]
  },
  {
   "cell_type": "markdown",
   "id": "e2ee232f-429a-4679-b0a2-8e63bda179c3",
   "metadata": {},
   "source": [
    "Description of the above keywords\n",
    "- **try** : Python runs this block first\n",
    "- **except** : Runs only if an error occurs in the **try** block\n",
    "- **else** : Optional; runs only if no error was raised\n",
    "- **finally** : Always runs, used for cleanup tasks like closing files or releasing resources\n",
    "\n",
    "This structure is useful for handling errors cleanly without breaking the program."
   ]
  },
  {
   "cell_type": "markdown",
   "id": "52b2dca2-f31e-4a31-86b9-aa98923e46c8",
   "metadata": {},
   "source": [
    "## 3. Common Built-in Exceptions\n",
    "\n",
    "Python has many built-in error types. Let's focus on a few that are most common for beginners:\n",
    "\n",
    "| ❗ Exception Name      | 🔍 What Causes It?                            |\n",
    "|------------------------|-----------------------------------------------|\n",
    "| `ZeroDivisionError`    | Dividing a number by zero                    |\n",
    "| `ValueError`           | Giving a wrong type of value to a function  |\n",
    "| `TypeError`            | Performing invalid operations on types      |\n",
    "| `IndexError`           | Accessing an index that doesn't exist       |\n",
    "| `FileNotFoundError`    | Trying to open a file that doesn't exist    |\n",
    "| `AttributeError`       | Accessing an undefined attribute.           |\n",
    "\n",
    "Each of these can crash your code if not handled — so we'll learn to catch them!\n",
    "\n",
    "Understanding these exceptions makes it easier to design safer, more user-friendly code. Instead of stopping when something goes wrong, your program can adapt and continue, or stop gracefully."
   ]
  },
  {
   "cell_type": "markdown",
   "id": "c7dcdfe7-54eb-4125-8cae-c3bdcd471f10",
   "metadata": {},
   "source": [
    "## 4. Business Use Cases\n",
    "\n",
    "Let’s see how error handling applies in real-world tasks."
   ]
  },
  {
   "cell_type": "markdown",
   "id": "9e5709be-7cb5-4c72-b9e0-fa69e0f47ae0",
   "metadata": {},
   "source": [
    "### Example 1: Division Efficiency Calculator"
   ]
  },
  {
   "cell_type": "code",
   "execution_count": 1,
   "id": "7697ec56-ddfa-4cf4-84c3-c3046c169baa",
   "metadata": {},
   "outputs": [
    {
     "name": "stdin",
     "output_type": "stream",
     "text": [
      "Enter units produced:  1\n",
      "Enter hours worked:  a\n"
     ]
    },
    {
     "name": "stdout",
     "output_type": "stream",
     "text": [
      "❌ Please enter valid numbers.\n"
     ]
    }
   ],
   "source": [
    "# Calculate efficiency = units produced / hours worked\n",
    "# Handle bad inputs and division errors\n",
    "\n",
    "try:\n",
    "    units = int(input(\"Enter units produced: \"))\n",
    "    hours = int(input(\"Enter hours worked: \"))\n",
    "    efficiency = units / hours\n",
    "    print(f\"Efficiency: {efficiency:.2f} units/hour\")\n",
    "    \n",
    "except ZeroDivisionError:\n",
    "    \n",
    "    print(\"❌ Hours worked cannot be zero.\")\n",
    "\n",
    "except ValueError:\n",
    "\n",
    "    print(\"❌ Please enter valid numbers.\")"
   ]
  },
  {
   "cell_type": "markdown",
   "id": "b330935a-7fbb-4603-b327-0b1701ef3476",
   "metadata": {},
   "source": [
    "### Example 2: Safe Data Conversion in a Data Pipeline"
   ]
  },
  {
   "cell_type": "code",
   "execution_count": 2,
   "id": "7dcf24e0-09ae-481f-8f58-20d03598eeba",
   "metadata": {},
   "outputs": [
    {
     "name": "stdout",
     "output_type": "stream",
     "text": [
      "Converted: 25\n",
      "Could not convert 'hello' to a number.\n",
      "Converted: 42\n",
      "Could not convert '' to a number.\n"
     ]
    }
   ],
   "source": [
    "# Imagine we're cleaning incoming data entries before processing\n",
    "\n",
    "data = [\"25\", \"hello\", \"42\", \"\"]\n",
    "\n",
    "for item in data:\n",
    "    try:\n",
    "        number = int(item)\n",
    "        print(f\"Converted: {number}\")\n",
    "    except ValueError:\n",
    "        print(f\"Could not convert '{item}' to a number.\")"
   ]
  },
  {
   "cell_type": "markdown",
   "id": "9a89165b-abc3-47eb-a84e-ecb2876fa44d",
   "metadata": {},
   "source": [
    "### Example 3: Custom Rules with `raise`"
   ]
  },
  {
   "cell_type": "code",
   "execution_count": 3,
   "id": "cee49277-714e-439c-927e-ca5eb571a205",
   "metadata": {},
   "outputs": [
    {
     "name": "stdin",
     "output_type": "stream",
     "text": [
      "Enter amount:  -2\n"
     ]
    },
    {
     "name": "stdout",
     "output_type": "stream",
     "text": [
      "❗ Input Error: Amount cannot be negative.\n"
     ]
    }
   ],
   "source": [
    "# Raise your own error when business rules are violated\n",
    "\n",
    "try:\n",
    "    amount = int(input(\"Enter amount: \"))\n",
    "    if amount < 0:\n",
    "        raise ValueError(\"Amount cannot be negative.\")\n",
    "    print(f\"Amount entered: ₹{amount}\")\n",
    "except ValueError as e:\n",
    "    print(f\"❗ Input Error: {e}\")"
   ]
  },
  {
   "cell_type": "markdown",
   "id": "39049278-3dc7-40a2-b34a-6c665552fd1e",
   "metadata": {},
   "source": [
    "This lets you control and communicate errors more clearly, based on your application's rules.\n",
    "\n",
    "These examples show how exception handling improves both user experience and data safety. Whether you’re working on business dashboards, data pipelines, or automation scripts, being prepared for errors helps make your code more reliable and professional."
   ]
  }
 ],
 "metadata": {
  "kernelspec": {
   "display_name": "Python [conda env:base] *",
   "language": "python",
   "name": "conda-base-py"
  },
  "language_info": {
   "codemirror_mode": {
    "name": "ipython",
    "version": 3
   },
   "file_extension": ".py",
   "mimetype": "text/x-python",
   "name": "python",
   "nbconvert_exporter": "python",
   "pygments_lexer": "ipython3",
   "version": "3.13.5"
  },
  "widgets": {
   "application/vnd.jupyter.widget-state+json": {
    "state": {},
    "version_major": 2,
    "version_minor": 0
   }
  }
 },
 "nbformat": 4,
 "nbformat_minor": 5
}
