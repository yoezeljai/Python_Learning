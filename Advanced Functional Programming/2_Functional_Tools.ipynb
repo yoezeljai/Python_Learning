{
 "cells": [
  {
   "cell_type": "markdown",
   "id": "e1685803-b751-4924-b65f-1359be48e4b0",
   "metadata": {},
   "source": [
    "# Data Processing & Iteration Tools\n",
    "Sometimes, we need to apply the same operation to every element in a sequence, such as converting units, formatting strings, or scaling numbers."
   ]
  },
  {
   "cell_type": "markdown",
   "id": "7a64337d-5845-4f98-b955-08dc3c66a18c",
   "metadata": {},
   "source": [
    "## 1. `map()` – Transform Items in a Sequence\n",
    "\n",
    "### What is `map()`?\n",
    "The `map()` function is used to apply a given function to **each item in an iterable** (like a list or tuple).  \n",
    "It returns a new iterable (a `map` object), which can be converted to a list.\n",
    "\n",
    "Think of it like saying:  \n",
    "-> “Take this function and apply it to everything in this list.”\n"
   ]
  },
  {
   "cell_type": "markdown",
   "id": "6718162c-fd83-4bff-b514-7d4d502564b0",
   "metadata": {},
   "source": [
    "#### Business Use Case: Length Conversion for a Product Catalog\n",
    "\n",
    "Imagine you're managing an online clothing store.  \n",
    "Your product measurements (e.g., length of jeans or sleeves) are stored in **inches**,  \n",
    "but your international customers need to see the sizes in **centimeters**.\n",
    "\n",
    "You can use `map()` to convert all measurements at once.\n",
    "\n",
    "Conversion rate: **1 inch = 2.54 cm**\n"
   ]
  },
  {
   "cell_type": "code",
   "execution_count": 1,
   "id": "6cc39103-6b54-4fa6-8fd7-d5178a996aca",
   "metadata": {},
   "outputs": [],
   "source": [
    "# Function to convert inches to centimeters\n",
    "\n",
    "def inches_to_cm(length_in_inches):\n",
    "    return length_in_inches * 2.54"
   ]
  },
  {
   "cell_type": "code",
   "execution_count": 2,
   "id": "9f319036-4d30-4a54-bb2c-6069e9a98d9e",
   "metadata": {},
   "outputs": [],
   "source": [
    "# List of product lengths in inches\n",
    "\n",
    "lengths_in_inches = [28, 30, 32, 34]"
   ]
  },
  {
   "cell_type": "code",
   "execution_count": 3,
   "id": "e5722e64-aee0-4472-b96c-0023a93fc953",
   "metadata": {},
   "outputs": [],
   "source": [
    "# Apply conversion using map\n",
    "\n",
    "lengths_in_cm = list(map(inches_to_cm, lengths_in_inches))"
   ]
  },
  {
   "cell_type": "code",
   "execution_count": 5,
   "id": "4b953eb6-d56d-4210-b4b5-f40a5e5e6c87",
   "metadata": {},
   "outputs": [
    {
     "name": "stdout",
     "output_type": "stream",
     "text": [
      "Product lengths in cm: [71.12, 76.2, 81.28, 86.36]\n"
     ]
    }
   ],
   "source": [
    "# Print the converted lengths\n",
    "\n",
    "print(\"Product lengths in cm:\", lengths_in_cm)"
   ]
  },
  {
   "cell_type": "code",
   "execution_count": 6,
   "id": "32414fca-c436-49e7-9b50-e92ed9af0413",
   "metadata": {},
   "outputs": [],
   "source": [
    "# Another example to use map() in a given function and iteraete each item\n",
    "def square(x):\n",
    "    return x*x"
   ]
  },
  {
   "cell_type": "code",
   "execution_count": 8,
   "id": "a46aa9a9-c53a-4975-8393-77e9b0255219",
   "metadata": {},
   "outputs": [
    {
     "data": {
      "text/plain": [
       "[1, 4, 9, 16]"
      ]
     },
     "execution_count": 8,
     "metadata": {},
     "output_type": "execute_result"
    }
   ],
   "source": [
    "numbers = [1,2,3,4]\n",
    "list(map(square,numbers)) # Applies the 'square' function on the 'numbers' iterable"
   ]
  },
  {
   "cell_type": "code",
   "execution_count": 10,
   "id": "61a628c5-00b1-4e1b-b665-7f08eb30c862",
   "metadata": {},
   "outputs": [
    {
     "data": {
      "text/plain": [
       "['APPLE', 'BANANA']"
      ]
     },
     "execution_count": 10,
     "metadata": {},
     "output_type": "execute_result"
    }
   ],
   "source": [
    "# It returns a map object. To ger the results , convert it to a list or iterate over it\n",
    "result = map(str.upper,['apple','banana'])\n",
    "list(result)"
   ]
  },
  {
   "cell_type": "markdown",
   "id": "1cb839e8-54c6-470c-a692-685b2455bdc3",
   "metadata": {},
   "source": [
    "It works with any iterable, not just lists. It works with tuples, sets or even generators\n",
    "\n",
    "It can also be combined with lambda functions for simple transformations\n",
    "\n",
    "`map(lambda x: x + 10, data)`\n",
    "\n",
    "It offers a clean and memory-efficient way to apply tranformations to data. "
   ]
  },
  {
   "cell_type": "markdown",
   "id": "972998bc-359c-48fa-b007-fa00c1086af3",
   "metadata": {},
   "source": [
    "## 2. `filter()` – Keep Only Matching Items\n",
    "\n",
    "### What is `filter()`?\n",
    "The `filter()` function is used to **extract items from a list** (or any iterable) that meet a certain condition.  \n",
    "It takes a function that returns `True` or `False`, and **keeps only the items where the function returns `True`**.\n"
   ]
  },
  {
   "cell_type": "markdown",
   "id": "873de72f-f6b2-4a7b-807b-d73da0bff3a0",
   "metadata": {},
   "source": [
    "#### Business Use Case: Filtering Active Products from Inventory\n",
    "\n",
    "You are working with an inventory management system.  \n",
    "Each product in your catalog has a flag that indicates whether it is active (available for sale) or inactive (discontinued).  \n",
    "You want to generate a list of only the **active products**."
   ]
  },
  {
   "cell_type": "code",
   "execution_count": 14,
   "id": "fc663c35-414a-44a3-8b7d-23b45c217763",
   "metadata": {},
   "outputs": [],
   "source": [
    "# Function to check if a product is active\n",
    "\n",
    "def is_active(product):\n",
    "    return product[\"status\"] == \"active\""
   ]
  },
  {
   "cell_type": "code",
   "execution_count": 15,
   "id": "67038cd9-0210-471e-b3ad-3cd758fc8222",
   "metadata": {},
   "outputs": [],
   "source": [
    "# List of products in the inventory\n",
    "\n",
    "products = [\n",
    "    {\"name\": \"T-shirt\", \"status\": \"active\"},\n",
    "    {\"name\": \"Jeans\", \"status\": \"inactive\"},\n",
    "    {\"name\": \"Sneakers\", \"status\": \"active\"},\n",
    "    {\"name\": \"Jacket\", \"status\": \"inactive\"},\n",
    "]"
   ]
  },
  {
   "cell_type": "code",
   "execution_count": 16,
   "id": "8e3d02c8-96df-48c8-9372-1ebdda16003d",
   "metadata": {},
   "outputs": [],
   "source": [
    "# Use filter to get only active products\n",
    "\n",
    "active_products = list(filter(is_active, products))"
   ]
  },
  {
   "cell_type": "code",
   "execution_count": 18,
   "id": "3e8cafdc-a3c9-4c27-87ec-50a6f0b72552",
   "metadata": {},
   "outputs": [
    {
     "name": "stdout",
     "output_type": "stream",
     "text": [
      "Active products:\n",
      "- T-shirt\n",
      "- Sneakers\n"
     ]
    }
   ],
   "source": [
    "# Print the result\n",
    "\n",
    "print(\"Active products:\")\n",
    "\n",
    "for product in active_products:\n",
    "    print(\"-\", product[\"name\"])"
   ]
  },
  {
   "cell_type": "markdown",
   "id": "6c16de2b-322a-4149-8062-7a24022ec860",
   "metadata": {},
   "source": [
    "Unlike **map()**, which transforms every item, **filter()** helps in filtering data based on the logic you define. This is useful when cleaning data, removing invalid values, or selecting specific categories. For example, you might want to keep only positive numbers, non-empty strings, or rows where a condition is met.\n",
    "\n",
    "\n",
    "Similar to **map()**, we can use **filter()** as: **filter(function, iterable)**. The function should return a Boolean value for each element. Like **map()**, the result is an object, so you often convert it to a list or loop through it. "
   ]
  },
  {
   "cell_type": "code",
   "execution_count": 19,
   "id": "3feba2e8-9236-46b0-98c1-0abebbafc3f0",
   "metadata": {},
   "outputs": [],
   "source": [
    "# Example to illustrate the use of the filter() function\n",
    "\n",
    "numbers = [1,2,3,4,5,6]\n",
    "\n",
    "def is_even(number):\n",
    "    return number%2 == 0  # Returns True or False"
   ]
  },
  {
   "cell_type": "code",
   "execution_count": 20,
   "id": "0a2dbce7-d7a3-48ef-999c-e92958987e79",
   "metadata": {},
   "outputs": [],
   "source": [
    "even_numbers = filter(is_even,numbers)"
   ]
  },
  {
   "cell_type": "code",
   "execution_count": 21,
   "id": "ef2e6ea4-77e4-4512-b5e5-07630b1dcd44",
   "metadata": {},
   "outputs": [
    {
     "name": "stdout",
     "output_type": "stream",
     "text": [
      "[2, 4, 6]\n"
     ]
    }
   ],
   "source": [
    "print(list(even_numbers))"
   ]
  },
  {
   "cell_type": "code",
   "execution_count": 23,
   "id": "7f7a12c2-f493-4f5d-a263-10b9b1e23af7",
   "metadata": {},
   "outputs": [
    {
     "name": "stdout",
     "output_type": "stream",
     "text": [
      "[1, 3]\n"
     ]
    }
   ],
   "source": [
    "# we can use filter() with lambda expressions as well mentioned in below example\n",
    "\n",
    "nums = [1,-2,3,0,-5]\n",
    "\n",
    "positive = list(filter(lambda x:x>0,nums))\n",
    "print(positive)"
   ]
  },
  {
   "cell_type": "markdown",
   "id": "23b044bf-f709-45be-a428-02a077e3b72b",
   "metadata": {},
   "source": [
    "Because **filter()** doesn’t create a new list until needed, it can also be memory-efficient when working with large sequences or datasets. "
   ]
  },
  {
   "cell_type": "markdown",
   "id": "d03a065d-88c2-4ec1-b32b-a7821396eb5b",
   "metadata": {},
   "source": [
    "## 3. `reduce()` – Reduce a Sequence to a Single Value\n",
    "Sometimes, we might need to combine a list of values into a single result, like summing a list of numbers or multiplying several numbers together. Python’s __reduce()__ function helps us do that by applying a function cumulatively across elements of a sequence. \n",
    "### What is `reduce()`?\n",
    "`reduce()` comes from the `functools` module.  \n",
    "It applies a function **cumulatively** to items in a list, **reducing** the list to a single final value.\n",
    "\n",
    "For example:  \n",
    "`reduce(add, [1, 2, 3, 4]) → (((1 + 2) + 3) + 4) → 10`"
   ]
  },
  {
   "cell_type": "markdown",
   "id": "8071ec78-ead8-43ae-baf2-f039faf60ad3",
   "metadata": {},
   "source": [
    "#### Business Use Case: Total Sales Calculation\n",
    "\n",
    "You work in the finance department of an online store.  \n",
    "At the end of the day, you have a list of sales amounts for individual orders,  \n",
    "and you want to calculate the **total sales revenue**."
   ]
  },
  {
   "cell_type": "code",
   "execution_count": 24,
   "id": "c35a4598-e2e2-4415-8379-879d9e6b6a54",
   "metadata": {},
   "outputs": [],
   "source": [
    "from functools import reduce\n",
    "\n",
    "# Function to add two numbers\n",
    "\n",
    "def add_sales(total, current_sale):\n",
    "    return total + current_sale"
   ]
  },
  {
   "cell_type": "code",
   "execution_count": 25,
   "id": "1d3ebc83-d225-4b33-b452-49be6e8c6ef4",
   "metadata": {},
   "outputs": [],
   "source": [
    "# List of order amounts\n",
    "\n",
    "daily_sales = [1200, 2500, 3200, 1500, 2750]"
   ]
  },
  {
   "cell_type": "code",
   "execution_count": 26,
   "id": "020bccfc-8497-4ae1-87bf-6d1c74b38fe7",
   "metadata": {},
   "outputs": [],
   "source": [
    "# Use reduce to calculate total sales\n",
    "\n",
    "total_revenue = reduce(add_sales, daily_sales)"
   ]
  },
  {
   "cell_type": "code",
   "execution_count": 28,
   "id": "939246de-af59-441b-aa2b-7373effdffa2",
   "metadata": {},
   "outputs": [
    {
     "name": "stdout",
     "output_type": "stream",
     "text": [
      "Total Revenue for the day: 11150\n"
     ]
    }
   ],
   "source": [
    "# Print the result\n",
    "\n",
    "print(\"Total Revenue for the day:\", total_revenue)"
   ]
  },
  {
   "cell_type": "markdown",
   "id": "13d79a16-31ee-4c38-8411-1e98cb036cab",
   "metadata": {},
   "source": [
    "The reduce() function takes two arguments: a binary function (a function that takes two inputs) and an iterable. It applies the function to the first two elements, then takes the result and applies the function to the next element, and so on, until one final result is produced.\n",
    "\n",
    "To use **reduce()**, you need to import it from Python’s **functools** module:"
   ]
  },
  {
   "cell_type": "code",
   "execution_count": 29,
   "id": "1afd1556-8291-45ce-91b1-6551137e6d9b",
   "metadata": {},
   "outputs": [],
   "source": [
    "# Another example\n",
    "from functools import reduce\n",
    "\n",
    "def add(x,y):\n",
    "    return (x+y)"
   ]
  },
  {
   "cell_type": "code",
   "execution_count": 30,
   "id": "3df55179-4e03-40d4-b457-bed9103ba980",
   "metadata": {},
   "outputs": [
    {
     "data": {
      "text/plain": [
       "10"
      ]
     },
     "execution_count": 30,
     "metadata": {},
     "output_type": "execute_result"
    }
   ],
   "source": [
    "reduce(add,[1,2,3,4])"
   ]
  },
  {
   "cell_type": "code",
   "execution_count": 31,
   "id": "9b49515a-6aba-4d84-bb68-aa82fb17de34",
   "metadata": {},
   "outputs": [
    {
     "data": {
      "text/plain": [
       "10"
      ]
     },
     "execution_count": 31,
     "metadata": {},
     "output_type": "execute_result"
    }
   ],
   "source": [
    "# It can also be used with lambda functions\n",
    "reduce(lambda x,y:x+y,[1,2,3,4])"
   ]
  },
  {
   "cell_type": "markdown",
   "id": "b8f00630-d269-444d-a262-c0ce7fed97aa",
   "metadata": {},
   "source": [
    "This is equivalent to:  ( ( ( 1 + 2 ) + 3 ) + 4 )\n",
    "\n",
    "It’s useful for operations like cumulative sums, finding maximums, building strings from pieces, or even combining multiple dictionaries or sets. You can also provide an optional initial value, which is used as the first argument instead of the first item of the list.\n",
    "\n",
    "Although **reduce()** can sometimes be replaced by built-in functions like **sum()** or **max()**, it shines in cases where you need to define how values should be combined. reduce() is a powerful tool for collapsing a sequence of values into a single result through repeated application of a function. "
   ]
  },
  {
   "cell_type": "markdown",
   "id": "5af25a5f-fea3-4fae-ba8e-ca487bcfa7ac",
   "metadata": {},
   "source": [
    "## 4. `zip()` – Combine Multiple Lists Element-Wise\n",
    "When working with multiple lists or sequences, we may need to combine them element by element. Python’s **zip()** function makes this easy. It allows you to pair elements from two or more iterables, creating tuples that group corresponding values together. \n",
    "\n",
    "### What is `zip()`?\n",
    "`zip()` is used to **combine two or more iterables** (like lists or tuples) **element by element**.  \n",
    "It returns a zip object with tuples containing one element from each iterable.\n",
    "\n",
    "Think of it as “zipping up” two lists into pairs."
   ]
  },
  {
   "cell_type": "markdown",
   "id": "0d8d89af-a75f-483f-85f8-7b8a3ae7fa13",
   "metadata": {},
   "source": [
    "#### Business Use Case: Matching Product Names with Prices\n",
    "\n",
    "You’re preparing a price list for your product catalog.  \n",
    "You have one list with **product names** and another with **their prices**.  \n",
    "You want to **combine them together** to show each product with its corresponding price."
   ]
  },
  {
   "cell_type": "code",
   "execution_count": 32,
   "id": "01f2c36c-a569-4dcb-a5a1-7be1f4f9912c",
   "metadata": {},
   "outputs": [],
   "source": [
    "# List of product names\n",
    "\n",
    "products = [\"T-shirt\", \"Jeans\", \"Sneakers\", \"Jacket\"]"
   ]
  },
  {
   "cell_type": "code",
   "execution_count": 33,
   "id": "3241ecf9-24ac-4bf6-8162-bfadaff9bfe5",
   "metadata": {},
   "outputs": [],
   "source": [
    "# List of prices\n",
    "\n",
    "prices = [799, 1299, 2199, 1799]"
   ]
  },
  {
   "cell_type": "code",
   "execution_count": 34,
   "id": "b355926d-6192-4da3-bacd-d414e3ebb7df",
   "metadata": {},
   "outputs": [],
   "source": [
    "# Use zip to pair each product with its price\n",
    "\n",
    "product_catalog = list(zip(products, prices))"
   ]
  },
  {
   "cell_type": "code",
   "execution_count": 36,
   "id": "ccb720ff-5454-484c-8a1b-003ee8e91c57",
   "metadata": {},
   "outputs": [
    {
     "name": "stdout",
     "output_type": "stream",
     "text": [
      "Product Catalog:\n",
      "- T-shirt: ₹799\n",
      "- Jeans: ₹1299\n",
      "- Sneakers: ₹2199\n",
      "- Jacket: ₹1799\n"
     ]
    }
   ],
   "source": [
    "# Print the combined product-price pairs\n",
    "\n",
    "print(\"Product Catalog:\")\n",
    "\n",
    "for product, price in product_catalog:\n",
    "    print(f\"- {product}: ₹{price}\")"
   ]
  },
  {
   "cell_type": "markdown",
   "id": "c4f835ae-2fd5-4213-bb57-13222d1c13c5",
   "metadata": {},
   "source": [
    "The **zip()** function takes any number of iterables and returns an iterator of tuples. Each tuple contains one element from each iterable, grouped by their position. "
   ]
  },
  {
   "cell_type": "code",
   "execution_count": 37,
   "id": "1b0cb05c-5714-45f0-aba9-929bdcd5654c",
   "metadata": {},
   "outputs": [
    {
     "name": "stdout",
     "output_type": "stream",
     "text": [
      "Shadab:85\n",
      "JP:92\n",
      "Loki:78\n"
     ]
    }
   ],
   "source": [
    "# Another example\n",
    "\n",
    "names = ['Shadab','JP','Loki']\n",
    "scores = [85,92,78]\n",
    "\n",
    "for name, score in zip(names,scores):\n",
    "    print(f'{name}:{score}')"
   ]
  },
  {
   "cell_type": "markdown",
   "id": "a1d5517f-ec68-4b1a-b499-f79eae7e9a1d",
   "metadata": {},
   "source": [
    "If the iterables are of unequal length, **zip()** stops at the shortest one by default. This prevents errors from missing elements."
   ]
  },
  {
   "cell_type": "code",
   "execution_count": 38,
   "id": "4d5974c3-8bd1-458a-a4f7-632575ad2b45",
   "metadata": {},
   "outputs": [],
   "source": [
    "# We can also use zip() to unzip data by applying it with unpacking\n",
    "\n",
    "pairs = [('a',1),('b',2),('c',3)]\n",
    "letters,numbers = zip(*pairs)"
   ]
  },
  {
   "cell_type": "code",
   "execution_count": 40,
   "id": "389093f0-8059-46dd-b521-fa641cc0d550",
   "metadata": {},
   "outputs": [
    {
     "name": "stdout",
     "output_type": "stream",
     "text": [
      "('a', 'b', 'c')\n"
     ]
    }
   ],
   "source": [
    "print(letters)"
   ]
  },
  {
   "cell_type": "code",
   "execution_count": 41,
   "id": "a36ad930-44bd-428a-a597-9e001175b7f6",
   "metadata": {},
   "outputs": [
    {
     "name": "stdout",
     "output_type": "stream",
     "text": [
      "(1, 2, 3)\n"
     ]
    }
   ],
   "source": [
    "print(numbers)"
   ]
  },
  {
   "cell_type": "markdown",
   "id": "75a9fc8e-9894-411a-9c40-3d9cfc951b95",
   "metadata": {},
   "source": [
    "The **zip()** function helps streamline the process of combining multiple sequences in parallel, making your code neater and reducing the need for index-based access. It is especially useful in data alignment, table construction, and many iteration-based tasks."
   ]
  },
  {
   "cell_type": "markdown",
   "id": "58e74b05-1a01-4eb1-a760-35bf6e0ff3ef",
   "metadata": {},
   "source": [
    "## 5. `enumerate()` – Loop with an Automatic Index\n",
    "While iterating over a sequence, you may need both the value and the index of each item in a sequence. Python’s **enumerate()** function lets you loop over an iterable while also keeping track of the index, without using manual counters. \n",
    "### What is `enumerate()`?\n",
    "The `enumerate()` function adds a counter to an iterable (like a list) and returns a tuple:  \n",
    "`(index, item)`\n",
    "\n",
    "This is especially useful when you need the **position of each item** while looping.\n"
   ]
  },
  {
   "cell_type": "markdown",
   "id": "95f1ca51-06ca-441c-bbcf-9262a6bb54eb",
   "metadata": {},
   "source": [
    "#### Business Use Case: Numbering Customer Feedback\n",
    "\n",
    "Suppose you're analysing customer feedback.  \n",
    "You have a list of comments, and you want to **print them with serial numbers** for a summary report.\n",
    "\n",
    "Instead of manually using a counter, `enumerate()` can do this for you."
   ]
  },
  {
   "cell_type": "code",
   "execution_count": 42,
   "id": "9cf1f48c-3561-439b-9bc0-aae97739449c",
   "metadata": {},
   "outputs": [],
   "source": [
    "# List of customer feedback\n",
    "\n",
    "feedback_list = [\n",
    "    \"Great service!\",\n",
    "    \"Fast delivery.\",\n",
    "    \"Product quality could be better.\",\n",
    "    \"Will definitely buy again.\"\n",
    "]"
   ]
  },
  {
   "cell_type": "code",
   "execution_count": 44,
   "id": "5230a491-043b-4854-acd4-84c5c38975f7",
   "metadata": {},
   "outputs": [
    {
     "name": "stdout",
     "output_type": "stream",
     "text": [
      "Customer Feedback Summary:\n",
      "1. Great service!\n",
      "2. Fast delivery.\n",
      "3. Product quality could be better.\n",
      "4. Will definitely buy again.\n"
     ]
    }
   ],
   "source": [
    "# Print feedback with numbering using enumerate\n",
    "\n",
    "print(\"Customer Feedback Summary:\")\n",
    "\n",
    "for index, comment in enumerate(feedback_list, start=1):\n",
    "    print(f\"{index}. {comment}\")"
   ]
  },
  {
   "cell_type": "markdown",
   "id": "bf1bccda-d64d-42d2-a7cd-53aef85fadc4",
   "metadata": {},
   "source": [
    "The **enumerate()** function adds a counter to an iterable and returns it as an enumerate object. This object can be looped over, where each element is a pair: the index and the item."
   ]
  },
  {
   "cell_type": "code",
   "execution_count": 45,
   "id": "25c11dd0-5274-44e0-98e5-6fa1975954f2",
   "metadata": {},
   "outputs": [
    {
     "name": "stdout",
     "output_type": "stream",
     "text": [
      "0 apple\n",
      "1 banana\n",
      "2 cherry\n"
     ]
    }
   ],
   "source": [
    "# Another example\n",
    "items = ['apple','banana','cherry']\n",
    "\n",
    "for index , item in enumerate(items):\n",
    "    print(index,item)"
   ]
  },
  {
   "cell_type": "code",
   "execution_count": 47,
   "id": "9a6550cc-6163-4297-9b06-5a624ef2bd88",
   "metadata": {},
   "outputs": [
    {
     "name": "stdout",
     "output_type": "stream",
     "text": [
      "1 apple\n",
      "2 banana\n",
      "3 cherry\n"
     ]
    }
   ],
   "source": [
    "# We can also specify a starting index if needed\n",
    "for index , item in enumerate(items,start =1):\n",
    "    print(index,item)"
   ]
  },
  {
   "cell_type": "markdown",
   "id": "12576be3-0862-4c43-9445-942154099c74",
   "metadata": {},
   "source": [
    "Using **enumerate()** makes your code shorter, safer, and easier to read compared to tracking the index manually with something like:\n",
    "\n",
    "`for i in range( len( items ) )`\n",
    "\n",
    "This is especially useful when working with labelled data, structured records, or in cases where the position of the item carries meaning."
   ]
  },
  {
   "cell_type": "markdown",
   "id": "70d6afbc-c09b-41c1-9ca6-33e3a276d29d",
   "metadata": {},
   "source": [
    "## 6. `any()` – Check If At Least One Condition Is True\n",
    "Python’s built-in **any()** function lets us check if at least one item in a list or sequence meets a certain condition. It returns **True** if any element in the iterable is **True** and **False** otherwise.\n",
    "### What is `any()`?\n",
    "The `any()` function returns `True` if **at least one item** in an iterable is `True`.\n",
    "\n",
    "It’s a shortcut to check:  \n",
    "-> “Is there **any** truthy value in this list?”"
   ]
  },
  {
   "cell_type": "markdown",
   "id": "d81b7018-4eaa-4c2d-8625-a35ebdce2544",
   "metadata": {},
   "source": [
    "#### Business Use Case: Checking for Urgent Support Tickets\n",
    "\n",
    "Imagine you're working in customer support.  \n",
    "At the start of the day, your dashboard shows a list of support tickets and whether any are marked as **urgent**.  \n",
    "You want to check:  \n",
    "-> “Do we have **any urgent tickets** to prioritise?”"
   ]
  },
  {
   "cell_type": "code",
   "execution_count": 48,
   "id": "5a59d529-8720-45c4-86b1-0c1c93e3d657",
   "metadata": {},
   "outputs": [],
   "source": [
    "# List of support tickets marked with urgency\n",
    "\n",
    "ticket_urgency_flags = [False, False, True, False]"
   ]
  },
  {
   "cell_type": "code",
   "execution_count": 49,
   "id": "d10ec313-f8f1-410a-950c-ec32e054688c",
   "metadata": {},
   "outputs": [],
   "source": [
    "# Check if any ticket is urgent\n",
    "\n",
    "has_urgent_ticket = any(ticket_urgency_flags)"
   ]
  },
  {
   "cell_type": "code",
   "execution_count": 51,
   "id": "346d18e6-b715-46c6-89e6-8b4c75905c20",
   "metadata": {},
   "outputs": [
    {
     "name": "stdout",
     "output_type": "stream",
     "text": [
      "🚨 Urgent ticket(s) found. Prioritise immediately!\n"
     ]
    }
   ],
   "source": [
    "# Print the outout\n",
    "\n",
    "if has_urgent_ticket:\n",
    "    print(\"🚨 Urgent ticket(s) found. Prioritise immediately!\")\n",
    "else:\n",
    "    print(\"✅ No urgent tickets at the moment.\")"
   ]
  },
  {
   "cell_type": "markdown",
   "id": "4af142ee-8565-4aff-b4e1-be01b9bf5823",
   "metadata": {},
   "source": [
    "The **any()** function takes a single iterable like a list, set, or generator, and checks whether at least one item is logically **True**. If all items are **False**, it returns **False**. "
   ]
  },
  {
   "cell_type": "code",
   "execution_count": 53,
   "id": "bdd34614-0b73-4227-a165-17832ad2e538",
   "metadata": {},
   "outputs": [
    {
     "data": {
      "text/plain": [
       "True"
      ]
     },
     "execution_count": 53,
     "metadata": {},
     "output_type": "execute_result"
    }
   ],
   "source": [
    "# A simple example\n",
    "values = [0,0,5,0]\n",
    "any(values) # returns True because 5 , represented as a boolean is True"
   ]
  },
  {
   "cell_type": "markdown",
   "id": "ac8f7175-891e-4ef1-9936-ca37c66b1485",
   "metadata": {},
   "source": [
    "This can help validate input, check if a row has any non-zero values, or decide whether to proceed based on a condition. It’s often used with list comprehensions or generator expressions"
   ]
  },
  {
   "cell_type": "code",
   "execution_count": 54,
   "id": "397f8abf-0751-4e33-9e0a-4b12b5cf366e",
   "metadata": {},
   "outputs": [
    {
     "data": {
      "text/plain": [
       "False"
      ]
     },
     "execution_count": 54,
     "metadata": {},
     "output_type": "execute_result"
    }
   ],
   "source": [
    "scores = [0,0,0,0]\n",
    "any(score>=50 for score in scores) # will return False"
   ]
  },
  {
   "cell_type": "markdown",
   "id": "244daa8f-2efe-4ede-945c-48b1871664bd",
   "metadata": {},
   "source": [
    "The **any()** function short-circuits, meaning it stops as soon as it finds a **True** value, making it efficient for large sequences as well."
   ]
  },
  {
   "cell_type": "markdown",
   "id": "929698aa-8db3-4ebe-8a00-57c698ae55ac",
   "metadata": {},
   "source": [
    "## 7. `all()` – Check If All Conditions Are True\n",
    "\n",
    "### What is `all()`?\n",
    "When evaluating datasets or user inputs, it’s often necessary to confirm that every item meets a given condition. For example, checking that all fields in a form are filled, or that all scores are above a threshold. \n",
    "The `all()` function returns `True` **only if every item** in the iterable is `True`.\n",
    "\n",
    "Think of it as asking:  \n",
    "-> “Are **all conditions met**?”\n"
   ]
  },
  {
   "cell_type": "markdown",
   "id": "ae8a6290-e965-4518-977b-c1eca55fec3e",
   "metadata": {},
   "source": [
    "#### Business Use Case: Verifying Checklist Completion for Order Dispatch\n",
    "\n",
    "Imagine you're in charge of order fulfillment.  \n",
    "Each order must go through a checklist before dispatch:  \n",
    "- Payment done  \n",
    "- Packaging completed  \n",
    "- Address verified\n",
    "\n",
    "You store the status of each checklist item as a Boolean (`True`/`False`) and want to check if an order is **ready to be shipped**.\n"
   ]
  },
  {
   "cell_type": "code",
   "execution_count": 55,
   "id": "ac672f6e-a1df-4daa-8828-5229f2bf7798",
   "metadata": {},
   "outputs": [],
   "source": [
    "# Checklist for an order before dispatch\n",
    "\n",
    "order_checklist = {\n",
    "    \"payment_done\": True,\n",
    "    \"packaging_done\": True,\n",
    "    \"address_verified\": True\n",
    "}"
   ]
  },
  {
   "cell_type": "code",
   "execution_count": 56,
   "id": "265afc3b-6994-4aa4-80e9-d7c8cfea68c8",
   "metadata": {},
   "outputs": [],
   "source": [
    "# Use all() to check if everything is ready\n",
    "\n",
    "is_ready_to_dispatch = all(order_checklist.values())"
   ]
  },
  {
   "cell_type": "code",
   "execution_count": 58,
   "id": "19a6d0bd-40a7-4566-a08f-4a4ef49cc07d",
   "metadata": {},
   "outputs": [
    {
     "name": "stdout",
     "output_type": "stream",
     "text": [
      "📦 Order is ready to be dispatched.\n"
     ]
    }
   ],
   "source": [
    "# Print the outout\n",
    "\n",
    "if is_ready_to_dispatch:\n",
    "    print(\"📦 Order is ready to be dispatched.\")\n",
    "else:\n",
    "    print(\"⏳ Some checks are still pending.\")"
   ]
  },
  {
   "cell_type": "markdown",
   "id": "a54f8d1e-0466-4781-a857-61e6eb5bbc84",
   "metadata": {},
   "source": [
    "The **all()** function returns **True** if every item in the provided iterable is logically **True**. If even a single element evaluates to **False**, the result is **False**."
   ]
  },
  {
   "cell_type": "code",
   "execution_count": 59,
   "id": "4201723d-934b-4b46-972d-5ffc4f3243b7",
   "metadata": {},
   "outputs": [
    {
     "data": {
      "text/plain": [
       "True"
      ]
     },
     "execution_count": 59,
     "metadata": {},
     "output_type": "execute_result"
    }
   ],
   "source": [
    "# Example\n",
    "temperatures = [22,25,27,20]\n",
    "all(t>0 for t in temperatures) # returns True"
   ]
  },
  {
   "cell_type": "markdown",
   "id": "a71900de-9bfe-4d88-93b0-09e6f2aa8d03",
   "metadata": {},
   "source": [
    "**all()** also short-circuits and stops evaluating as soon as it encounters a **False** value. It can also work directly with sequences of Boolean values"
   ]
  },
  {
   "cell_type": "code",
   "execution_count": 60,
   "id": "ae676a8c-08a5-4125-931a-d65c3441c6e2",
   "metadata": {},
   "outputs": [
    {
     "data": {
      "text/plain": [
       "False"
      ]
     },
     "execution_count": 60,
     "metadata": {},
     "output_type": "execute_result"
    }
   ],
   "source": [
    "# Example\n",
    "flags = [True,True,False]\n",
    "all(flags)  # Returns False"
   ]
  },
  {
   "cell_type": "markdown",
   "id": "b5000b64-11c4-4f95-8029-2a8f89cd43c2",
   "metadata": {},
   "source": [
    "**all()** is a reliable and efficient tool when the requirement is to ensure that every element in a collection satisfies a condition. It allows code to remain concise and readable, especially in validation-heavy workflows."
   ]
  },
  {
   "cell_type": "markdown",
   "id": "657f1c28-32bb-4179-a60e-82e6a77475af",
   "metadata": {},
   "source": [
    "## 8. `sum()`, `max()`, `min()` – Aggregate Values from a List\n",
    "\n",
    "### What Are These?\n",
    "In data-focused tasks, it’s common to calculate totals, find the highest or lowest values, or make simple aggregations. Python provides built-in functions like **sum(), max(), and min()** that help you perform these operations efficiently and without extra loops. \n",
    "\n",
    "- `sum(iterable)` → Returns the **total** of all items.\n",
    "- `max(iterable)` → Returns the **largest** item.\n",
    "- `min(iterable)` → Returns the **smallest** item.\n",
    "\n",
    "These are built-in aggregation functions — great for summarising numeric data."
   ]
  },
  {
   "cell_type": "markdown",
   "id": "84130c61-23b9-4807-b3cb-48ebbfef8b0f",
   "metadata": {},
   "source": [
    "#### Business Use Case: Daily Order Statistics\n",
    "\n",
    "You work in the analytics team of a delivery service.  \n",
    "Each day, your system records the number of orders delivered per city.  \n",
    "You want to generate a summary:\n",
    "- Total orders delivered  \n",
    "- City with maximum deliveries  \n",
    "- City with minimum deliveries"
   ]
  },
  {
   "cell_type": "code",
   "execution_count": 62,
   "id": "94ac5f54-26f2-4701-b604-4d34e59ebcf4",
   "metadata": {},
   "outputs": [],
   "source": [
    "# Dictionary with city-wise delivery counts\n",
    "\n",
    "orders_per_city = {\n",
    "    \"Mumbai\": 150,\n",
    "    \"Delhi\": 120,\n",
    "    \"Bangalore\": 180,\n",
    "    \"Chennai\": 90,\n",
    "    \"Kolkata\": 110\n",
    "}"
   ]
  },
  {
   "cell_type": "code",
   "execution_count": 63,
   "id": "b412c9bd-620c-45f4-b1e2-d2851e424868",
   "metadata": {},
   "outputs": [],
   "source": [
    "# Calculate total deliveries\n",
    "\n",
    "total_orders = sum(orders_per_city.values())"
   ]
  },
  {
   "cell_type": "code",
   "execution_count": 64,
   "id": "0741b771-a482-4122-acc3-5aa5e0859a07",
   "metadata": {},
   "outputs": [],
   "source": [
    "# Find city with max and min deliveries\n",
    "\n",
    "max_city = max(orders_per_city, key=orders_per_city.get)\n",
    "min_city = min(orders_per_city, key=orders_per_city.get)"
   ]
  },
  {
   "cell_type": "code",
   "execution_count": 66,
   "id": "1592f8be-507c-44d2-97db-150bde61159e",
   "metadata": {},
   "outputs": [
    {
     "name": "stdout",
     "output_type": "stream",
     "text": [
      "📊 Daily Delivery Summary:\n",
      "Total orders delivered: 650\n",
      "City with highest deliveries: Bangalore\n",
      "City with lowest deliveries: Chennai\n"
     ]
    }
   ],
   "source": [
    "# Print the summary\n",
    "\n",
    "print(\"📊 Daily Delivery Summary:\")\n",
    "print(\"Total orders delivered:\", total_orders)\n",
    "print(\"City with highest deliveries:\", max_city)\n",
    "print(\"City with lowest deliveries:\", min_city)"
   ]
  },
  {
   "cell_type": "code",
   "execution_count": 67,
   "id": "de764de9-063b-4804-86c0-8890ecd23ed9",
   "metadata": {},
   "outputs": [],
   "source": [
    "# The sum() function returns the total of all numeric elements in an iterable\n",
    "scores = [10,20,30]\n",
    "total = sum(scores)"
   ]
  },
  {
   "cell_type": "code",
   "execution_count": 69,
   "id": "35032f20-4148-4dba-b3e0-8caa916c2df5",
   "metadata": {},
   "outputs": [
    {
     "data": {
      "text/plain": [
       "160"
      ]
     },
     "execution_count": 69,
     "metadata": {},
     "output_type": "execute_result"
    }
   ],
   "source": [
    "# it also accepts an optional start value\n",
    "sum(scores,100)"
   ]
  },
  {
   "cell_type": "code",
   "execution_count": 71,
   "id": "2c6ff4ce-8a16-447a-ba38-4aab31c4a2bd",
   "metadata": {},
   "outputs": [
    {
     "name": "stdout",
     "output_type": "stream",
     "text": [
      "9\n",
      "1\n"
     ]
    }
   ],
   "source": [
    "# The max() and min() functions return the largest and smalled elements in a sequence\n",
    "values = [4,1,9,3]\n",
    "print(max(values))\n",
    "print(min(values))"
   ]
  },
  {
   "cell_type": "code",
   "execution_count": 72,
   "id": "9a473e7e-abdf-48da-97da-b8ad80783aa7",
   "metadata": {},
   "outputs": [
    {
     "data": {
      "text/plain": [
       "'zebra'"
      ]
     },
     "execution_count": 72,
     "metadata": {},
     "output_type": "execute_result"
    }
   ],
   "source": [
    "# They work not only with numbers but also with strings, tuples or any comparable elements. \n",
    "max(['cat','zebra','ant'])"
   ]
  },
  {
   "cell_type": "markdown",
   "id": "7b69a459-6b81-4eb6-a3a3-3615323a6825",
   "metadata": {},
   "source": [
    "These functions are used frequently in data summarisation, exploratory analysis, and preprocessing."
   ]
  },
  {
   "cell_type": "markdown",
   "id": "9d593353-88d1-4cb5-a89e-a10c6239de0e",
   "metadata": {},
   "source": [
    "## 9. `key=` Parameter – Customise How Values Are Compared\n",
    "\n",
    "### What Is the `key=` Parameter?\n",
    "In functions like **max(), min(), and sorted()**, Python offers an optional **key** parameter that allows you to define custom logic for comparing elements. This makes it possible to work with more complex data structures, such as dictionaries, tuples, or objects, and decide what exactly should be considered when evaluating the values. \n",
    "The `key=` parameter is used in functions like `sorted()`, `max()`, and `min()` to specify **how the values should be compared**."
   ]
  },
  {
   "cell_type": "markdown",
   "id": "f754e59b-b765-44b0-b7c1-4e4e5f731a7e",
   "metadata": {},
   "source": [
    "#### Business Use Case: Find the Highest Rated Product\n",
    "\n",
    "Imagine you run a product review site.  \n",
    "Each product has a name and a customer rating out of 5.\n",
    "\n",
    "You want to find the product with the **highest rating** using `max()`.  \n",
    "But instead of comparing full dictionaries, you use the `key=` parameter to compare based on `\"rating\"`."
   ]
  },
  {
   "cell_type": "code",
   "execution_count": 73,
   "id": "3c72f6bc-02a1-411c-9ec3-5c8f93fa9f53",
   "metadata": {},
   "outputs": [],
   "source": [
    "# List of products with ratings\n",
    "\n",
    "products = [\n",
    "    {\"name\": \"Smartphone\", \"rating\": 4.6},\n",
    "    {\"name\": \"Laptop\", \"rating\": 4.8},\n",
    "    {\"name\": \"Tablet\", \"rating\": 4.3}\n",
    "]"
   ]
  },
  {
   "cell_type": "code",
   "execution_count": 74,
   "id": "2ed71628-0694-4fac-b258-038498fc259c",
   "metadata": {},
   "outputs": [],
   "source": [
    "# Use key= to find product with highest rating\n",
    "\n",
    "top_product = max(products, key=lambda product: product[\"rating\"])"
   ]
  },
  {
   "cell_type": "code",
   "execution_count": 76,
   "id": "5b3d5fb8-f11f-4719-b0c1-932d0b133f07",
   "metadata": {},
   "outputs": [
    {
     "name": "stdout",
     "output_type": "stream",
     "text": [
      "🌟 Highest rated product:\n",
      "Laptop (Rating: 4.8)\n"
     ]
    }
   ],
   "source": [
    "# Print the result\n",
    "\n",
    "print(\"🌟 Highest rated product:\")\n",
    "print(f\"{top_product['name']} (Rating: {top_product['rating']})\")"
   ]
  },
  {
   "cell_type": "markdown",
   "id": "a67b1996-816c-4cdb-be33-707e0e9173e6",
   "metadata": {},
   "source": [
    "The **key** parameter takes a function as its value. That function is applied to each item before the main comparison happens. This does not change the data itself but just the way it is compared."
   ]
  },
  {
   "cell_type": "code",
   "execution_count": 77,
   "id": "dab4b004-08e2-4875-9fa8-88bfcaf313cb",
   "metadata": {},
   "outputs": [
    {
     "data": {
      "text/plain": [
       "'banana'"
      ]
     },
     "execution_count": 77,
     "metadata": {},
     "output_type": "execute_result"
    }
   ],
   "source": [
    "# Example to find the longest string in a list\n",
    "words = ['apple','banana','fig']\n",
    "max(words,key=len)"
   ]
  },
  {
   "cell_type": "code",
   "execution_count": 79,
   "id": "9456e835-f29d-4b8f-a957-87084309123d",
   "metadata": {},
   "outputs": [
    {
     "data": {
      "text/plain": [
       "('JP', 95)"
      ]
     },
     "execution_count": 79,
     "metadata": {},
     "output_type": "execute_result"
    }
   ],
   "source": [
    "# when dealing with tuples\n",
    "data = [('Shadab',88),('JP',95),('Loki',90)]\n",
    "max(data,key=lambda x:x[1])"
   ]
  },
  {
   "cell_type": "markdown",
   "id": "91db94cc-b04e-4c9c-b84d-655c2bba6047",
   "metadata": {},
   "source": [
    "This is especially useful when working with structured data, such as rows from a CSV file or elements from a database query. Instead of extracting and comparing values manually, you define how comparisons should happen using **key**."
   ]
  },
  {
   "cell_type": "code",
   "execution_count": 80,
   "id": "cb0c9175-7cda-4181-bb58-7d66957d5dbd",
   "metadata": {},
   "outputs": [
    {
     "data": {
      "text/plain": [
       "[('Shadab', 88), ('Loki', 90), ('JP', 95)]"
      ]
     },
     "execution_count": 80,
     "metadata": {},
     "output_type": "execute_result"
    }
   ],
   "source": [
    "# The same logic applies to sorting. Here , the list is sorted based on the second item in each tuple\n",
    "sorted(data,key=lambda x:x[1])"
   ]
  },
  {
   "cell_type": "markdown",
   "id": "80a4fe46-503d-4b66-bfb9-d0a13dd7c3bb",
   "metadata": {},
   "source": [
    "## 10. `tqdm` – Progress Bars Made Easy\n",
    "\n",
    "### What is `tqdm`?\n",
    "When working with large datasets or time-consuming loops, it's helpful to know how long a task will take or how much progress has been made. The **tqdm** library provides a simple and efficient way to add progress bars to Python loops, giving instant visual feedback during execution.\n",
    "`tqdm` is a third-party Python library that displays a **progress bar** for loops and iterable processing.\n",
    "\n",
    "It’s especially useful when:\n",
    "- You have **long-running operations**\n",
    "- You want to show **live feedback** (e.g., in data processing, simulations, uploads)\n",
    "\n",
    "> **Note:** You must install it first using:\n",
    "> ```bash\n",
    "> pip install tqdm\n",
    "> ```\n"
   ]
  },
  {
   "cell_type": "markdown",
   "id": "708c31a4-d08a-47cc-b531-f5f09659feba",
   "metadata": {},
   "source": [
    "#### Business Use Case: Processing Orders with Progress Bar\n",
    "\n",
    "Imagine you’re processing a large number of customer orders (e.g., applying tax, formatting data).  \n",
    "You want to show a **progress bar** so the user knows how much work is done and how much is left.\n"
   ]
  },
  {
   "cell_type": "code",
   "execution_count": 81,
   "id": "1aaab7fb-58bc-4ba0-bbd0-3e61118fb63e",
   "metadata": {},
   "outputs": [],
   "source": [
    "from tqdm import tqdm\n",
    "import time  # Simulate delay for each order"
   ]
  },
  {
   "cell_type": "code",
   "execution_count": 82,
   "id": "226bb141-0cb1-4624-a72b-1a9df3345bf3",
   "metadata": {},
   "outputs": [],
   "source": [
    "# List of order IDs\n",
    "\n",
    "order_ids = [f\"ORD{1000 + i}\" for i in range(10)]"
   ]
  },
  {
   "cell_type": "code",
   "execution_count": 83,
   "id": "a52a6f7b-175a-45da-9ac5-42ba308eacd3",
   "metadata": {},
   "outputs": [
    {
     "name": "stdout",
     "output_type": "stream",
     "text": [
      "🔄 Processing orders...\n"
     ]
    },
    {
     "name": "stderr",
     "output_type": "stream",
     "text": [
      "100%|███████████████████████████████████████████| 10/10 [00:02<00:00,  4.88it/s]\n"
     ]
    }
   ],
   "source": [
    "# Simulate processing each order with a progress bar\n",
    "\n",
    "print(\"🔄 Processing orders...\")\n",
    "\n",
    "for order in tqdm(order_ids):\n",
    "    \n",
    "    # Simulate order processing time\n",
    "    time.sleep(0.2)"
   ]
  },
  {
   "cell_type": "markdown",
   "id": "7356d3b1-4b3e-4116-a6aa-b83a0c7b8979",
   "metadata": {},
   "source": [
    "**tqdm** wraps around any iterable, such as a list or range, and displays a real-time progress bar in the console or notebook. \n",
    "\n",
    "This automatically shows the loop's current position, estimated time remaining, and speed of execution.\n",
    "\n",
    "tqdm can also be used with file reading/writing operations and list comprehensions.\n",
    "\n",
    "`results = [process(x) for x in tqdm(data)]`\n",
    "\n",
    "It works seamlessly in scripts, Jupyter notebooks, and even inside multiprocessing environments."
   ]
  }
 ],
 "metadata": {
  "kernelspec": {
   "display_name": "Python [conda env:base] *",
   "language": "python",
   "name": "conda-base-py"
  },
  "language_info": {
   "codemirror_mode": {
    "name": "ipython",
    "version": 3
   },
   "file_extension": ".py",
   "mimetype": "text/x-python",
   "name": "python",
   "nbconvert_exporter": "python",
   "pygments_lexer": "ipython3",
   "version": "3.13.5"
  },
  "widgets": {
   "application/vnd.jupyter.widget-state+json": {
    "state": {},
    "version_major": 2,
    "version_minor": 0
   }
  }
 },
 "nbformat": 4,
 "nbformat_minor": 5
}
