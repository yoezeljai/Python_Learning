{
 "cells": [
  {
   "cell_type": "markdown",
   "id": "c893c155-01b0-43d9-ab95-3f387ff0a75f",
   "metadata": {},
   "source": [
    "# Types of Arguments\n",
    "In Python, a function is a reusable block of code that performs a specific task. To make a function work with different inputs, we supply arguments. Arguments are values that can be passed to a function when it is called. The function will directly plug the provided argument values into its internal logic and return the resulting outputs.\n",
    "\n",
    "A function can take in one argument, no arguments or even multiple arguments. Understanding how Python matches these supplied values to the parameters defined in the function header is essential for writing clear, predictable code. \n",
    "\n",
    "The most straightforward way to pass data into a function is by positional arguments. Here, each value is assigned to its corresponding parameter purely by position in the call. "
   ]
  },
  {
   "cell_type": "markdown",
   "id": "a88db1bc-1129-4803-8a57-5b459310c5f9",
   "metadata": {},
   "source": [
    "## 1. Positional Arguments\n",
    "\n",
    "In Python, **positional arguments** are passed to a function in the exact order in which parameters are defined. Each value is assigned to its corresponding parameter by position.\n"
   ]
  },
  {
   "cell_type": "markdown",
   "id": "37c2d1fd-43d3-4640-8197-ae44c28707f9",
   "metadata": {},
   "source": [
    "#### Business Use Case: Invoice Generation\n",
    "\n",
    "Imagine you're working at a company that generates invoices for clients. You have a function that takes the client's name, number of hours worked, and hourly rate — all passed in a fixed order — and calculates the total invoice amount."
   ]
  },
  {
   "cell_type": "code",
   "execution_count": 1,
   "id": "5236619c-48a0-4729-aa5f-2941c3a1e2c4",
   "metadata": {},
   "outputs": [],
   "source": [
    "# Function to generate an invoice using positional arguments\n",
    "# Arguments:\n",
    "#   client_name   → Name of the client (str)\n",
    "#   hours_worked  → Number of hours billed (int or float)\n",
    "#   hourly_rate   → Billing rate per hour (int or float)\n",
    "# The order of arguments matters!\n",
    "\n",
    "def generate_invoice(client_name, hours_worked, hourly_rate):\n",
    "    \n",
    "    total_amount = hours_worked * hourly_rate\n",
    "    \n",
    "    print(f\"Invoice for {client_name}\")\n",
    "    print(f\"Hours Worked: {hours_worked}\")\n",
    "    print(f\"Rate per Hour: ₹{hourly_rate}\")\n",
    "    print(f\"Total Amount: ₹{total_amount}\")"
   ]
  },
  {
   "cell_type": "code",
   "execution_count": 20,
   "id": "76412f84-f440-4fec-a207-b9190653b968",
   "metadata": {},
   "outputs": [
    {
     "name": "stdout",
     "output_type": "stream",
     "text": [
      "Invoice for JP Edu Pvt Ltd\n",
      "Hours Worked: 35\n",
      "Rate per Hour: ₹1200\n",
      "Total Amount: ₹42000\n"
     ]
    }
   ],
   "source": [
    "# Call the function using positional arguments\n",
    "# Arguments are passed in the expected order: name → hours → rate\n",
    "\n",
    "generate_invoice(\"JP Edu Pvt Ltd\", 35, 1200) # Remember , order matters when passing an argument"
   ]
  },
  {
   "cell_type": "code",
   "execution_count": 21,
   "id": "2ba678b6-a429-482f-bd61-99bbaea109cc",
   "metadata": {},
   "outputs": [],
   "source": [
    "# Another example to show passing positional arguments to a function. \n",
    "def subtract(x,y):\n",
    "    return x+y"
   ]
  },
  {
   "cell_type": "code",
   "execution_count": 22,
   "id": "857391fc-410d-479c-a6a0-15406ca918d2",
   "metadata": {},
   "outputs": [],
   "source": [
    "result = subtract(3,5) # 3 maps to x and 5 maps to y"
   ]
  },
  {
   "cell_type": "code",
   "execution_count": 23,
   "id": "2294b64a-c459-4631-8e62-3375a3f17fa4",
   "metadata": {},
   "outputs": [
    {
     "data": {
      "text/plain": [
       "8"
      ]
     },
     "execution_count": 23,
     "metadata": {},
     "output_type": "execute_result"
    }
   ],
   "source": [
    "result"
   ]
  },
  {
   "cell_type": "markdown",
   "id": "d0b8cbb7-0598-463b-abae-0f8665f30267",
   "metadata": {},
   "source": [
    "A few important points to remember when using these :\n",
    "- **Order Matters** : Swapping the order of argument changes the mapping, which may also affect the result.\n",
    "- **No need for parameter names in the call** : This is because python relies on position; we do not write x=3 and y=5 in call.\n",
    "\n",
    "**Common pitfalls**\n",
    "* Mismatched count : Suppyling too many or too few positional arguments raises a TypeError\n",
    "* Readability: When a function takes several parameters of the same type (e.g., numbers), relying only on position can make code harder to read\n",
    "\n",
    "In data‑science workflows, many library functions, such as NumPy for mathematical calculations or Matplotlib for visualising data, accept positional arguments. Knowing the expected order helps avoid subtle bugs.\n",
    "\n",
    "> Note: You will read about parameters and arguments while working with functions. The terms may seem similar, but there is a subtle difference. \n",
    "\n",
    "Parameters are the variables defined in the function signature. They act as placeholders for the values that will be passed into the function. For example, in def add(a, b):, a and b are parameters.\n",
    "\n",
    "Arguments, on the other hand, are the actual values you provide to the function when you call it. For instance, in add(5, 3), 5 and 3 are arguments.\n",
    "\n",
    " \n",
    "\n",
    "Using positional arguments is an easy and quick way to provide arguments to a function. But what if a function takes in a large number of arguments? Remembering the exact order in which the arguments are provided in the function definition will become a hectic task. For such cases, we have keyword arguments."
   ]
  },
  {
   "cell_type": "markdown",
   "id": "64f7d627-6cea-47e8-9503-cb4345d3d8e1",
   "metadata": {},
   "source": [
    "## 2. Keyword Arguments\n",
    "\n",
    "As Python functions grow in complexity, they often require more arguments, sometimes with optional values, defaults, or similar data types. In such cases, using only positional arguments will make the code harder to read and more error-prone.\n",
    "\n",
    "To solve this, we can use keyword arguments.\n",
    "**Keyword arguments** in Python are passed by explicitly specifying the parameter names. This makes the function calls more readable and order-independent.This improves clarity, reduces mistakes, and makes your code more self-explanatory, especially useful in data science and machine learning codebases where function calls can get quite detailed.\n",
    "> Note : Here order do not matter"
   ]
  },
  {
   "cell_type": "markdown",
   "id": "45fbda71-ae74-463a-9a5d-d1b94c04974a",
   "metadata": {},
   "source": [
    "#### Business Use Case: Invoice Generation\n",
    "\n",
    "Let’s use the same invoice generation scenario. Using keyword arguments ensures that the right data is mapped to the right parameter, even if the order of the arguments changes. This is especially useful when working with multiple or optional inputs."
   ]
  },
  {
   "cell_type": "code",
   "execution_count": 24,
   "id": "75112774-b24a-415f-bee9-a8a5e0821293",
   "metadata": {},
   "outputs": [
    {
     "name": "stdout",
     "output_type": "stream",
     "text": [
      "Invoice for JP Edu Pvt Ltd\n",
      "Hours Worked: 35\n",
      "Rate per Hour: ₹1200\n",
      "Total Amount: ₹42000\n"
     ]
    }
   ],
   "source": [
    "# Call the function using keyword arguments\n",
    "# Each argument is explicitly assigned to a parameter name\n",
    "\n",
    "generate_invoice(client_name=\"JP Edu Pvt Ltd\", hourly_rate=1200, hours_worked=35)"
   ]
  },
  {
   "cell_type": "code",
   "execution_count": 13,
   "id": "54cbaa9b-f42a-4b06-9ffd-db4788951a05",
   "metadata": {},
   "outputs": [],
   "source": [
    "# Another example \n",
    "def greet(name,message):\n",
    "    print(f'{message},{name}')"
   ]
  },
  {
   "cell_type": "code",
   "execution_count": 14,
   "id": "d9135f39-9ae5-4e4a-8452-e2ac8d188620",
   "metadata": {},
   "outputs": [
    {
     "name": "stdout",
     "output_type": "stream",
     "text": [
      "Good morning,JP\n"
     ]
    }
   ],
   "source": [
    "greet(name='JP',message='Good morning')"
   ]
  },
  {
   "cell_type": "code",
   "execution_count": 16,
   "id": "c97dd4f7-1562-44dc-ac4c-ef80fc19a0d5",
   "metadata": {},
   "outputs": [
    {
     "name": "stdout",
     "output_type": "stream",
     "text": [
      "Hello,IC\n"
     ]
    }
   ],
   "source": [
    "greet(message='Hello',name='IC')"
   ]
  },
  {
   "cell_type": "markdown",
   "id": "b9474caf-8213-436f-8ddf-d7a60f8b232a",
   "metadata": {},
   "source": [
    "Some important points to note about the keyword arguments : \n",
    "- With keyword arguments, the name of the parameter is specified during the function call\n",
    "- **Order doesn't matter** When using only keyword arguments, the order in which you pass them doesn’t affect the outcome\n",
    "- Positional arguments must always come **before** keyword arguments in a function call. Mixing them out of order results in a syntax error.\n",
    "- Especially when functions take multiple arguments with similar types (like several numbers or strings), using keywords makes it easier to understand what each value represents\n",
    "\n",
    "Keyword arguments also help make your code more robust, since the association between the parameter and value is clear."
   ]
  },
  {
   "cell_type": "markdown",
   "id": "ec8d8e70-104c-4726-95f9-d9b4d7bcabb5",
   "metadata": {},
   "source": [
    "## 3. Default Arguments\n",
    "\n",
    "Not every function needs arguments to be provided in each call. In some situations, we may want a parameter to have a sensible default value so the caller can choose to skip it during a function call. Python allows this using default arguments. \n",
    "\n",
    "**Default arguments** allow you to define default values for one or more parameters in a function. If the caller doesn't provide a value for that parameter, the default is used.\n"
   ]
  },
  {
   "cell_type": "markdown",
   "id": "84a1d678-a8c4-4c0f-a522-cb100728716a",
   "metadata": {},
   "source": [
    "#### Business Use Case: Invoice Generation with a Default Hourly Rate\n",
    "\n",
    "Let’s say your company usually charges ₹1000/hour for services, unless a custom rate is specified. You can set this default dire\n"
   ]
  },
  {
   "cell_type": "code",
   "execution_count": 17,
   "id": "acb360a4-5eb2-4f2c-88ae-2d0a7b6aa090",
   "metadata": {},
   "outputs": [],
   "source": [
    "# Function to generate an invoice using a default hourly rate\n",
    "# Arguments:\n",
    "#   client_name   → Name of the client (str)\n",
    "#   hours_worked  → Number of hours billed (int or float)\n",
    "#   hourly_rate   → Billing rate per hour (int or float), defaults to ₹1000 if not provided\n",
    "\n",
    "def generate_invoice(client_name, hours_worked, hourly_rate=1000):\n",
    "    \n",
    "    total_amount = hours_worked * hourly_rate\n",
    "    \n",
    "    print(f\"Invoice for {client_name}\")\n",
    "    print(f\"Hours Worked: {hours_worked}\")\n",
    "    print(f\"Rate per Hour: ₹{hourly_rate}\")\n",
    "    print(f\"Total Amount: ₹{total_amount}\")"
   ]
  },
  {
   "cell_type": "code",
   "execution_count": 25,
   "id": "c97eb7f5-f624-4293-b084-3cbaafebb602",
   "metadata": {},
   "outputs": [
    {
     "name": "stdout",
     "output_type": "stream",
     "text": [
      "Invoice for JP Edu Pvt Ltd\n",
      "Hours Worked: 30\n",
      "Rate per Hour: ₹1000\n",
      "Total Amount: ₹30000\n"
     ]
    }
   ],
   "source": [
    "# Call the function without passing hourly_rate — it uses the default value\n",
    "\n",
    "generate_invoice(\"JP Edu Pvt Ltd\", 30)"
   ]
  },
  {
   "cell_type": "code",
   "execution_count": 27,
   "id": "18b353d3-5c53-4ae9-adcd-d005aad8cf81",
   "metadata": {},
   "outputs": [
    {
     "name": "stdout",
     "output_type": "stream",
     "text": [
      "Invoice for JP Edu Pvt Ltd\n",
      "Hours Worked: 30\n",
      "Rate per Hour: ₹1500\n",
      "Total Amount: ₹45000\n"
     ]
    }
   ],
   "source": [
    "# Call the function with a custom hourly_rate — overrides the default\n",
    "\n",
    "generate_invoice(\"JP Edu Pvt Ltd\", 30, 1500)"
   ]
  },
  {
   "cell_type": "markdown",
   "id": "a1bcd7d3-697b-44cf-95de-63c2e707ee22",
   "metadata": {},
   "source": [
    "Default arguments reduce the need for overloading functions or writing multiple versions of the same function for different use cases. They’re especially helpful in data science workflows where functions often operate on optional parameters like formatting choices, sampling sizes, or display settings. "
   ]
  },
  {
   "cell_type": "code",
   "execution_count": 29,
   "id": "6bbcfec3-82bb-4a06-85f6-90e647061e9c",
   "metadata": {},
   "outputs": [],
   "source": [
    "# Another example of passing Default arguments\n",
    "def greet(name,message='hello'):\n",
    "    print(f'{message},{name}')"
   ]
  },
  {
   "cell_type": "code",
   "execution_count": 32,
   "id": "9a8bfbbe-760f-4329-8a73-6b8fde60faeb",
   "metadata": {},
   "outputs": [
    {
     "name": "stdout",
     "output_type": "stream",
     "text": [
      "hello,JP\n"
     ]
    }
   ],
   "source": [
    "greet('JP') # Uses message = 'hello'"
   ]
  },
  {
   "cell_type": "code",
   "execution_count": 33,
   "id": "54b1161c-0544-428f-88f8-18a7863ea0dc",
   "metadata": {},
   "outputs": [
    {
     "name": "stdout",
     "output_type": "stream",
     "text": [
      "Morning,IC\n"
     ]
    }
   ],
   "source": [
    "greet('IC','Morning') # Overrides the default"
   ]
  },
  {
   "cell_type": "markdown",
   "id": "70a91561-ea0a-41fa-8f0f-dbcdbe5f3c3d",
   "metadata": {},
   "source": [
    "Some key points to note are:\n",
    "- Default values are specified in the function definition\n",
    "- When a value is not passed, the default is used\n",
    "- Parameters with default values must come after all required (non-default) parameters\n",
    "- Common use cases:\n",
    "    - Setting optional flags or modes\n",
    "    - Defining fallback values\n",
    "    - Avoiding unnecessary arguments in simple cases\n",
    "- If a default value is a mutable object (like a list or dictionary), it can retain changes between calls. This behaviour can lead to bugs if not handled carefully.\n",
    "\n",
    "Default arguments help make your functions easier to call and reduce repetition. Still, sometimes we don’t know how many values a user will pass to a function, or want to let them provide any number of inputs. That’s where *args comes in."
   ]
  },
  {
   "cell_type": "markdown",
   "id": "5d26a60a-75f6-4899-ba6a-0fcad74f1450",
   "metadata": {},
   "source": [
    "## 4. `*args` – Variable-Length Positional Arguments\n",
    "\n",
    "The `*args` syntax allows a function to accept any number of **positional arguments**. These arguments are stored in a tuple, which is useful when you don’t know how many values will be passed.\n"
   ]
  },
  {
   "cell_type": "markdown",
   "id": "95cd153a-0d6b-454e-ab0b-ea5a884cfa90",
   "metadata": {},
   "source": [
    "#### Business Use Case: Total Value from Column Samples\n",
    "\n",
    "Imagine you’re just starting out and want to manually add a few values from a column — maybe sales numbers, counts, or basic measurements. You can pass as many numbers as you want, and the function will return the total."
   ]
  },
  {
   "cell_type": "code",
   "execution_count": 34,
   "id": "3870a074-3cd3-4b9e-82b6-b6f38f003fc9",
   "metadata": {},
   "outputs": [],
   "source": [
    "# Function to calculate the total of any number of values\n",
    "# Arguments:\n",
    "#   *values → A variable number of numbers (e.g. sales, counts)\n",
    "\n",
    "def calculate_total(*values):\n",
    "    total = sum(values)\n",
    "    print(f\"Values received: {values}\")\n",
    "    print(f\"Total: {total}\")"
   ]
  },
  {
   "cell_type": "code",
   "execution_count": 35,
   "id": "8cb7ef4d-d1da-4245-a36c-1f4757a0ac0d",
   "metadata": {},
   "outputs": [
    {
     "name": "stdout",
     "output_type": "stream",
     "text": [
      "Values received: (100, 200, 150)\n",
      "Total: 450\n"
     ]
    }
   ],
   "source": [
    "# Example 1: Add up 3 sales values\n",
    "\n",
    "calculate_total(100, 200, 150)"
   ]
  },
  {
   "cell_type": "code",
   "execution_count": 38,
   "id": "938db397-ab72-423c-8c17-cf35eaad93c9",
   "metadata": {},
   "outputs": [
    {
     "name": "stdout",
     "output_type": "stream",
     "text": [
      "Values received: (5, 3, 12, 8, 7)\n",
      "Total: 35\n"
     ]
    }
   ],
   "source": [
    "# Example 2: Add up 5 item counts\n",
    "\n",
    "calculate_total(5, 3, 12, 8, 7)"
   ]
  },
  {
   "cell_type": "code",
   "execution_count": 39,
   "id": "4b565360-2976-4c4b-8d1b-3dcf6d3f6398",
   "metadata": {},
   "outputs": [],
   "source": [
    "# Another example \n",
    "def add_all(*args):\n",
    "    return sum(args)"
   ]
  },
  {
   "cell_type": "code",
   "execution_count": 40,
   "id": "5c5f9405-bf8b-4131-ad89-d01aa039a0b3",
   "metadata": {},
   "outputs": [
    {
     "data": {
      "text/plain": [
       "50"
      ]
     },
     "execution_count": 40,
     "metadata": {},
     "output_type": "execute_result"
    }
   ],
   "source": [
    "add_all(5,10,15,20)"
   ]
  },
  {
   "cell_type": "markdown",
   "id": "7b2c50dd-dc60-4891-925a-7ef7209dc941",
   "metadata": {},
   "source": [
    "Some important points to note are:\n",
    "- **Collecting arguments** When you use *args, Python packs all extra positional inputs into a tuple\n",
    "- **The name ‘args’ is a convention** You can use any valid variable name, but args is the standard\n",
    "- **Can be combined with regular parameters** You can mix *args with fixed parameters, but *args must appear after all regular positional arguments. Refer example below"
   ]
  },
  {
   "cell_type": "code",
   "execution_count": 41,
   "id": "71d1721d-2a49-45b2-97ff-644b04eaa3e4",
   "metadata": {},
   "outputs": [],
   "source": [
    "def report(title,*points):\n",
    "    print(title)\n",
    "    for p in points:\n",
    "        print('-',p)"
   ]
  },
  {
   "cell_type": "code",
   "execution_count": 43,
   "id": "eb1679b3-559e-4086-8f4d-d3ed0df323b9",
   "metadata": {},
   "outputs": [
    {
     "name": "stdout",
     "output_type": "stream",
     "text": [
      "JP_Sales\n",
      "- 5\n",
      "- 10\n",
      "- 20\n",
      "- 30\n"
     ]
    }
   ],
   "source": [
    "report('JP_Sales',5,10,20,30)"
   ]
  },
  {
   "cell_type": "markdown",
   "id": "2ec11e80-f4c2-440a-a89a-99ef405a4f2b",
   "metadata": {},
   "source": [
    "We saw that __*args__ are useful for building general-purpose utilities and working with unpredictable data structures. These can also come in handy in aggregation or batch-processing operations to accept a wide variety of inputs."
   ]
  },
  {
   "cell_type": "markdown",
   "id": "44ac5b9d-f9cd-4560-a22c-30fa1798ab30",
   "metadata": {},
   "source": [
    "## 5. `**kwargs` – Variable-Length Keyword Arguments\n",
    "\n",
    "The `**kwargs` syntax allows a function to accept any number of named keyword arguments. These are captured as a dictionary and are useful when the exact set of inputs may vary.\n"
   ]
  },
  {
   "cell_type": "markdown",
   "id": "c5a67bdd-cff4-49a9-acf8-5101f32eba4d",
   "metadata": {},
   "source": [
    "#### Business Use Case: Dataset Summary Info\n",
    "\n",
    "Imagine you're writing a function that prints details about a dataset — like its name, number of rows, number of columns, missing values, file size, etc. The available info may vary from dataset to dataset.\n",
    "\n",
    "Using `**kwargs`, you can keep the function flexible and reusable for different datasets.\n"
   ]
  },
  {
   "cell_type": "code",
   "execution_count": 44,
   "id": "55454402-6bde-4458-bd28-97eb11806fbe",
   "metadata": {},
   "outputs": [],
   "source": [
    "# Function to print basic summary of a dataset using **kwargs\n",
    "# Arguments:\n",
    "#   **info → Any dataset-related summary values (key-value pairs)\n",
    "\n",
    "def print_dataset_info(**info):\n",
    "    print(\"Dataset Summary:\")\n",
    "    print(\"-\" * 30)\n",
    "    for key, value in info.items():\n",
    "        print(f\"{key.capitalize()}: {value}\")\n",
    "    print(\"-\" * 30)"
   ]
  },
  {
   "cell_type": "code",
   "execution_count": 45,
   "id": "6c0952ee-64ec-444f-955a-3627956297fb",
   "metadata": {},
   "outputs": [
    {
     "name": "stdout",
     "output_type": "stream",
     "text": [
      "Dataset Summary:\n",
      "------------------------------\n",
      "Name: Sales Data\n",
      "Rows: 5000\n",
      "Columns: 12\n",
      "------------------------------\n"
     ]
    }
   ],
   "source": [
    "# Example 1: Basic info for a CSV file\n",
    "print_dataset_info(name=\"Sales Data\", rows=5000, columns=12)"
   ]
  },
  {
   "cell_type": "code",
   "execution_count": 47,
   "id": "57480835-8d33-4d4a-a9f3-194d6d4d9c93",
   "metadata": {},
   "outputs": [
    {
     "name": "stdout",
     "output_type": "stream",
     "text": [
      "Dataset Summary:\n",
      "------------------------------\n",
      "Name: Customer Info\n",
      "Rows: 2000\n",
      "Missing_values: 250\n",
      "File_size: 1.2MB\n",
      "------------------------------\n"
     ]
    }
   ],
   "source": [
    "# Example 2: Info for a file with missing values and file size\n",
    "\n",
    "print_dataset_info(name=\"Customer Info\", rows=2000, missing_values=250, file_size=\"1.2MB\")"
   ]
  },
  {
   "cell_type": "markdown",
   "id": "dc0bc0d2-23c4-4fa9-bfd2-1e1ec895df8e",
   "metadata": {},
   "source": [
    "Some key points to note here are:\n",
    "- **Captures extra keyword arguments** All unmatched keyword arguments passed to the function are packed into a dictionary\n",
    "- **Name is a convention** The name kwargs is conventional, but any name preceded by ** will work\n",
    "- **Can be combined with other argument types** Typically used after all regular and *args parameters\n",
    "- Common use cases\n",
    "    - Handling optional named inputs\n",
    "    - Passing arguments to other functions (e.g., in wrappers or pipelines)\n",
    "    - Creating flexible APIs (or Application Programming Interface)\n",
    "\n",
    "**kwargs give your functions the power to handle any number of named arguments. It's widely used in libraries and frameworks to keep functions flexible without sacrificing clarity."
   ]
  },
  {
   "cell_type": "markdown",
   "id": "083ba265-0ef7-4a09-85e5-6c5d34a25b45",
   "metadata": {},
   "source": [
    "## 6. Positional-Only Arguments (using `/`)\n",
    "\n",
    "While Python gives you great flexibility in how arguments are passed, sometimes you want to restrict that flexibility to avoid ambiguity or misuse, especially in large codebases or public APIs. One way to do this is by using positional-only parameters, a feature introduced in Python 3.8. \n",
    "\n",
    "In Python, you can define **positional-only arguments** using a `/` in the function signature. Any parameter before `/` must be passed **by position only**, not by name.\n",
    "\n",
    "This is useful when you:\n",
    "- Want to keep the API clean and avoid keyword misuse.\n",
    "- Have a common utility function where naming arguments adds no value.\n"
   ]
  },
  {
   "cell_type": "markdown",
   "id": "f40ce3ac-f972-4597-bed2-d58ad8143418",
   "metadata": {},
   "source": [
    "#### Business Use Case: Converting Units (e.g., cm to inches)\n",
    "\n",
    "Let’s say you're writing a helper function to convert values from centimeters to inches — this is useful in preprocessing steps before modeling or plotting. To keep it simple and consistent, you want the input value to always be passed by position."
   ]
  },
  {
   "cell_type": "code",
   "execution_count": 48,
   "id": "390631de-57e3-4ecb-8909-10f40a7d58e8",
   "metadata": {},
   "outputs": [],
   "source": [
    "# Function to convert centimeters to inches using a positional-only argument\n",
    "# Arguments:\n",
    "#   value → A number in centimeters. Must be passed by position only.\n",
    "\n",
    "def cm_to_inches(value, /):\n",
    "    inches = value / 2.54\n",
    "    print(f\"{value} cm is equal to {inches:.2f} inches\")"
   ]
  },
  {
   "cell_type": "code",
   "execution_count": 49,
   "id": "938daef0-4207-4515-8484-74076ba1ca61",
   "metadata": {},
   "outputs": [
    {
     "name": "stdout",
     "output_type": "stream",
     "text": [
      "30 cm is equal to 11.81 inches\n"
     ]
    }
   ],
   "source": [
    "# Correct usage: value passed by position\n",
    "\n",
    "cm_to_inches(30)"
   ]
  },
  {
   "cell_type": "code",
   "execution_count": 51,
   "id": "0cdf3855-6c08-45ef-9d89-0c3232069c18",
   "metadata": {},
   "outputs": [
    {
     "ename": "TypeError",
     "evalue": "cm_to_inches() got some positional-only arguments passed as keyword arguments: 'value'",
     "output_type": "error",
     "traceback": [
      "\u001b[0;31m---------------------------------------------------------------------------\u001b[0m",
      "\u001b[0;31mTypeError\u001b[0m                                 Traceback (most recent call last)",
      "Cell \u001b[0;32mIn[51], line 3\u001b[0m\n\u001b[1;32m      1\u001b[0m \u001b[38;5;66;03m# Incorrect usage: value passed by keyword — will raise an error\u001b[39;00m\n\u001b[0;32m----> 3\u001b[0m cm_to_inches(value\u001b[38;5;241m=\u001b[39m\u001b[38;5;241m30\u001b[39m)\n",
      "\u001b[0;31mTypeError\u001b[0m: cm_to_inches() got some positional-only arguments passed as keyword arguments: 'value'"
     ]
    }
   ],
   "source": [
    "# Incorrect usage: value passed by keyword — will raise an error\n",
    "\n",
    "cm_to_inches(value=30)  # ❌ This will throw TypeError"
   ]
  },
  {
   "cell_type": "markdown",
   "id": "0fba9da2-b472-4a81-bc1b-126c41029204",
   "metadata": {},
   "source": [
    "With positional-only parameters, arguments must be passed strictly by position, not by name. This can make code cleaner, prevent accidental overrides, and preserve the intended structure of function calls, especially when the names of parameters are not meant to be part of the public interface."
   ]
  },
  {
   "cell_type": "code",
   "execution_count": 52,
   "id": "214b57f4-9768-4d09-96e2-7148900f2f32",
   "metadata": {},
   "outputs": [],
   "source": [
    "# Another example\n",
    "def divide(x,y,/):\n",
    "    return x/y"
   ]
  },
  {
   "cell_type": "code",
   "execution_count": 54,
   "id": "fcd2a2a8-6669-414f-b076-fd2027ba653a",
   "metadata": {},
   "outputs": [
    {
     "data": {
      "text/plain": [
       "5.0"
      ]
     },
     "execution_count": 54,
     "metadata": {},
     "output_type": "execute_result"
    }
   ],
   "source": [
    "divide(10,2) # valid"
   ]
  },
  {
   "cell_type": "code",
   "execution_count": 55,
   "id": "3a16379b-d57e-4be3-8b72-afd489258dde",
   "metadata": {},
   "outputs": [
    {
     "ename": "TypeError",
     "evalue": "divide() got some positional-only arguments passed as keyword arguments: 'x, y'",
     "output_type": "error",
     "traceback": [
      "\u001b[0;31m---------------------------------------------------------------------------\u001b[0m",
      "\u001b[0;31mTypeError\u001b[0m                                 Traceback (most recent call last)",
      "Cell \u001b[0;32mIn[55], line 1\u001b[0m\n\u001b[0;32m----> 1\u001b[0m divide(x\u001b[38;5;241m=\u001b[39m\u001b[38;5;241m10\u001b[39m,y\u001b[38;5;241m=\u001b[39m\u001b[38;5;241m2\u001b[39m)\n",
      "\u001b[0;31mTypeError\u001b[0m: divide() got some positional-only arguments passed as keyword arguments: 'x, y'"
     ]
    }
   ],
   "source": [
    "divide(x=10,y=2) # error: posintional-only"
   ]
  },
  {
   "cell_type": "markdown",
   "id": "dc8dd16e-32b4-4955-a924-a95d654ef9a7",
   "metadata": {},
   "source": [
    "Some points to note are:\n",
    "- **Syntax**  Parameters listed before ‘ / ’ must be passed by position\n",
    "- **When to use**\n",
    "    - To prevent naming conflicts\n",
    "    - To keep internal parameter names hidden\n",
    "    - To enforce cleaner or simpler APIs\n",
    "- Many built-in functions like len() already follow this rule internally. Now you can define your own functions with similar behaviour.\n",
    "- Especially useful when parameter names are not meaningful to the caller or might change in the future\n",
    "\n",
    "Positional-only parameters give you greater control over how functions are used, making your code interfaces cleaner and less error-prone.\n"
   ]
  },
  {
   "cell_type": "markdown",
   "id": "3e4be642-6ba0-477b-83db-9eae208cc500",
   "metadata": {},
   "source": [
    "## 7. Keyword-Only Arguments (using `*`)\n",
    "\n",
    "In many situations, you want to ensure that certain arguments are passed __explicitly by name__, especially when they control behaviour or represent optional settings. Python allows this using __keyword-only parameters__. This rule can be enforced by placing a * in the function definition. \n",
    "\n",
    "Any argument defined **after** a `*` in a function must be passed using a **keyword**, not as a positional argument.\n",
    "\n",
    "This is useful when:\n",
    "- You want to make the function call **clear and readable**\n",
    "- You want to avoid confusion with optional parameters\n"
   ]
  },
  {
   "cell_type": "markdown",
   "id": "ae160bdd-8225-4857-bffa-056ec135169c",
   "metadata": {},
   "source": [
    "#### Business Use Case: Scaling a List of Values\n",
    "\n",
    "Suppose you're working with a list of numbers — maybe simple measurements or feature values — and you want to multiply all of them by a **scale factor**.\n",
    "\n",
    "To avoid confusion about what the second number in the function means, you can enforce that it must be passed as a **keyword-only** argument."
   ]
  },
  {
   "cell_type": "code",
   "execution_count": 56,
   "id": "9364c185-5e27-4ef9-b783-9cb17e02217e",
   "metadata": {},
   "outputs": [],
   "source": [
    "# Function to scale a list of numbers\n",
    "# Arguments:\n",
    "#   numbers → required list of numbers (positional)\n",
    "#   factor → keyword-only argument that controls how much to scale each number\n",
    "\n",
    "def scale_values(numbers, *, factor=1.0):\n",
    "    scaled = [num * factor for num in numbers]\n",
    "    print(f\"Original: {numbers}\")\n",
    "    print(f\"Scaled by factor {factor}: {scaled}\")"
   ]
  },
  {
   "cell_type": "code",
   "execution_count": 57,
   "id": "af0fbd63-b5cc-4be4-bb16-11bee7e46ba8",
   "metadata": {},
   "outputs": [
    {
     "name": "stdout",
     "output_type": "stream",
     "text": [
      "Original: [10, 20, 30]\n",
      "Scaled by factor 0.5: [5.0, 10.0, 15.0]\n"
     ]
    }
   ],
   "source": [
    "# Correct usage with keyword\n",
    "\n",
    "scale_values([10, 20, 30], factor=0.5)"
   ]
  },
  {
   "cell_type": "code",
   "execution_count": 58,
   "id": "8d50e7c2-13a1-4580-b637-cd6730e13845",
   "metadata": {},
   "outputs": [
    {
     "name": "stdout",
     "output_type": "stream",
     "text": [
      "Original: [1, 2, 3]\n",
      "Scaled by factor 1.0: [1.0, 2.0, 3.0]\n"
     ]
    }
   ],
   "source": [
    "# Usage with default factor (factor = 1.0)\n",
    "\n",
    "scale_values([1, 2, 3])"
   ]
  },
  {
   "cell_type": "code",
   "execution_count": 60,
   "id": "bb002751-1dbb-4394-b5ce-727964602aa5",
   "metadata": {},
   "outputs": [
    {
     "ename": "TypeError",
     "evalue": "scale_values() takes 1 positional argument but 2 were given",
     "output_type": "error",
     "traceback": [
      "\u001b[0;31m---------------------------------------------------------------------------\u001b[0m",
      "\u001b[0;31mTypeError\u001b[0m                                 Traceback (most recent call last)",
      "Cell \u001b[0;32mIn[60], line 3\u001b[0m\n\u001b[1;32m      1\u001b[0m \u001b[38;5;66;03m# ❌ Invalid usage: trying to pass factor as a positional argument\u001b[39;00m\n\u001b[0;32m----> 3\u001b[0m scale_values([\u001b[38;5;241m1\u001b[39m, \u001b[38;5;241m2\u001b[39m, \u001b[38;5;241m3\u001b[39m], \u001b[38;5;241m2\u001b[39m)\n",
      "\u001b[0;31mTypeError\u001b[0m: scale_values() takes 1 positional argument but 2 were given"
     ]
    }
   ],
   "source": [
    "# ❌ Invalid usage: trying to pass factor as a positional argument\n",
    "\n",
    "scale_values([1, 2, 3], 2)  # This will raise TypeError"
   ]
  },
  {
   "cell_type": "markdown",
   "id": "bdc68bcd-ade1-4cdb-9bb5-179f2bf2bdf0",
   "metadata": {},
   "source": [
    "Keyword-only arguments enhance clarity, prevent accidental misplacement, and simplify function calls for better readability and maintenance. They're also useful in data science and machine learning code, where functions frequently accept numerous optional parameters for tuning models or formatting outputs."
   ]
  },
  {
   "cell_type": "code",
   "execution_count": 61,
   "id": "0d169b93-6ad3-4649-b7f1-6481b65cd898",
   "metadata": {},
   "outputs": [],
   "source": [
    "# Example to illustrate the use of keyword-only arguments\n",
    "def plot(data,*,color='blue',title=''):\n",
    "    print(f'Plotting with {color},titles{title}')"
   ]
  },
  {
   "cell_type": "code",
   "execution_count": 65,
   "id": "e847e71a-444e-493d-9480-8ebe556ad87e",
   "metadata": {},
   "outputs": [
    {
     "name": "stdout",
     "output_type": "stream",
     "text": [
      "Plotting with red,titles Results\n"
     ]
    }
   ],
   "source": [
    "plot(10,color='red',title=' Results') # works as expected"
   ]
  },
  {
   "cell_type": "code",
   "execution_count": 68,
   "id": "65237ea9-dba1-48ca-b7a3-328b3e95707a",
   "metadata": {},
   "outputs": [
    {
     "ename": "TypeError",
     "evalue": "plot() takes 1 positional argument but 3 were given",
     "output_type": "error",
     "traceback": [
      "\u001b[0;31m---------------------------------------------------------------------------\u001b[0m",
      "\u001b[0;31mTypeError\u001b[0m                                 Traceback (most recent call last)",
      "Cell \u001b[0;32mIn[68], line 1\u001b[0m\n\u001b[0;32m----> 1\u001b[0m plot(\u001b[38;5;241m10\u001b[39m,\u001b[38;5;124m'\u001b[39m\u001b[38;5;124mred\u001b[39m\u001b[38;5;124m'\u001b[39m,\u001b[38;5;124m'\u001b[39m\u001b[38;5;124mResults\u001b[39m\u001b[38;5;124m'\u001b[39m)\n",
      "\u001b[0;31mTypeError\u001b[0m: plot() takes 1 positional argument but 3 were given"
     ]
    }
   ],
   "source": [
    "plot(10,'red','Results') # error"
   ]
  },
  {
   "cell_type": "markdown",
   "id": "44ab63ec-4504-4016-92ca-74ab6604530d",
   "metadata": {},
   "source": [
    "> Note that in positional-only parameters, the arguments for parameters listed before the ‘ / ’ should be passed as positional arguments. Whereas in keyword-only parameters, the arguments for parameters listed after ‘ * ’ should be passed as keyword arguments. "
   ]
  },
  {
   "cell_type": "markdown",
   "id": "0f79878a-ffe2-4300-8cc9-1d851bbffbe3",
   "metadata": {},
   "source": [
    "Some points to note:\n",
    "- Any parameter defined after a * must be passed by keyword\n",
    "- When functions take several arguments, especially optional ones, requiring names makes the code easier to understand\n",
    "- Positional mistakes are avoided, since parameters after * won’t accept values without names\n",
    "\n",
    "Keyword-only parameters help enforce clarity and structure in function calls."
   ]
  },
  {
   "cell_type": "markdown",
   "id": "9b66de3e-228f-4b32-ba07-1d37e6e14654",
   "metadata": {},
   "source": [
    "## 8. Function as an Argument\n",
    "\n",
    "In Python, functions are **first-class objects**, which means you can:\n",
    "- Pass them as arguments\n",
    "- Store them in variables\n",
    "- Return them from other functions\n",
    "\n",
    "This allows us to use __functions as arguments__ to other functions, enabling powerful programming patterns like custom sorting, filtering, callbacks, and workflow control."
   ]
  },
  {
   "cell_type": "markdown",
   "id": "23a00afa-106b-4d11-a70e-99da65f730be",
   "metadata": {},
   "source": [
    "#### Business Use Case: Applying a Transformation to a List of Numbers\n",
    "\n",
    "Imagine you have a list of numbers (like sales, scores, or values) and want to apply a transformation — such as doubling, squaring, or converting to percentage.\n",
    "\n",
    "Instead of writing multiple functions, you can write one general function that takes another function as input and applies it to each item in the list."
   ]
  },
  {
   "cell_type": "code",
   "execution_count": 69,
   "id": "4693dbae-2b46-45e0-8071-49f56029d97a",
   "metadata": {},
   "outputs": [],
   "source": [
    "# Function to apply any transformation function to a list of numbers\n",
    "# Arguments:\n",
    "#   data_list → a list of numbers\n",
    "#   func → a function that defines how each number should be transformed\n",
    "\n",
    "def apply_transformation(data_list, func):\n",
    "    transformed = [func(x) for x in data_list]\n",
    "    print(f\"Original: {data_list}\")\n",
    "    print(f\"Transformed: {transformed}\")\n"
   ]
  },
  {
   "cell_type": "code",
   "execution_count": 70,
   "id": "7786b3fe-dbb5-4eff-ab54-eec7c318b45e",
   "metadata": {},
   "outputs": [],
   "source": [
    "# Some transformation functions\n",
    "\n",
    "def double(x):\n",
    "    return x * 2\n",
    "\n",
    "def square(x):\n",
    "    return x ** 2\n",
    "\n",
    "def to_percentage(x):\n",
    "    return x * 100"
   ]
  },
  {
   "cell_type": "code",
   "execution_count": 71,
   "id": "12525743-62fb-462e-b0a4-845e14bf9a40",
   "metadata": {},
   "outputs": [
    {
     "name": "stdout",
     "output_type": "stream",
     "text": [
      "Original: [1, 2, 3, 4]\n",
      "Transformed: [2, 4, 6, 8]\n"
     ]
    }
   ],
   "source": [
    "# Example usage\n",
    "\n",
    "apply_transformation([1, 2, 3, 4], double)"
   ]
  },
  {
   "cell_type": "code",
   "execution_count": 72,
   "id": "859970ca-165b-424c-a980-4209cc9cd562",
   "metadata": {},
   "outputs": [
    {
     "name": "stdout",
     "output_type": "stream",
     "text": [
      "Original: [1, 2, 3, 4]\n",
      "Transformed: [1, 4, 9, 16]\n"
     ]
    }
   ],
   "source": [
    "# Example usage\n",
    "\n",
    "apply_transformation([1, 2, 3, 4], square)"
   ]
  },
  {
   "cell_type": "code",
   "execution_count": 73,
   "id": "cfb3359c-cf3f-4b86-9153-749bb97c2307",
   "metadata": {},
   "outputs": [
    {
     "name": "stdout",
     "output_type": "stream",
     "text": [
      "Original: [0.1, 0.25, 0.4]\n",
      "Transformed: [10.0, 25.0, 40.0]\n"
     ]
    }
   ],
   "source": [
    "# Example usage\n",
    "\n",
    "apply_transformation([0.1, 0.25, 0.4], to_percentage)"
   ]
  },
  {
   "cell_type": "markdown",
   "id": "f940d252-f6dc-43da-8aa8-198d46bccd88",
   "metadata": {},
   "source": [
    "This concept is central to many Python libraries and tools used in data science and machine learning. Whether you're specifying a custom function for training a model or a transformation rule in data processing, passing functions as arguments allows for flexible, reusable, and modular code."
   ]
  },
  {
   "cell_type": "code",
   "execution_count": 74,
   "id": "11f565ca-ff06-487c-88ff-f6f3f26276d3",
   "metadata": {},
   "outputs": [],
   "source": [
    "# Another example\n",
    "def apply_twice(func,x):\n",
    "    return func(func(x))\n",
    "\n",
    "def square(n):\n",
    "    return n*n"
   ]
  },
  {
   "cell_type": "code",
   "execution_count": 75,
   "id": "63b69229-e7c8-4286-b6ff-dba090c97289",
   "metadata": {},
   "outputs": [
    {
     "data": {
      "text/plain": [
       "16"
      ]
     },
     "execution_count": 75,
     "metadata": {},
     "output_type": "execute_result"
    }
   ],
   "source": [
    "apply_twice(square,2)"
   ]
  },
  {
   "cell_type": "markdown",
   "id": "32461489-dde9-431f-8a11-c34edd8cb2fc",
   "metadata": {},
   "source": [
    "You saw how we can assign functions to variables, pass them into other functions, and return them as values. These can prove useful for custom operations like creating flexible data processing pipelines. Many Python functions (like map(), filter(), or sorted()) expect a function as one of their arguments.\n",
    "\n",
    "\n",
    "Being able to pass functions around lets you design cleaner, more abstract code. It supports reuse and allows for easy customisation, which is especially valuable when building ML pipelines, scoring systems, or interactive tools."
   ]
  },
  {
   "cell_type": "code",
   "execution_count": null,
   "id": "5f165a57-fbb7-4e1c-bbfc-0c0df6b9e11c",
   "metadata": {},
   "outputs": [],
   "source": []
  }
 ],
 "metadata": {
  "kernelspec": {
   "display_name": "Python [conda env:base] *",
   "language": "python",
   "name": "conda-base-py"
  },
  "language_info": {
   "codemirror_mode": {
    "name": "ipython",
    "version": 3
   },
   "file_extension": ".py",
   "mimetype": "text/x-python",
   "name": "python",
   "nbconvert_exporter": "python",
   "pygments_lexer": "ipython3",
   "version": "3.13.5"
  },
  "widgets": {
   "application/vnd.jupyter.widget-state+json": {
    "state": {},
    "version_major": 2,
    "version_minor": 0
   }
  }
 },
 "nbformat": 4,
 "nbformat_minor": 5
}
