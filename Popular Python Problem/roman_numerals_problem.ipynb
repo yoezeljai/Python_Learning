{
 "cells": [
  {
   "cell_type": "markdown",
   "id": "1b18be5f-b762-4a5a-a816-bbfe3bba4f20",
   "metadata": {},
   "source": [
    "**Problem :** *Write a program that can convert an integer from the Roman number system to the decimal system. The Roman number system has the following values for its symbols:*\n",
    "\n",
    "- *I = 1*\n",
    "- *V = 5*\n",
    "- *X = 10*\n",
    "- *L = 50*\n",
    "- *C = 100*\n",
    "- *D = 500*\n",
    "- *M = 1000*\n",
    "\n",
    "*Furthermore, some Roman numerals are subtractive in nature. This occurs when the numeral in a previous tier was placed before the numeral, not after. Not every subtractive is valid; for instance, ‘IM’ does not mean anything. The valid subtractives are as follows:*\n",
    "\n",
    "- *IV = 4 (5 - 1)*\n",
    "- *IX = 9 (10 - 1)*\n",
    "- *XL = 40 (50 - 10)*\n",
    "- *XC = 90 (100 - 10)*\n",
    "- *CD = 400 (500 - 100)*\n",
    "- *CM = 900 (1000 - 100)*"
   ]
  },
  {
   "cell_type": "markdown",
   "id": "5ff649e0-59e3-43de-b617-51c3b9f6790d",
   "metadata": {},
   "source": [
    "**Coding the Program**"
   ]
  },
  {
   "cell_type": "code",
   "execution_count": 2,
   "id": "9c73e3ab-13ff-4839-a6bf-388050a3f3b0",
   "metadata": {},
   "outputs": [],
   "source": [
    "def roman_to_decimal(roman):\n",
    "    # Mapping to Roman numerals to their decimal values.\n",
    "    roman_to_value = {\n",
    "        'I':1,'V':5,'X':10,'L':50,'C':100,'D':500,'M':1000 }\n",
    "\n",
    "    # Subtractives like 'IM' are invalid; 999 is instead given by 'CMXCIX'\n",
    "    valid_subtractives = {'IV','IX','XL','XC','CD','CM'}\n",
    "\n",
    "    total = 0 # stores sum of decimal values.\n",
    "    i = 0 # iterator\n",
    "\n",
    "    # Loop through the Roman numeral string\n",
    "    while i<len(roman):\n",
    "            # First check if the next element is still in the string, then check if we're at a subtractive combination\n",
    "        if i+1 < len(roman) and roman[i]+roman[i+1] in valid_subtractives:\n",
    "            total+=roman_to_value[roman[i+1]]-roman_to_value[roman[i]]\n",
    "            i+=2 # skip the next character since it's part of the combination\n",
    "        else: # Else, just add the decimal value of the character\n",
    "            total+=roman_to_value[roman[i]]\n",
    "            i+=1\n",
    "    return total"
   ]
  },
  {
   "cell_type": "code",
   "execution_count": 5,
   "id": "21fce1c5-5593-4897-85f7-5b0f42126fed",
   "metadata": {},
   "outputs": [
    {
     "name": "stdin",
     "output_type": "stream",
     "text": [
      "Roman Number: CL\n"
     ]
    },
    {
     "data": {
      "text/plain": [
       "150"
      ]
     },
     "execution_count": 5,
     "metadata": {},
     "output_type": "execute_result"
    }
   ],
   "source": [
    "roman_number = input('Roman Number:')\n",
    "roman_to_decimal(roman_number)"
   ]
  },
  {
   "cell_type": "code",
   "execution_count": 7,
   "id": "86bf79f5-3291-4da3-bb97-06303c804c36",
   "metadata": {},
   "outputs": [
    {
     "data": {
      "text/plain": [
       "2"
      ]
     },
     "execution_count": 7,
     "metadata": {},
     "output_type": "execute_result"
    }
   ],
   "source": [
    "roman_to_decimal('II')"
   ]
  },
  {
   "cell_type": "code",
   "execution_count": 8,
   "id": "231d6983-7308-4cef-a040-012d73176038",
   "metadata": {},
   "outputs": [
    {
     "data": {
      "text/plain": [
       "2000"
      ]
     },
     "execution_count": 8,
     "metadata": {},
     "output_type": "execute_result"
    }
   ],
   "source": [
    "roman_to_decimal('MM')"
   ]
  },
  {
   "cell_type": "code",
   "execution_count": 9,
   "id": "6dda6f30-2e3a-4c47-b0d6-d75072d3423e",
   "metadata": {},
   "outputs": [
    {
     "data": {
      "text/plain": [
       "40"
      ]
     },
     "execution_count": 9,
     "metadata": {},
     "output_type": "execute_result"
    }
   ],
   "source": [
    "roman_to_decimal('XL')"
   ]
  },
  {
   "cell_type": "code",
   "execution_count": 10,
   "id": "78fc4214-31d7-4437-981e-591a253fcd4f",
   "metadata": {},
   "outputs": [
    {
     "data": {
      "text/plain": [
       "900"
      ]
     },
     "execution_count": 10,
     "metadata": {},
     "output_type": "execute_result"
    }
   ],
   "source": [
    "roman_to_decimal('CM')"
   ]
  },
  {
   "cell_type": "code",
   "execution_count": 11,
   "id": "99e2f1f8-895c-46bc-b911-47968acb7eaa",
   "metadata": {},
   "outputs": [
    {
     "data": {
      "text/plain": [
       "1994"
      ]
     },
     "execution_count": 11,
     "metadata": {},
     "output_type": "execute_result"
    }
   ],
   "source": [
    "roman_to_decimal('MCMXCIV')"
   ]
  },
  {
   "cell_type": "code",
   "execution_count": 12,
   "id": "6f8fdf2c-642c-41d3-9fdf-97ef30b8bd93",
   "metadata": {},
   "outputs": [
    {
     "data": {
      "text/plain": [
       "3845"
      ]
     },
     "execution_count": 12,
     "metadata": {},
     "output_type": "execute_result"
    }
   ],
   "source": [
    "roman_to_decimal('MMMDCCCXLV')"
   ]
  }
 ],
 "metadata": {
  "kernelspec": {
   "display_name": "Python [conda env:base] *",
   "language": "python",
   "name": "conda-base-py"
  },
  "language_info": {
   "codemirror_mode": {
    "name": "ipython",
    "version": 3
   },
   "file_extension": ".py",
   "mimetype": "text/x-python",
   "name": "python",
   "nbconvert_exporter": "python",
   "pygments_lexer": "ipython3",
   "version": "3.13.5"
  }
 },
 "nbformat": 4,
 "nbformat_minor": 5
}
