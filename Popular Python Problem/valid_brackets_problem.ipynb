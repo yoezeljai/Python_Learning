{
 "cells": [
  {
   "cell_type": "markdown",
   "id": "e00702ad-e029-4cf3-a292-325919ad7a62",
   "metadata": {},
   "source": [
    "***Problem :** Given a string containing just the characters {, }, (, ), [ and ]. Find out if this string is valid.* \n",
    "\n",
    "*The string is valid if:*\n",
    "\n",
    "- *Every opening bracket is closed by a bracket of the same type*\n",
    "- *Every closing bracket has previously been opened by an opening bracket of the same type*\n",
    "- *Opening brackets are closed in the correct order*\n",
    "\n",
    "**Examples:**\n",
    "\n",
    "- ‘{([])}’ is valid\n",
    "- ‘{}()[]’ is valid\n",
    "- ‘{(})’ is invalid\n",
    "- ‘(({}’ is invalid\n",
    "- ‘}’ is invalid\n",
    "- ‘(’ is invalid"
   ]
  },
  {
   "cell_type": "code",
   "execution_count": 1,
   "id": "aa532f9f-232b-4e3a-b54d-5edd7dcd7e27",
   "metadata": {},
   "outputs": [],
   "source": [
    "def are_brackets_valid(string):\n",
    "    stack = [] # Stores opening brackets encountered\n",
    "\n",
    "    # A mapping from closing brackets to their corresponding opening brackets.\n",
    "    mapping = {')':'(',']':'[','}':'{'}\n",
    "\n",
    "    for bracket in string:\n",
    "        if bracket in mapping: # if a closing bracket is encountered\n",
    "\n",
    "            # If the stack is empty, return False immediately\n",
    "            if not stack: return False\n",
    "\n",
    "            # pop the top of the stack\n",
    "            top_element = stack.pop()\n",
    "\n",
    "            # If the popped element doesn't match the corresponding opening bracket\n",
    "            if top_element!=mapping[bracket]: return False\n",
    "     \n",
    "        else: stack.append(bracket) # if an opening bracket is encountered, add it to the stack\n",
    "\n",
    "    # If the stack is empty, ,all brackets were properly matched.\n",
    "    return not stack"
   ]
  },
  {
   "cell_type": "code",
   "execution_count": 3,
   "id": "9798ee2b-d4d3-4e99-927c-1974359ccd58",
   "metadata": {},
   "outputs": [
    {
     "name": "stdin",
     "output_type": "stream",
     "text": [
      "string: {}\n"
     ]
    },
    {
     "data": {
      "text/plain": [
       "True"
      ]
     },
     "execution_count": 3,
     "metadata": {},
     "output_type": "execute_result"
    }
   ],
   "source": [
    "string_to_test = input('string:')\n",
    "are_brackets_valid(string_to_test)"
   ]
  },
  {
   "cell_type": "markdown",
   "id": "d42cc3e7-dd62-416c-af63-38c5edb077ed",
   "metadata": {},
   "source": [
    "**Testing the Program**"
   ]
  },
  {
   "cell_type": "code",
   "execution_count": 5,
   "id": "ae93a350-5ff1-4eb5-b4a0-49698c10a3f5",
   "metadata": {},
   "outputs": [
    {
     "data": {
      "text/plain": [
       "True"
      ]
     },
     "execution_count": 5,
     "metadata": {},
     "output_type": "execute_result"
    }
   ],
   "source": [
    "are_brackets_valid('{([])}')"
   ]
  },
  {
   "cell_type": "code",
   "execution_count": 6,
   "id": "6de9d5ed-66c9-42a0-94b5-fdb647cf0527",
   "metadata": {},
   "outputs": [
    {
     "data": {
      "text/plain": [
       "True"
      ]
     },
     "execution_count": 6,
     "metadata": {},
     "output_type": "execute_result"
    }
   ],
   "source": [
    "are_brackets_valid('{}()[]')"
   ]
  },
  {
   "cell_type": "code",
   "execution_count": 8,
   "id": "91f1b3d7-7173-47bf-8947-1a3584407873",
   "metadata": {},
   "outputs": [
    {
     "data": {
      "text/plain": [
       "False"
      ]
     },
     "execution_count": 8,
     "metadata": {},
     "output_type": "execute_result"
    }
   ],
   "source": [
    "are_brackets_valid('{(})')"
   ]
  },
  {
   "cell_type": "code",
   "execution_count": 9,
   "id": "517964af-f21e-4aba-865c-4657827424b9",
   "metadata": {},
   "outputs": [
    {
     "data": {
      "text/plain": [
       "False"
      ]
     },
     "execution_count": 9,
     "metadata": {},
     "output_type": "execute_result"
    }
   ],
   "source": [
    "are_brackets_valid('(({}')"
   ]
  },
  {
   "cell_type": "code",
   "execution_count": 10,
   "id": "ccde3b37-bfb6-4fb9-9b68-77393f4f680b",
   "metadata": {},
   "outputs": [
    {
     "data": {
      "text/plain": [
       "False"
      ]
     },
     "execution_count": 10,
     "metadata": {},
     "output_type": "execute_result"
    }
   ],
   "source": [
    "are_brackets_valid('}')"
   ]
  },
  {
   "cell_type": "code",
   "execution_count": 11,
   "id": "1953bc1e-8cbb-4ee3-8016-95f33a0fc730",
   "metadata": {},
   "outputs": [
    {
     "data": {
      "text/plain": [
       "False"
      ]
     },
     "execution_count": 11,
     "metadata": {},
     "output_type": "execute_result"
    }
   ],
   "source": [
    "are_brackets_valid('(')"
   ]
  }
 ],
 "metadata": {
  "kernelspec": {
   "display_name": "Python [conda env:base] *",
   "language": "python",
   "name": "conda-base-py"
  },
  "language_info": {
   "codemirror_mode": {
    "name": "ipython",
    "version": 3
   },
   "file_extension": ".py",
   "mimetype": "text/x-python",
   "name": "python",
   "nbconvert_exporter": "python",
   "pygments_lexer": "ipython3",
   "version": "3.13.5"
  }
 },
 "nbformat": 4,
 "nbformat_minor": 5
}
