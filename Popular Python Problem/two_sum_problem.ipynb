{
 "cells": [
  {
   "cell_type": "markdown",
   "id": "24326743-2dbe-4108-9db8-780d1997aee0",
   "metadata": {},
   "source": [
    "**Problem** : Create a function that takes an array with unique elements and an integer as input and checks if the integer is the sum of any two integers in the array.\n",
    "**Note** : In python, a list is a type of dynamic array. "
   ]
  },
  {
   "cell_type": "markdown",
   "id": "1ef60bae-2a70-417d-a85f-6360705e0c83",
   "metadata": {},
   "source": [
    "**Step 1 - Understanding the problem**\n",
    "\n",
    "**Input**: An integer array and an interger\n",
    "\n",
    "**Output**: An array containing arrays of all the elements whose sum is equal to the input interger\n",
    "\n",
    "**Test Cases:**\n",
    "\n",
    "Input :\n",
    "    Array: [1,2,3,4,5]\n",
    "    Target sum: 4\n",
    "Expected output:\n",
    "    [[1,3]]\n",
    "\n",
    "Input :\n",
    "    Array: [-4,3,5,4,-3]\n",
    "    Target sum: 0\n",
    "Expected output:\n",
    "    [[-4,4],[-3,3]]\n",
    "\n",
    "Input :\n",
    "    Array: [7,4,3,2,10,5]\n",
    "    Target sum: -5\n",
    "Expected output:\n",
    "    []\n",
    "\n",
    "Input :\n",
    "    Array: [2,11,15,7]\n",
    "    Target sum: 9\n",
    "Expected output:\n",
    "    [[2,7]]\n",
    "\n",
    "Input :\n",
    "    Array: [-2,-4,-5,-1,-6]\n",
    "    Target sum: -6\n",
    "Expected output:\n",
    "    [[-5,-1],[-4,-2]]\n",
    "\n",
    "**Step 2 - Planning an approach**\n",
    "- Read input array and the target sun\n",
    "- Initialise output array and two pointers :'left',starting at the beginning of the array and 'right' at the end\n",
    "- Run a while loop which stops when 'left' and 'right' meet\n",
    "    * If the sum of elements at 'left' and 'right is less than the target, increment 'left'\n",
    "    * If the sum of elements at 'left' & 'right are equal, append elements to output array;increment 'left' and decrement 'right'\n",
    "    * If the sum of elements at 'left' and 'right' is greater than the target, decrement 'right'\n",
    "- Return the output array"
   ]
  },
  {
   "cell_type": "markdown",
   "id": "7d43e059-9477-4f0d-ab75-c39ea9fcaf52",
   "metadata": {},
   "source": [
    "**Step 3 - Coding the program**"
   ]
  },
  {
   "cell_type": "code",
   "execution_count": 4,
   "id": "7c61c421-3eab-4f89-ad39-9243263d043b",
   "metadata": {},
   "outputs": [],
   "source": [
    "\n",
    "def is_sum_present(arr,target):\n",
    "    # List to store the output\n",
    "    output = []\n",
    "    \n",
    "    # Left pointer starts at the first index;right pointer starts at the last index\n",
    "    left = 0\n",
    "    right = len(arr)-1\n",
    "    \n",
    "    # Sort the array, so that the left pointer always moves to a greater element while the right pointer moves to a smaller element.\n",
    "    arr.sort()\n",
    "\n",
    "    while(left<right): # the loop halts when the pointer meet\n",
    "        if arr[left] + arr[right] == target: # if the sum equals the target, the elements are appended and left is incremented while right is decremented. \n",
    "            output.append([arr[left],arr[right]])\n",
    "            left+=1\n",
    "            right-=1\n",
    "        elif arr[left]+arr[right]>target: # if the sum is greater than the target, the right pointer moves left (to a smaller element)\n",
    "            right-=1\n",
    "        else: #if the sum is lesser than the target, the left pointer moves right(to a larger element)\n",
    "            left+=1\n",
    "    return output"
   ]
  },
  {
   "cell_type": "code",
   "execution_count": 6,
   "id": "bd85113b-83a9-4096-a332-134b7dafd4b9",
   "metadata": {},
   "outputs": [
    {
     "name": "stdin",
     "output_type": "stream",
     "text": [
      "Enter number of elements: 5\n",
      "Enter element1: 1\n",
      "Enter element2: 2\n",
      "Enter element3: 3\n",
      "Enter element4: 4\n",
      "Enter element5: 5\n"
     ]
    },
    {
     "name": "stdout",
     "output_type": "stream",
     "text": [
      "[1, 2, 3, 4, 5]\n"
     ]
    },
    {
     "name": "stdin",
     "output_type": "stream",
     "text": [
      "Enter the target sum: 5\n"
     ]
    },
    {
     "name": "stdout",
     "output_type": "stream",
     "text": [
      "[[1, 4], [2, 3]]\n"
     ]
    }
   ],
   "source": [
    "n = int(input('Enter number of elements:'))\n",
    "\n",
    "arr=[]\n",
    "for i in range(0,n):\n",
    "    elem = int(input('Enter element'+str(i+1)+':'))\n",
    "    #adding the elements\n",
    "    arr.append(elem)\n",
    "\n",
    "print(arr)\n",
    "\n",
    "target = int(input('Enter the target sum:'))\n",
    "\n",
    "output = is_sum_present(arr,target)\n",
    "print(output)"
   ]
  },
  {
   "cell_type": "markdown",
   "id": "5ea71100-d035-45c1-8b64-26b43f84c71f",
   "metadata": {},
   "source": [
    "**Step 4- Testing the Program**"
   ]
  },
  {
   "cell_type": "code",
   "execution_count": 7,
   "id": "798e065f-76c6-4d61-9bfc-3bdcb0106815",
   "metadata": {},
   "outputs": [
    {
     "data": {
      "text/plain": [
       "[[1, 3]]"
      ]
     },
     "execution_count": 7,
     "metadata": {},
     "output_type": "execute_result"
    }
   ],
   "source": [
    "is_sum_present([1,2,3,4,5],4)"
   ]
  },
  {
   "cell_type": "code",
   "execution_count": 8,
   "id": "7c10e903-3e4e-4e72-bd85-620bccf5b045",
   "metadata": {},
   "outputs": [
    {
     "data": {
      "text/plain": [
       "[[-4, 4], [-3, 3]]"
      ]
     },
     "execution_count": 8,
     "metadata": {},
     "output_type": "execute_result"
    }
   ],
   "source": [
    "is_sum_present([-4,3,5,4,-3],0)"
   ]
  },
  {
   "cell_type": "code",
   "execution_count": 9,
   "id": "946e4214-2770-4889-9164-219785c985ef",
   "metadata": {},
   "outputs": [
    {
     "data": {
      "text/plain": [
       "[]"
      ]
     },
     "execution_count": 9,
     "metadata": {},
     "output_type": "execute_result"
    }
   ],
   "source": [
    "is_sum_present([7,4,3,2,10,5],-5)"
   ]
  },
  {
   "cell_type": "code",
   "execution_count": 10,
   "id": "f82b9ac6-3ba9-4f61-a433-7decdd263b21",
   "metadata": {},
   "outputs": [
    {
     "data": {
      "text/plain": [
       "[[2, 7]]"
      ]
     },
     "execution_count": 10,
     "metadata": {},
     "output_type": "execute_result"
    }
   ],
   "source": [
    "is_sum_present([2,11,15,7],9)"
   ]
  },
  {
   "cell_type": "code",
   "execution_count": 12,
   "id": "58799f5f-ea6f-47d3-b7c4-fa8930f06394",
   "metadata": {},
   "outputs": [
    {
     "data": {
      "text/plain": [
       "[[-5, -1], [-4, -2]]"
      ]
     },
     "execution_count": 12,
     "metadata": {},
     "output_type": "execute_result"
    }
   ],
   "source": [
    "is_sum_present([-2,-4,-5,-1,-6],-6)"
   ]
  },
  {
   "cell_type": "code",
   "execution_count": null,
   "id": "ee58a162-16fc-4797-9684-e1a87faad2c9",
   "metadata": {},
   "outputs": [],
   "source": []
  }
 ],
 "metadata": {
  "kernelspec": {
   "display_name": "Python [conda env:base] *",
   "language": "python",
   "name": "conda-base-py"
  },
  "language_info": {
   "codemirror_mode": {
    "name": "ipython",
    "version": 3
   },
   "file_extension": ".py",
   "mimetype": "text/x-python",
   "name": "python",
   "nbconvert_exporter": "python",
   "pygments_lexer": "ipython3",
   "version": "3.13.5"
  }
 },
 "nbformat": 4,
 "nbformat_minor": 5
}
